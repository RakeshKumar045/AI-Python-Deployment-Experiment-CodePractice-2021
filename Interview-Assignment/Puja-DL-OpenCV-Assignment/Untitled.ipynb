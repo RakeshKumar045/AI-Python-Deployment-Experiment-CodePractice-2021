{
 "cells": [
  {
   "cell_type": "code",
   "execution_count": 1,
   "metadata": {},
   "outputs": [],
   "source": [
    "# importing the necessary libraries\n",
    "import cv2\n",
    "import numpy as np\n",
    "\n",
    "\n",
    "\n"
   ]
  },
  {
   "cell_type": "code",
   "execution_count": 2,
   "metadata": {},
   "outputs": [],
   "source": [
    "# Creating a VideoCapture object to read the video\n",
    "cap = cv2.VideoCapture('video_cp.mp4')\n"
   ]
  },
  {
   "cell_type": "code",
   "execution_count": 3,
   "metadata": {},
   "outputs": [
    {
     "name": "stdout",
     "output_type": "stream",
     "text": [
      "[[[ 81  74  71]\n",
      "  [ 81  74  71]\n",
      "  [ 81  74  71]\n",
      "  ...\n",
      "  [197 195 191]\n",
      "  [197 195 191]\n",
      "  [197 195 191]]\n",
      "\n",
      " [[ 81  74  71]\n",
      "  [ 81  74  71]\n",
      "  [ 81  74  71]\n",
      "  ...\n",
      "  [197 195 191]\n",
      "  [197 195 191]\n",
      "  [197 195 191]]\n",
      "\n",
      " [[ 81  74  71]\n",
      "  [ 81  74  71]\n",
      "  [ 81  74  71]\n",
      "  ...\n",
      "  [197 195 191]\n",
      "  [197 195 191]\n",
      "  [197 195 191]]\n",
      "\n",
      " ...\n",
      "\n",
      " [[ 42  48  77]\n",
      "  [ 44  50  79]\n",
      "  [ 44  50  79]\n",
      "  ...\n",
      "  [ 33  33  45]\n",
      "  [ 32  32  44]\n",
      "  [ 33  33  45]]\n",
      "\n",
      " [[ 42  49  76]\n",
      "  [ 43  50  77]\n",
      "  [ 44  50  79]\n",
      "  ...\n",
      "  [ 33  33  45]\n",
      "  [ 32  32  44]\n",
      "  [ 32  32  44]]\n",
      "\n",
      " [[ 42  49  76]\n",
      "  [ 43  50  77]\n",
      "  [ 44  50  79]\n",
      "  ...\n",
      "  [ 33  33  45]\n",
      "  [ 32  32  44]\n",
      "  [ 32  32  44]]]\n"
     ]
    }
   ],
   "source": [
    "ret, frame = cap.read()\n",
    "print(frame)"
   ]
  },
  {
   "cell_type": "code",
   "execution_count": 5,
   "metadata": {},
   "outputs": [
    {
     "ename": "error",
     "evalue": "OpenCV(4.5.3) /tmp/pip-req-build-afu9cjzs/opencv/modules/imgproc/src/resize.cpp:4051: error: (-215:Assertion failed) !ssize.empty() in function 'resize'\n",
     "output_type": "error",
     "traceback": [
      "\u001b[0;31m---------------------------------------------------------------------------\u001b[0m",
      "\u001b[0;31merror\u001b[0m                                     Traceback (most recent call last)",
      "\u001b[0;32m<ipython-input-5-49ace0bc2f68>\u001b[0m in \u001b[0;36m<module>\u001b[0;34m\u001b[0m\n\u001b[1;32m      4\u001b[0m         \u001b[0;31m# Capture frame-by-frame\u001b[0m\u001b[0;34m\u001b[0m\u001b[0;34m\u001b[0m\u001b[0;34m\u001b[0m\u001b[0m\n\u001b[1;32m      5\u001b[0m         \u001b[0mret\u001b[0m\u001b[0;34m,\u001b[0m \u001b[0mframe\u001b[0m \u001b[0;34m=\u001b[0m \u001b[0mcap\u001b[0m\u001b[0;34m.\u001b[0m\u001b[0mread\u001b[0m\u001b[0;34m(\u001b[0m\u001b[0;34m)\u001b[0m\u001b[0;34m\u001b[0m\u001b[0;34m\u001b[0m\u001b[0m\n\u001b[0;32m----> 6\u001b[0;31m \tframe = cv2.resize(frame, (54, 54), fx = 0, fy = 0,\n\u001b[0m\u001b[1;32m      7\u001b[0m \t\t\t\t\t\tinterpolation = cv2.INTER_CUBIC)\n\u001b[1;32m      8\u001b[0m \u001b[0;34m\u001b[0m\u001b[0m\n",
      "\u001b[0;31merror\u001b[0m: OpenCV(4.5.3) /tmp/pip-req-build-afu9cjzs/opencv/modules/imgproc/src/resize.cpp:4051: error: (-215:Assertion failed) !ssize.empty() in function 'resize'\n"
     ]
    }
   ],
   "source": [
    "# Loop until the end of the video\n",
    "while (cap.isOpened()):\n",
    "\n",
    "\t# Capture frame-by-frame\n",
    "\tret, frame = cap.read()\n",
    "\tframe = cv2.resize(frame, (54, 54), fx = 0, fy = 0,\n",
    "\t\t\t\t\t\tinterpolation = cv2.INTER_CUBIC)\n",
    "\n",
    "\t# Display the resulting frame\n",
    "\tcv2.imshow('Frame', frame)\n",
    "\n",
    "\t# conversion of BGR to grayscale is necessary to apply this operation\n",
    "\tgray = cv2.cvtColor(frame, cv2.COLOR_BGR2GRAY)\n",
    "\n",
    "\t# adaptive thresholding to use different threshold\n",
    "\t# values on different regions of the frame.\n",
    "\tThresh = cv2.adaptiveThreshold(gray, 255, cv2.ADAPTIVE_THRESH_MEAN_C,\n",
    "\t\t\t\t\t\t\t\t\t\tcv2.THRESH_BINARY_INV, 11, 2)\n",
    "\n",
    "\tcv2.imshow('Thresh', Thresh)\n",
    "\t# define q as the exit button\n",
    "\tif cv2.waitKey(25) & 0xFF == ord('q'):\n",
    "\t\tbreak\n",
    "\n",
    "# release the video capture object\n",
    "cap.release()\n",
    "# Closes all the windows currently opened.\n",
    "cv2.destroyAllWindows()\n"
   ]
  },
  {
   "cell_type": "code",
   "execution_count": null,
   "metadata": {},
   "outputs": [],
   "source": []
  },
  {
   "cell_type": "code",
   "execution_count": 1,
   "metadata": {},
   "outputs": [
    {
     "ename": "NameError",
     "evalue": "name 'cap' is not defined",
     "output_type": "error",
     "traceback": [
      "\u001b[0;31m---------------------------------------------------------------------------\u001b[0m",
      "\u001b[0;31mNameError\u001b[0m                                 Traceback (most recent call last)",
      "\u001b[0;32m<ipython-input-1-ef6422f9843c>\u001b[0m in \u001b[0;36m<module>\u001b[0;34m\u001b[0m\n\u001b[1;32m      1\u001b[0m \u001b[0;31m# Loop until the end of the video\u001b[0m\u001b[0;34m\u001b[0m\u001b[0;34m\u001b[0m\u001b[0;34m\u001b[0m\u001b[0m\n\u001b[0;32m----> 2\u001b[0;31m \u001b[0;32mwhile\u001b[0m \u001b[0;34m(\u001b[0m\u001b[0mcap\u001b[0m\u001b[0;34m.\u001b[0m\u001b[0misOpened\u001b[0m\u001b[0;34m(\u001b[0m\u001b[0;34m)\u001b[0m\u001b[0;34m)\u001b[0m\u001b[0;34m:\u001b[0m\u001b[0;34m\u001b[0m\u001b[0;34m\u001b[0m\u001b[0m\n\u001b[0m\u001b[1;32m      3\u001b[0m     \u001b[0;31m# Capture frame-by-frame\u001b[0m\u001b[0;34m\u001b[0m\u001b[0;34m\u001b[0m\u001b[0;34m\u001b[0m\u001b[0m\n\u001b[1;32m      4\u001b[0m     \u001b[0mret\u001b[0m\u001b[0;34m,\u001b[0m \u001b[0mframe\u001b[0m \u001b[0;34m=\u001b[0m \u001b[0mcap\u001b[0m\u001b[0;34m.\u001b[0m\u001b[0mread\u001b[0m\u001b[0;34m(\u001b[0m\u001b[0;34m)\u001b[0m\u001b[0;34m\u001b[0m\u001b[0;34m\u001b[0m\u001b[0m\n\u001b[1;32m      5\u001b[0m     frame = cv2.resize(frame, (54, 54), fx = 0, fy = 0,\n",
      "\u001b[0;31mNameError\u001b[0m: name 'cap' is not defined"
     ]
    }
   ],
   "source": [
    "# Loop until the end of the video\n",
    "while (cap.isOpened()):\n",
    "    # Capture frame-by-frame\n",
    "    ret, frame = cap.read()\n",
    "    frame = cv2.resize(frame, (54, 54), fx = 0, fy = 0,\n",
    "                         interpolation = cv2.INTER_CUBIC)\n",
    " \n",
    "    # Display the resulting frame\n",
    "    cv2.imshow('Frame', frame)\n",
    " \n",
    "    # using cv2.Gaussianblur() method to blur the video\n",
    " \n",
    "    # (5, 5) is the kernel size for blurring.\n",
    "    gaussianblur = cv2.GaussianBlur(frame, (5, 5), 0)\n",
    "    cv2.imshow('gblur', gaussianblur)\n",
    " \n",
    "    # define q as the exit button\n",
    "    if cv2.waitKey(25) & 0xFF == ord('q'):\n",
    "        break\n",
    " \n",
    "# release the video capture object\n",
    "cap.release()\n",
    " \n",
    "# Closes all the windows currently opened.\n",
    "cv2.destroyAllWindows()"
   ]
  },
  {
   "cell_type": "code",
   "execution_count": null,
   "metadata": {},
   "outputs": [],
   "source": []
  }
 ],
 "metadata": {
  "kernelspec": {
   "display_name": "Python 3",
   "language": "python",
   "name": "python3"
  },
  "language_info": {
   "codemirror_mode": {
    "name": "ipython",
    "version": 3
   },
   "file_extension": ".py",
   "mimetype": "text/x-python",
   "name": "python",
   "nbconvert_exporter": "python",
   "pygments_lexer": "ipython3",
   "version": "3.8.5"
  }
 },
 "nbformat": 4,
 "nbformat_minor": 4
}
