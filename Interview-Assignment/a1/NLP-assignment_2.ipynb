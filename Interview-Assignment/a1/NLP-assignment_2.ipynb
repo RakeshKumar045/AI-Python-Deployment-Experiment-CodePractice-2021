{
 "cells": [
  {
   "cell_type": "code",
   "execution_count": 1,
   "metadata": {},
   "outputs": [],
   "source": [
    "import pandas as pd\n",
    "import numpy as np\n",
    "import re \n",
    "from sklearn.preprocessing import normalize"
   ]
  },
  {
   "cell_type": "code",
   "execution_count": 17,
   "metadata": {},
   "outputs": [
    {
     "name": "stdout",
     "output_type": "stream",
     "text": [
      "(813, 1)\n"
     ]
    },
    {
     "name": "stderr",
     "output_type": "stream",
     "text": [
      "<ipython-input-17-bd49e55bd241>:3: ParserWarning: Falling back to the 'python' engine because the 'c' engine does not support regex separators (separators > 1 char and different from '\\s+' are interpreted as regex); you can avoid this warning by specifying engine='python'.\n",
      "  vocab = pd.read_csv('brown_vocab_100.txt' , header =None , sep='delimiter')\n"
     ]
    }
   ],
   "source": [
    "\n",
    "# vocab = pd.read_csv('brown_vocab_100.txt' , header =None , sep='delimiter')\n",
    "# print(vocab.shape)"
   ]
  },
  {
   "cell_type": "code",
   "execution_count": 2,
   "metadata": {
    "scrolled": true
   },
   "outputs": [],
   "source": [
    "# vocab.head(2)"
   ]
  },
  {
   "cell_type": "code",
   "execution_count": 40,
   "metadata": {},
   "outputs": [],
   "source": [
    "word_index_dict = {}\n",
    "# vocab = vocab[0]\n",
    "\n",
    "# for ind, word in enumerate(vocab): \n",
    "#     word_index_dict[word] = ind\n",
    "\n",
    "##############################################################\n",
    "\n",
    "with open(\"brown_vocab_100.txt\") as f:\n",
    "    vocab = [line.rstrip('\\n') for line in f]\n",
    "\n",
    "\n",
    "for ind, word in enumerate(vocab): \n",
    "    word_index_dict[word] = ind\n",
    "    \n",
    "    \n",
    "def save_dict_to_file(dic):\n",
    "    f = open('word_to_index_100.txt','w')\n",
    "    f.write(str(dic))\n",
    "    f.close()\n",
    "\n",
    "def load_dict_from_file():\n",
    "    f = open('word_to_index_100.txt','r')\n",
    "    data=f.read()\n",
    "    f.close()\n",
    "    return eval(data)"
   ]
  },
  {
   "cell_type": "code",
   "execution_count": 260,
   "metadata": {},
   "outputs": [],
   "source": [
    "# word_index_dict"
   ]
  },
  {
   "cell_type": "code",
   "execution_count": 37,
   "metadata": {},
   "outputs": [],
   "source": [
    "save_dict_to_file(word_index_dict1)"
   ]
  },
  {
   "cell_type": "code",
   "execution_count": 44,
   "metadata": {},
   "outputs": [],
   "source": [
    "# load_dict_from_file()"
   ]
  },
  {
   "cell_type": "code",
   "execution_count": 9,
   "metadata": {},
   "outputs": [
    {
     "name": "stdout",
     "output_type": "stream",
     "text": [
      "0\n",
      "812\n",
      "813\n"
     ]
    }
   ],
   "source": [
    "print(word_index_dict['all'])\n",
    "print(word_index_dict['resolution'])\n",
    "print(len(word_index_dict))\n"
   ]
  },
  {
   "cell_type": "code",
   "execution_count": null,
   "metadata": {},
   "outputs": [],
   "source": []
  },
  {
   "cell_type": "code",
   "execution_count": null,
   "metadata": {},
   "outputs": [],
   "source": []
  },
  {
   "cell_type": "code",
   "execution_count": 14,
   "metadata": {
    "scrolled": false
   },
   "outputs": [],
   "source": [
    "# Question 2 : \n",
    "# brown = pd.read_csv('brown_100.txt' , header =None , sep='delimiter')\n",
    "# brown.head(3)"
   ]
  },
  {
   "cell_type": "code",
   "execution_count": 1,
   "metadata": {},
   "outputs": [],
   "source": [
    "# #dataframe\n",
    "# a2 = np.zeros(813, dtype = \"int\")\n",
    "# for sent in brown[0]:\n",
    "#     text1 = re.sub('<s>|</s>', ' ', sent)\n",
    "#     text2 = text1.lower().strip().split()\n",
    "#     for word in text2:\n",
    "#         if word in word_index_dict:\n",
    "#             a2[word_index_dict[word]] = a2[word_index_dict[word]] +1\n",
    "            \n",
    "# a2"
   ]
  },
  {
   "cell_type": "code",
   "execution_count": null,
   "metadata": {},
   "outputs": [],
   "source": []
  },
  {
   "cell_type": "code",
   "execution_count": null,
   "metadata": {},
   "outputs": [],
   "source": []
  },
  {
   "cell_type": "code",
   "execution_count": null,
   "metadata": {},
   "outputs": [],
   "source": [
    "#question 2) file"
   ]
  },
  {
   "cell_type": "code",
   "execution_count": 3,
   "metadata": {},
   "outputs": [],
   "source": [
    "with open(\"brown_100.txt\") as f:\n",
    "    brown = [line.rstrip('\\n') for line in f]\n",
    "#     brown = f.readline()\n",
    "# brown = brown[0]\n",
    "# brown"
   ]
  },
  {
   "cell_type": "code",
   "execution_count": 33,
   "metadata": {
    "scrolled": true
   },
   "outputs": [
    {
     "data": {
      "text/plain": [
       "100"
      ]
     },
     "execution_count": 33,
     "metadata": {},
     "output_type": "execute_result"
    }
   ],
   "source": [
    "len(brown)"
   ]
  },
  {
   "cell_type": "code",
   "execution_count": 13,
   "metadata": {},
   "outputs": [
    {
     "data": {
      "text/plain": [
       "\"<s> The Fulton County Grand Jury said Friday an investigation of Atlanta's recent primary election produced `` no evidence '' that any irregularities took place . </s> \""
      ]
     },
     "execution_count": 13,
     "metadata": {},
     "output_type": "execute_result"
    }
   ],
   "source": [
    "brown[0]"
   ]
  },
  {
   "cell_type": "code",
   "execution_count": 49,
   "metadata": {},
   "outputs": [],
   "source": [
    "#file \n",
    "\n",
    "def load_dict_from_file():\n",
    "    f = open('word_to_index_100.txt','r')\n",
    "    data=f.read()\n",
    "    f.close()\n",
    "    return eval(data)\n",
    "\n",
    "word_index_dict = load_dict_from_file()\n",
    "# word_index_dict"
   ]
  },
  {
   "cell_type": "code",
   "execution_count": 50,
   "metadata": {},
   "outputs": [],
   "source": [
    "\n",
    "def count_word(word_input, word_index_dict_input):\n",
    "    count_vector = np.zeros(813, dtype = \"int\")\n",
    "    for sent in word_input:\n",
    "        text1 = re.sub('<s>|</s>', ' ', sent)\n",
    "        text2 = text1.lower().strip().split()\n",
    "        for word in text2:\n",
    "            if word in word_index_dict_input:\n",
    "                count_vector[word_index_dict_input[word]] = count_vector[word_index_dict_input[word]] +1\n",
    "                \n",
    "    return count_vector\n"
   ]
  },
  {
   "cell_type": "code",
   "execution_count": 237,
   "metadata": {},
   "outputs": [],
   "source": [
    "arr2 = count_word(brown, word_index_dict)\n",
    "# arr2"
   ]
  },
  {
   "cell_type": "code",
   "execution_count": 94,
   "metadata": {},
   "outputs": [
    {
     "data": {
      "text/plain": [
       "(813,)"
      ]
     },
     "execution_count": 94,
     "metadata": {},
     "output_type": "execute_result"
    }
   ],
   "source": [
    "arr2.shape"
   ]
  },
  {
   "cell_type": "code",
   "execution_count": 95,
   "metadata": {},
   "outputs": [],
   "source": [
    "# len(arr2)"
   ]
  },
  {
   "cell_type": "code",
   "execution_count": 127,
   "metadata": {},
   "outputs": [],
   "source": [
    "probs = (arr2 / np.sum(arr2))\n",
    "# probs"
   ]
  },
  {
   "cell_type": "code",
   "execution_count": 97,
   "metadata": {},
   "outputs": [
    {
     "data": {
      "text/plain": [
       "(0.0004409171075837742, 0.003968253968253968)"
      ]
     },
     "execution_count": 97,
     "metadata": {},
     "output_type": "execute_result"
    }
   ],
   "source": [
    "probs[0] , probs[-1]"
   ]
  },
  {
   "cell_type": "code",
   "execution_count": 98,
   "metadata": {},
   "outputs": [
    {
     "data": {
      "text/plain": [
       "'\\nWrite your new probs vector to a file called unigram_probs.txt and verify that the first probability in it\\n(the probability of ‘all’) is 0.00040519 and that the last probability (probability of ‘resolution’) is 0.00364668.\\n(Note that our model trained on this small corpus has estimated that ‘resolution’ is about 10 times as frequent as \\n‘all’! Models trained on very small corpora are very noisy.)\\n'"
      ]
     },
     "execution_count": 98,
     "metadata": {},
     "output_type": "execute_result"
    }
   ],
   "source": [
    "\"\"\"\n",
    "Write your new probs vector to a file called unigram_probs.txt and verify that the first probability in it\n",
    "(the probability of ‘all’) is 0.00040519 and that the last probability (probability of ‘resolution’) is 0.00364668.\n",
    "(Note that our model trained on this small corpus has estimated that ‘resolution’ is about 10 times as frequent as \n",
    "‘all’! Models trained on very small corpora are very noisy.)\n",
    "\"\"\""
   ]
  },
  {
   "cell_type": "code",
   "execution_count": null,
   "metadata": {},
   "outputs": [],
   "source": []
  },
  {
   "cell_type": "code",
   "execution_count": 104,
   "metadata": {},
   "outputs": [],
   "source": [
    "def GENERATE(word_index_dict, probs, model_type, max_words, start_word):\n",
    "    returnSTR = \"\"\n",
    "    index_word_dict = {v: k for k, v in word_index_dict.items()}\n",
    "    num_words = 0\n",
    "\n",
    "    #been passed a list of probabilities\n",
    "    if model_type == \"unigram\":\n",
    "\n",
    "        #using https://stackoverflow.com/questions/483666/python-reverse-invert-a-mapping\n",
    "        while(True):\n",
    "            wordIndex = np.random.choice(len(word_index_dict), 1, p=list(probs))\n",
    "            word = index_word_dict[wordIndex[0]]\n",
    "            returnSTR += word + \" \"\n",
    "            num_words +=1\n",
    "            if word == \"</s>\" or num_words == max_words:\n",
    "                break\n",
    "\n",
    "        return returnSTR\n",
    "\n",
    "    #been passed a matrix of probabilities, where each row is the previous word. \n",
    "    if model_type == \"bigram\":\n",
    "        returnSTR = start_word + \" \"\n",
    "        prevWord = start_word\n",
    "        while(True):\n",
    "            wordIndex = np.random.choice(len(word_index_dict), 1, p=list(probs[word_index_dict[prevWord]]))\n",
    "            word = index_word_dict[wordIndex[0]]\n",
    "            returnSTR += word + \" \"\n",
    "            num_words +=1\n",
    "            prevWord = word\n",
    "            if word == \"</s>\" or num_words == max_words:\n",
    "                break\n",
    "\n",
    "        return returnSTR\n"
   ]
  },
  {
   "cell_type": "code",
   "execution_count": 105,
   "metadata": {},
   "outputs": [
    {
     "data": {
      "text/plain": [
       "'enabling the '"
      ]
     },
     "execution_count": 105,
     "metadata": {},
     "output_type": "execute_result"
    }
   ],
   "source": [
    "model_type = \"unigram\"\n",
    "\n",
    "# model_type = \"bigram\"\n",
    "\n",
    "max_words = 2\n",
    "\n",
    "start_word = \"all\"\n",
    "\n",
    "GENERATE(word_index_dict, probs, model_type, max_words, start_word)"
   ]
  },
  {
   "cell_type": "code",
   "execution_count": 239,
   "metadata": {},
   "outputs": [],
   "source": [
    "# r = {v : k for k,v in word_index_dict.items()}\n",
    "# r"
   ]
  },
  {
   "cell_type": "code",
   "execution_count": 109,
   "metadata": {},
   "outputs": [
    {
     "data": {
      "text/plain": [
       "3"
      ]
     },
     "execution_count": 109,
     "metadata": {},
     "output_type": "execute_result"
    }
   ],
   "source": [
    "# t = word_index_dict\n",
    "# t[\"rob\"]"
   ]
  },
  {
   "cell_type": "code",
   "execution_count": null,
   "metadata": {},
   "outputs": [],
   "source": []
  },
  {
   "cell_type": "code",
   "execution_count": null,
   "metadata": {},
   "outputs": [],
   "source": [
    "count_vector = np.zeros(813, dtype = \"int\")\n",
    "    for sent in word_input:\n",
    "        text1 = re.sub('<s>|</s>', ' ', sent)\n",
    "        text2 = text1.lower().strip().split()\n",
    "        for word in text2:\n",
    "            if word in word_index_dict_input:\n",
    "                count_vector[word_index_dict_input[word]] = count_vector[word_index_dict_input[word]] +1\n",
    "                "
   ]
  },
  {
   "cell_type": "code",
   "execution_count": 170,
   "metadata": {},
   "outputs": [],
   "source": []
  },
  {
   "cell_type": "code",
   "execution_count": 4,
   "metadata": {},
   "outputs": [],
   "source": [
    "\n",
    "prev = '<s>'\n",
    "dic3 = {}\n",
    "total_count = 0\n",
    "for sent in brown:\n",
    "    text2 = sent.lower().strip().split()\n",
    "    for word in text2:\n",
    "        #print(prev,word)\n",
    "        if not (prev,word) in dic3:\n",
    "            dic3[(prev,word)]=1\n",
    "            prev = word\n",
    "        else:\n",
    "            dic3[(prev,word)]+=1\n",
    "            prev = word\n",
    "            total_count += 1"
   ]
  },
  {
   "cell_type": "code",
   "execution_count": 30,
   "metadata": {},
   "outputs": [],
   "source": [
    "def generate_combination_word(previous, brown_text):\n",
    "    dic_word_count = {}\n",
    "    total_count = 0\n",
    "    \n",
    "    for sent in brown_text:\n",
    "        text = sent.lower().strip().split()\n",
    "        for word in text:\n",
    "            if not (previous,word) in dic_word_count:\n",
    "                dic_word_count[(previous,word)]=1\n",
    "                previous = word\n",
    "            else:\n",
    "                dic_word_count[(previous,word)]+=1\n",
    "                previous = word\n",
    "                total_count += 1\n",
    "                \n",
    "    dic_index_word = {}\n",
    "    count = 0\n",
    "    \n",
    "    for i,v in dic_word_count.items():\n",
    "        dic_index_word[count] = i\n",
    "        count = count + 1\n",
    "        \n",
    "    return dic_word_count, dic_index_word, total_count\n",
    "\n",
    "\n",
    "def count_matrix(dic_word_count_val, dic_index_word_val, total_count_val):\n",
    "    array_count_matrix = np.zeros([len(dic_index_word_val),2])\n",
    "        \n",
    "    for i in range(0, len(dic_index_word_val)):\n",
    "        array_count_matrix[i][0]= int(i)\n",
    "        array_count_matrix[i][1]= dic_word_count_val[dic_index_word_val[i]] / total_count_val\n",
    "        \n",
    "    return array_count_matrix"
   ]
  },
  {
   "cell_type": "code",
   "execution_count": 31,
   "metadata": {},
   "outputs": [],
   "source": [
    "prev = '<s>'\n",
    "dic_word_count_value, dic_index_word_value, total_count_value = generate_combination_word(prev, brown)"
   ]
  },
  {
   "cell_type": "code",
   "execution_count": 32,
   "metadata": {},
   "outputs": [
    {
     "data": {
      "text/plain": [
       "(587, 587)"
      ]
     },
     "execution_count": 32,
     "metadata": {},
     "output_type": "execute_result"
    }
   ],
   "source": [
    "total_count_value, total_count"
   ]
  },
  {
   "cell_type": "code",
   "execution_count": 33,
   "metadata": {},
   "outputs": [],
   "source": [
    "count = count_matrix(dic_word_count_value, dic_index_word_value, total_count_value)"
   ]
  },
  {
   "cell_type": "code",
   "execution_count": 35,
   "metadata": {},
   "outputs": [],
   "source": [
    "from sklearn.preprocessing import normalize\n",
    "probs_2 = normalize(count, norm='l1', axis=1)"
   ]
  },
  {
   "cell_type": "code",
   "execution_count": 36,
   "metadata": {},
   "outputs": [
    {
     "data": {
      "text/plain": [
       "(0.0, 0.013628620102214651)"
      ]
     },
     "execution_count": 36,
     "metadata": {},
     "output_type": "execute_result"
    }
   ],
   "source": [
    "count[0][0], count[6][1]"
   ]
  },
  {
   "cell_type": "code",
   "execution_count": 37,
   "metadata": {},
   "outputs": [
    {
     "data": {
      "text/plain": [
       "array([[0.00000000e+00, 1.00000000e+00],\n",
       "       [9.56026059e-01, 4.39739414e-02],\n",
       "       [9.94915254e-01, 5.08474576e-03],\n",
       "       ...,\n",
       "       [9.99999093e-01, 9.07122453e-07],\n",
       "       [9.99999093e-01, 9.06639685e-07],\n",
       "       [9.99999094e-01, 9.06157430e-07]])"
      ]
     },
     "execution_count": 37,
     "metadata": {},
     "output_type": "execute_result"
    }
   ],
   "source": [
    "probs_2"
   ]
  },
  {
   "cell_type": "code",
   "execution_count": 15,
   "metadata": {},
   "outputs": [],
   "source": [
    "# dic4"
   ]
  },
  {
   "cell_type": "code",
   "execution_count": 5,
   "metadata": {},
   "outputs": [
    {
     "data": {
      "text/plain": [
       "0.0017035775127768314"
      ]
     },
     "execution_count": 5,
     "metadata": {},
     "output_type": "execute_result"
    }
   ],
   "source": [
    "dic3[('all', 'the')] / total_count"
   ]
  },
  {
   "cell_type": "code",
   "execution_count": 54,
   "metadata": {},
   "outputs": [
    {
     "data": {
      "text/plain": [
       "0.9982964224872232"
      ]
     },
     "execution_count": 54,
     "metadata": {},
     "output_type": "execute_result"
    }
   ],
   "source": [
    "1 - 0.0017035775127768314"
   ]
  },
  {
   "cell_type": "code",
   "execution_count": null,
   "metadata": {},
   "outputs": [],
   "source": []
  },
  {
   "cell_type": "code",
   "execution_count": 6,
   "metadata": {},
   "outputs": [],
   "source": [
    "dic4 ={}\n",
    "a=0\n",
    "for i,v in dic3.items():\n",
    "    dic4[a]= i\n",
    "    a=a+1"
   ]
  },
  {
   "cell_type": "code",
   "execution_count": 19,
   "metadata": {},
   "outputs": [
    {
     "data": {
      "text/plain": [
       "1881"
      ]
     },
     "execution_count": 19,
     "metadata": {},
     "output_type": "execute_result"
    }
   ],
   "source": [
    "len(dic4)"
   ]
  },
  {
   "cell_type": "code",
   "execution_count": 8,
   "metadata": {},
   "outputs": [
    {
     "data": {
      "text/plain": [
       "array([[0., 0.],\n",
       "       [0., 0.],\n",
       "       [0., 0.],\n",
       "       ...,\n",
       "       [0., 0.],\n",
       "       [0., 0.],\n",
       "       [0., 0.]])"
      ]
     },
     "execution_count": 8,
     "metadata": {},
     "output_type": "execute_result"
    }
   ],
   "source": [
    "count_matrix = np.zeros([len(dic4),2])\n",
    "count_matrix"
   ]
  },
  {
   "cell_type": "code",
   "execution_count": 9,
   "metadata": {},
   "outputs": [],
   "source": [
    "for i in range(0,1881):\n",
    "    count_matrix[i][0]= int(i)\n",
    "    count_matrix[i][1]= dic3[dic4[i]] / total_count"
   ]
  },
  {
   "cell_type": "code",
   "execution_count": 10,
   "metadata": {},
   "outputs": [
    {
     "data": {
      "text/plain": [
       "array([[0.00000000e+00, 1.70357751e-03],\n",
       "       [1.00000000e+00, 4.59965928e-02],\n",
       "       [2.00000000e+00, 1.02214651e-02],\n",
       "       ...,\n",
       "       [1.87800000e+03, 1.70357751e-03],\n",
       "       [1.87900000e+03, 1.70357751e-03],\n",
       "       [1.88000000e+03, 1.70357751e-03]])"
      ]
     },
     "execution_count": 10,
     "metadata": {},
     "output_type": "execute_result"
    }
   ],
   "source": [
    "\n",
    "count_matrix"
   ]
  },
  {
   "cell_type": "code",
   "execution_count": 11,
   "metadata": {},
   "outputs": [
    {
     "data": {
      "text/plain": [
       "(0.0, 0.013628620102214651)"
      ]
     },
     "execution_count": 11,
     "metadata": {},
     "output_type": "execute_result"
    }
   ],
   "source": [
    "count_matrix[0][0], count_matrix[6][1]"
   ]
  },
  {
   "cell_type": "code",
   "execution_count": 12,
   "metadata": {
    "scrolled": true
   },
   "outputs": [],
   "source": [
    "from sklearn.preprocessing import normalize\n",
    "probs = normalize(count_matrix, norm='l1', axis=1)"
   ]
  },
  {
   "cell_type": "code",
   "execution_count": 13,
   "metadata": {
    "scrolled": true
   },
   "outputs": [
    {
     "data": {
      "text/plain": [
       "array([[0.00000000e+00, 1.00000000e+00],\n",
       "       [9.56026059e-01, 4.39739414e-02],\n",
       "       [9.94915254e-01, 5.08474576e-03],\n",
       "       ...,\n",
       "       [9.99999093e-01, 9.07122453e-07],\n",
       "       [9.99999093e-01, 9.06639685e-07],\n",
       "       [9.99999094e-01, 9.06157430e-07]])"
      ]
     },
     "execution_count": 13,
     "metadata": {},
     "output_type": "execute_result"
    }
   ],
   "source": [
    "probs"
   ]
  },
  {
   "cell_type": "code",
   "execution_count": null,
   "metadata": {
    "scrolled": true
   },
   "outputs": [],
   "source": []
  },
  {
   "cell_type": "code",
   "execution_count": 50,
   "metadata": {
    "scrolled": true
   },
   "outputs": [
    {
     "data": {
      "text/plain": [
       "1"
      ]
     },
     "execution_count": 50,
     "metadata": {},
     "output_type": "execute_result"
    }
   ],
   "source": [
    "# dic_word_count_value\n",
    "('the', 'fulton') in dic_word_count_value\n",
    "dic_word_count_value[('all', 'the')]"
   ]
  },
  {
   "cell_type": "code",
   "execution_count": 53,
   "metadata": {},
   "outputs": [
    {
     "data": {
      "text/plain": [
       "(('<s>', '<s>'), ('the', 'fulton'))"
      ]
     },
     "execution_count": 53,
     "metadata": {},
     "output_type": "execute_result"
    }
   ],
   "source": [
    "dic_index_word_value[0], dic_index_word_value[2]"
   ]
  },
  {
   "cell_type": "code",
   "execution_count": null,
   "metadata": {},
   "outputs": [],
   "source": []
  },
  {
   "cell_type": "code",
   "execution_count": 42,
   "metadata": {},
   "outputs": [
    {
     "ename": "KeyError",
     "evalue": "('the', 'all')",
     "output_type": "error",
     "traceback": [
      "\u001b[0;31m---------------------------------------------------------------------------\u001b[0m",
      "\u001b[0;31mKeyError\u001b[0m                                  Traceback (most recent call last)",
      "\u001b[0;32m<ipython-input-42-994be593a4ca>\u001b[0m in \u001b[0;36m<module>\u001b[0;34m\u001b[0m\n\u001b[1;32m      1\u001b[0m \u001b[0;31m# dic_index_word_value[('the', 'all')]\u001b[0m\u001b[0;34m\u001b[0m\u001b[0;34m\u001b[0m\u001b[0;34m\u001b[0m\u001b[0m\n\u001b[0;32m----> 2\u001b[0;31m \u001b[0mdic_word_count_value\u001b[0m\u001b[0;34m[\u001b[0m\u001b[0;34m(\u001b[0m\u001b[0;34m'the'\u001b[0m\u001b[0;34m,\u001b[0m \u001b[0;34m'all'\u001b[0m\u001b[0;34m)\u001b[0m\u001b[0;34m]\u001b[0m\u001b[0;34m\u001b[0m\u001b[0;34m\u001b[0m\u001b[0m\n\u001b[0m",
      "\u001b[0;31mKeyError\u001b[0m: ('the', 'all')"
     ]
    }
   ],
   "source": [
    "# dic_index_word_value[('the', 'all')]\n",
    "dic_word_count_value[('the', 'all')]"
   ]
  },
  {
   "cell_type": "code",
   "execution_count": 55,
   "metadata": {},
   "outputs": [],
   "source": [
    "# dic_word_count_value"
   ]
  },
  {
   "cell_type": "code",
   "execution_count": 56,
   "metadata": {},
   "outputs": [],
   "source": [
    "# dic_index_word_value"
   ]
  },
  {
   "cell_type": "code",
   "execution_count": 90,
   "metadata": {},
   "outputs": [
    {
     "data": {
      "text/plain": [
       "0.0017035775127768314"
      ]
     },
     "execution_count": 90,
     "metadata": {},
     "output_type": "execute_result"
    }
   ],
   "source": [
    "dic_word_count_value[('all', 'the')] / total_count_value"
   ]
  },
  {
   "cell_type": "code",
   "execution_count": 91,
   "metadata": {},
   "outputs": [
    {
     "data": {
      "text/plain": [
       "(0.0017035775127768314, 0.022146507666098807)"
      ]
     },
     "execution_count": 91,
     "metadata": {},
     "output_type": "execute_result"
    }
   ],
   "source": [
    "dic_word_count_value[('all', 'the')] / total_count , dic_word_count_value[('the', \"jury\")] / total_count"
   ]
  },
  {
   "cell_type": "code",
   "execution_count": 92,
   "metadata": {},
   "outputs": [
    {
     "data": {
      "text/plain": [
       "(0.0017035775127768314, 0.0017035775127768314)"
      ]
     },
     "execution_count": 92,
     "metadata": {},
     "output_type": "execute_result"
    }
   ],
   "source": [
    "dic_word_count_value[('the', \"campaign\")] / total_count , dic_word_count_value[('anonymous', \"calls\")] / total_count"
   ]
  },
  {
   "cell_type": "code",
   "execution_count": null,
   "metadata": {},
   "outputs": [],
   "source": []
  },
  {
   "cell_type": "code",
   "execution_count": null,
   "metadata": {},
   "outputs": [],
   "source": []
  },
  {
   "cell_type": "code",
   "execution_count": 93,
   "metadata": {
    "scrolled": true
   },
   "outputs": [
    {
     "data": {
      "text/plain": [
       "(1, 13)"
      ]
     },
     "execution_count": 93,
     "metadata": {},
     "output_type": "execute_result"
    }
   ],
   "source": [
    "dic_word_count_value[('all', 'the')], dic_word_count_value[('the', \"jury\")],"
   ]
  },
  {
   "cell_type": "code",
   "execution_count": 94,
   "metadata": {},
   "outputs": [
    {
     "data": {
      "text/plain": [
       "(1, 1)"
      ]
     },
     "execution_count": 94,
     "metadata": {},
     "output_type": "execute_result"
    }
   ],
   "source": [
    " dic_word_count_value[('the', \"campaign\")], dic_word_count_value[('anonymous', \"calls\")]"
   ]
  },
  {
   "cell_type": "code",
   "execution_count": 95,
   "metadata": {},
   "outputs": [
    {
     "data": {
      "text/plain": [
       "True"
      ]
     },
     "execution_count": 95,
     "metadata": {},
     "output_type": "execute_result"
    }
   ],
   "source": [
    "val = ('all', 'the')\n",
    "val1 = ('the', \"jury\")\n",
    "val in dic_word_count_value"
   ]
  },
  {
   "cell_type": "code",
   "execution_count": 97,
   "metadata": {},
   "outputs": [
    {
     "data": {
      "text/plain": [
       "13"
      ]
     },
     "execution_count": 97,
     "metadata": {},
     "output_type": "execute_result"
    }
   ],
   "source": [
    "get_value(dic_word_count_value, val1) "
   ]
  },
  {
   "cell_type": "code",
   "execution_count": 99,
   "metadata": {},
   "outputs": [
    {
     "data": {
      "text/plain": [
       "28"
      ]
     },
     "execution_count": 99,
     "metadata": {},
     "output_type": "execute_result"
    }
   ],
   "source": [
    "get_index(dic_index_word_value, val1) "
   ]
  },
  {
   "cell_type": "code",
   "execution_count": null,
   "metadata": {},
   "outputs": [],
   "source": []
  },
  {
   "cell_type": "code",
   "execution_count": 85,
   "metadata": {},
   "outputs": [],
   "source": [
    "# dic3"
   ]
  },
  {
   "cell_type": "code",
   "execution_count": 89,
   "metadata": {},
   "outputs": [
    {
     "data": {
      "text/plain": [
       "4.667313867522963e-06"
      ]
     },
     "execution_count": 89,
     "metadata": {},
     "output_type": "execute_result"
    }
   ],
   "source": [
    "probs[365][1]"
   ]
  },
  {
   "cell_type": "code",
   "execution_count": 70,
   "metadata": {},
   "outputs": [],
   "source": [
    "def get_value(dic, value):\n",
    "    for k, v in dic.items():\n",
    "        if k == value:\n",
    "            return v"
   ]
  },
  {
   "cell_type": "code",
   "execution_count": 76,
   "metadata": {},
   "outputs": [],
   "source": [
    "def get_index(dic, value):\n",
    "    for i, v in dic.items():\n",
    "        if v == value:\n",
    "            return i"
   ]
  },
  {
   "cell_type": "code",
   "execution_count": null,
   "metadata": {},
   "outputs": [],
   "source": [
    "p(the | all)\n",
    "p(jury | the)\n",
    "p(campaign | the)\n",
    "p(calls | anonymous)"
   ]
  },
  {
   "cell_type": "code",
   "execution_count": null,
   "metadata": {},
   "outputs": [],
   "source": []
  },
  {
   "cell_type": "code",
   "execution_count": null,
   "metadata": {},
   "outputs": [],
   "source": [
    "probab = word_dict[word]/ total_count"
   ]
  },
  {
   "cell_type": "code",
   "execution_count": 57,
   "metadata": {},
   "outputs": [],
   "source": [
    "    \n",
    "def save_dict_to_file(prob_matrix):\n",
    "    f = open('bigram_probs.txt','w')\n",
    "    f.write(str(prob_matrix))\n",
    "    f.close()\n",
    "\n",
    "def load_dict_from_file():\n",
    "    f = open('bigram_probs.txt','r')\n",
    "    data=f.read()\n",
    "    f.close()\n",
    "    return eval(data)"
   ]
  },
  {
   "cell_type": "code",
   "execution_count": 58,
   "metadata": {},
   "outputs": [],
   "source": [
    "save_dict_to_file(probs)"
   ]
  },
  {
   "cell_type": "code",
   "execution_count": 59,
   "metadata": {},
   "outputs": [
    {
     "ename": "SyntaxError",
     "evalue": "invalid syntax (<string>, line 1)",
     "output_type": "error",
     "traceback": [
      "Traceback \u001b[0;36m(most recent call last)\u001b[0m:\n",
      "  File \u001b[1;32m\"/home/rakesh/anaconda3/lib/python3.8/site-packages/IPython/core/interactiveshell.py\"\u001b[0m, line \u001b[1;32m3417\u001b[0m, in \u001b[1;35mrun_code\u001b[0m\n    exec(code_obj, self.user_global_ns, self.user_ns)\n",
      "  File \u001b[1;32m\"<ipython-input-59-46540cfa0ace>\"\u001b[0m, line \u001b[1;32m1\u001b[0m, in \u001b[1;35m<module>\u001b[0m\n    prob3 = load_dict_from_file()\n",
      "\u001b[0;36m  File \u001b[0;32m\"<ipython-input-57-cf424026f6c5>\"\u001b[0;36m, line \u001b[0;32m10\u001b[0;36m, in \u001b[0;35mload_dict_from_file\u001b[0;36m\u001b[0m\n\u001b[0;31m    return eval(data)\u001b[0m\n",
      "\u001b[0;36m  File \u001b[0;32m\"<string>\"\u001b[0;36m, line \u001b[0;32m1\u001b[0m\n\u001b[0;31m    [[0.00000000e+00 1.00000000e+00]\u001b[0m\n\u001b[0m                     ^\u001b[0m\n\u001b[0;31mSyntaxError\u001b[0m\u001b[0;31m:\u001b[0m invalid syntax\n"
     ]
    }
   ],
   "source": [
    "# prob3 = load_dict_from_file()"
   ]
  },
  {
   "cell_type": "code",
   "execution_count": null,
   "metadata": {},
   "outputs": [],
   "source": []
  }
 ],
 "metadata": {
  "kernelspec": {
   "display_name": "Python 3",
   "language": "python",
   "name": "python3"
  },
  "language_info": {
   "codemirror_mode": {
    "name": "ipython",
    "version": 3
   },
   "file_extension": ".py",
   "mimetype": "text/x-python",
   "name": "python",
   "nbconvert_exporter": "python",
   "pygments_lexer": "ipython3",
   "version": "3.8.5"
  }
 },
 "nbformat": 4,
 "nbformat_minor": 4
}
