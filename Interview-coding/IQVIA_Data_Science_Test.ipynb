{
 "cells": [
  {
   "cell_type": "code",
   "execution_count": 1,
   "metadata": {},
   "outputs": [],
   "source": [
    "import re"
   ]
  },
  {
   "cell_type": "code",
   "execution_count": 2,
   "metadata": {},
   "outputs": [
    {
     "data": {
      "text/plain": [
       "\"SELECT * FROM (SELECT * FROM sale_order WHERE ds = 'LATEST') so INNER JOIN (SELECT * FROM sale_order WHERE ds = 'LATEST') rp ON so.id = rp.id\""
      ]
     },
     "execution_count": 2,
     "metadata": {},
     "output_type": "execute_result"
    }
   ],
   "source": [
    "def replace_latest_slice(query):\n",
    "    replace_str = \"(SELECT * FROM sale_order WHERE ds = 'LATEST')\"\n",
    "    final_query = re.sub('(latest_slice::\\w+)', replace_str, query)\n",
    "    return final_query\n",
    "    \n",
    "\n",
    "query = \"\"\"SELECT * FROM latest_slice::sale_order so INNER JOIN latest_slice::res_partner rp ON so.id = rp.id\"\"\" \n",
    "replace_latest_slice(query)"
   ]
  },
  {
   "cell_type": "code",
   "execution_count": null,
   "metadata": {},
   "outputs": [],
   "source": []
  }
 ],
 "metadata": {
  "kernelspec": {
   "display_name": "Python 3",
   "language": "python",
   "name": "python3"
  },
  "language_info": {
   "codemirror_mode": {
    "name": "ipython",
    "version": 3
   },
   "file_extension": ".py",
   "mimetype": "text/x-python",
   "name": "python",
   "nbconvert_exporter": "python",
   "pygments_lexer": "ipython3",
   "version": "3.8.5"
  }
 },
 "nbformat": 4,
 "nbformat_minor": 4
}
