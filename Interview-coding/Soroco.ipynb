{
 "cells": [
  {
   "cell_type": "code",
   "execution_count": null,
   "metadata": {},
   "outputs": [],
   "source": []
  },
  {
   "cell_type": "code",
   "execution_count": 4,
   "metadata": {},
   "outputs": [],
   "source": [
    "a = [0]"
   ]
  },
  {
   "cell_type": "code",
   "execution_count": 5,
   "metadata": {},
   "outputs": [
    {
     "name": "stdout",
     "output_type": "stream",
     "text": [
      "0\n"
     ]
    }
   ],
   "source": [
    "for i in a:\n",
    "    print(i)"
   ]
  },
  {
   "cell_type": "code",
   "execution_count": 8,
   "metadata": {},
   "outputs": [],
   "source": [
    "sent1 = [\"amazing\",\"acting\",\"abilities\"]\n",
    "sent2 = [\"fine\",\"theatrics\",\"talent\"]\n",
    "\n",
    "similar_words = [[\"amazing\",\"fine\"],[\"fine\",\"good\"],[\"acting\",\"theatrics\"],[\"abilities\",\"talent\"]]"
   ]
  },
  {
   "cell_type": "code",
   "execution_count": 25,
   "metadata": {},
   "outputs": [
    {
     "name": "stdout",
     "output_type": "stream",
     "text": [
      "[('amazing', 'fine'), ('acting', 'theatrics'), ('abilities', 'talent')]\n"
     ]
    }
   ],
   "source": [
    "l1 = []\n",
    "for i in zip(sent1,  sent2 ):\n",
    "    l1.append(i)\n",
    "    \n",
    "print(l1)"
   ]
  },
  {
   "cell_type": "code",
   "execution_count": null,
   "metadata": {},
   "outputs": [],
   "source": []
  },
  {
   "cell_type": "code",
   "execution_count": 9,
   "metadata": {},
   "outputs": [
    {
     "name": "stdout",
     "output_type": "stream",
     "text": [
      "[('amazing', 'fine'), ('acting', 'theatrics'), ('abilities', 'talent')]\n"
     ]
    }
   ],
   "source": [
    "test_pairs = list(zip(sent1,sent2))\n",
    "\n",
    "print(test_pairs)"
   ]
  },
  {
   "cell_type": "code",
   "execution_count": 15,
   "metadata": {},
   "outputs": [
    {
     "name": "stdout",
     "output_type": "stream",
     "text": [
      "yes :  7\n",
      "SM :  {'theatrics', 'amazing', 'talent', 'acting', 'fine', 'abilities'}\n",
      " The two sentences are simillar\n"
     ]
    }
   ],
   "source": [
    "yes = 0 \n",
    "SM =[]\n",
    "for pair in test_pairs:\n",
    "    \n",
    "    for i,word in enumerate(pair):\n",
    "#         print(\"hi \", word)\n",
    "#         print(i,word)\n",
    "        \n",
    "        for spair in similar_words:\n",
    "            \n",
    "            for j,sword in enumerate(spair):\n",
    "#                 print(j,sword)\n",
    "                if i == j and word == sword:\n",
    "                    yes +=1\n",
    "                    SM.append(word)\n",
    "                if i!=j and word == sword:\n",
    "                    yes +=1\n",
    "                    SM.append(word)\n",
    "                else:\n",
    "                    pass\n",
    "#    return set(SM)\n",
    "\n",
    "        \n",
    "print(\"yes : \",yes)\n",
    "print(\"SM : \",set(SM))\n",
    "\n",
    "if set(sent1).issubset(set(SM)) and set(sent2).issubset(set(SM)):\n",
    "    print(\" The two sentences are simillar\")\n",
    "else:\n",
    "    print(\" not simillar\")"
   ]
  },
  {
   "cell_type": "code",
   "execution_count": null,
   "metadata": {},
   "outputs": [],
   "source": []
  },
  {
   "cell_type": "code",
   "execution_count": null,
   "metadata": {},
   "outputs": [],
   "source": []
  },
  {
   "cell_type": "code",
   "execution_count": 20,
   "metadata": {},
   "outputs": [
    {
     "name": "stdout",
     "output_type": "stream",
     "text": [
      "yes :  7\n",
      "\n",
      "SM :  {'theatrics', 'amazing', 'talent', 'acting', 'fine', 'abilities'}\n",
      "\n",
      "The two sentences are simillar\n"
     ]
    }
   ],
   "source": [
    "yes = 0 \n",
    "SM =[]\n",
    "for pair in test_pairs:\n",
    "    \n",
    "    for word in pair:\n",
    "        \n",
    "        for spair in similar_words:\n",
    "            \n",
    "            for sword in spair:\n",
    "                if word == sword:\n",
    "                    yes +=1\n",
    "                    SM.append(word)\n",
    "                \n",
    "print(\"yes : \",yes)\n",
    "print(\"\\nSM : \",set(SM))\n",
    "\n",
    "if set(sent1).issubset(set(SM)) and set(sent2).issubset(set(SM)):\n",
    "    print(\"\\nThe two sentences are simillar\")\n",
    "else:\n",
    "    print(\" not simillar\")"
   ]
  },
  {
   "cell_type": "code",
   "execution_count": null,
   "metadata": {},
   "outputs": [],
   "source": []
  }
 ],
 "metadata": {
  "kernelspec": {
   "display_name": "Python 3",
   "language": "python",
   "name": "python3"
  },
  "language_info": {
   "codemirror_mode": {
    "name": "ipython",
    "version": 3
   },
   "file_extension": ".py",
   "mimetype": "text/x-python",
   "name": "python",
   "nbconvert_exporter": "python",
   "pygments_lexer": "ipython3",
   "version": "3.7.9"
  }
 },
 "nbformat": 4,
 "nbformat_minor": 4
}
