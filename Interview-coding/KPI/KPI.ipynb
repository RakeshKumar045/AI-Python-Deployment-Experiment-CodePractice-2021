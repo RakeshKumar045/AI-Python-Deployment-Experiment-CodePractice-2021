{
 "cells": [
  {
   "cell_type": "code",
   "execution_count": null,
   "metadata": {},
   "outputs": [],
   "source": []
  },
  {
   "cell_type": "code",
   "execution_count": 1,
   "metadata": {},
   "outputs": [
    {
     "name": "stdout",
     "output_type": "stream",
     "text": [
      "{'name': {'first': 'raka', 'last': 'kumar'}, 'age': 28, 'hobbies': ['runing', 'coding'], 'education': {'college': 'yale'}}\n"
     ]
    }
   ],
   "source": [
    "res = {}\n",
    "\n",
    "input_val = {  \"name\" : { \"first\" : \"raka\", \"middle\" : \"\", \"last\" : \"kumar\"}, \"age\" : 28,\n",
    "     \n",
    "      \"DOB\" : \"-\", \"hobbies\" : [\"runing\", \"coding\", \"-\"], \"education\" : {\"highschool\" : \"N/A\", \"college\" : \"yale\"}\n",
    "    }\n",
    "\n",
    "for k, v in input_val.items():\n",
    "    if isinstance(v, dict):\n",
    "        d = {}\n",
    "        for k1, v1 in v.items():\n",
    "            if len(v1.strip()) > 1 and v1.lower().strip() !='n/a' :\n",
    "                d[k1] = v1            \n",
    "        res[k] = d\n",
    "        \n",
    "    if isinstance(v, int):\n",
    "        res[k] = v\n",
    "        \n",
    "    if isinstance(v, str):\n",
    "        if len(v.strip()) > 1 and v.lower().strip() !='n/a' :\n",
    "            res[k] = v\n",
    "            \n",
    "    if isinstance(v, list):\n",
    "        l = []\n",
    "        for v2 in v:\n",
    "            if len(v2.strip()) > 1 and v2.lower().strip() !='n/a' :\n",
    "                l.append(v2)\n",
    "        res[k] = l\n",
    "print(res)"
   ]
  },
  {
   "cell_type": "code",
   "execution_count": 3,
   "metadata": {},
   "outputs": [
    {
     "name": "stdout",
     "output_type": "stream",
     "text": [
      "name     <class 'dict'>\n",
      "{'first': 'raka', 'middle': '', 'last': 'kumar'}\n",
      "age     <class 'int'>\n",
      "DOB     <class 'str'>\n",
      "hobbies     <class 'list'>\n",
      "education     <class 'dict'>\n",
      "{'highschool': 'N/A', 'college': 'yale'}\n"
     ]
    }
   ],
   "source": [
    "d = {}\n",
    "for k,v in input_val.items():\n",
    "    print(k , \"   \", type(v))\n",
    "    if isinstance(v, dict):\n",
    "        print(v)"
   ]
  },
  {
   "cell_type": "code",
   "execution_count": null,
   "metadata": {},
   "outputs": [],
   "source": []
  }
 ],
 "metadata": {
  "kernelspec": {
   "display_name": "Python 3",
   "language": "python",
   "name": "python3"
  },
  "language_info": {
   "codemirror_mode": {
    "name": "ipython",
    "version": 3
   },
   "file_extension": ".py",
   "mimetype": "text/x-python",
   "name": "python",
   "nbconvert_exporter": "python",
   "pygments_lexer": "ipython3",
   "version": "3.7.9"
  }
 },
 "nbformat": 4,
 "nbformat_minor": 4
}
