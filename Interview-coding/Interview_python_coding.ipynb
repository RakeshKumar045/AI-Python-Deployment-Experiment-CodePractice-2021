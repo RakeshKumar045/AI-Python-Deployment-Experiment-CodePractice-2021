{
 "cells": [
  {
   "cell_type": "code",
   "execution_count": 28,
   "metadata": {
    "scrolled": true
   },
   "outputs": [],
   "source": [
    "from iteration_utilities import duplicates\n",
    "from scipy import stats as s\n",
    "from random import randint\n",
    "from re import search\n",
    "from pathlib import Path\n",
    "\n",
    "from functools import reduce\n",
    "\n",
    "from io import StringIO\n",
    "\n",
    "from bs4 import BeautifulSoup\n",
    "import pandas as pd\n",
    "import numpy as np\n",
    "\n",
    "import csv\n",
    "\n",
    "# import pprint\n",
    "from pprint import pprint \n",
    "import re, pprint, random, requests, glob\n",
    "\n",
    "from scipy.stats import mstats\n",
    "\n",
    "from itertools import groupby\n",
    "from operator import itemgetter\n",
    "from timeit import timeit\n",
    "from collections import Counter , defaultdict\n",
    "\n",
    "from pickle import dump, load\n",
    "from joblib import dump, load\n",
    "\n",
    "import datetime\n",
    "import datetime as dt\n",
    "\n",
    "from collections import Counter"
   ]
  },
  {
   "cell_type": "markdown",
   "metadata": {
    "heading_collapsed": true
   },
   "source": [
    "#### Q1 Second highest"
   ]
  },
  {
   "cell_type": "code",
   "execution_count": 28,
   "metadata": {
    "ExecuteTime": {
     "end_time": "2020-02-26T04:52:47.715890Z",
     "start_time": "2020-02-26T04:52:47.709909Z"
    },
    "hidden": true
   },
   "outputs": [],
   "source": [
    "def second_highest(li):\n",
    "    highest = -1\n",
    "    second_highest = -1\n",
    "    for i in range(0,len(li)):\n",
    "        if li[i]>highest:\n",
    "            second_highest = highest\n",
    "            highest = li[i]\n",
    "        if li[i] > second_highest and li[i] != highest:\n",
    "            second_highest = li[i]\n",
    "    return second_highest"
   ]
  },
  {
   "cell_type": "code",
   "execution_count": 29,
   "metadata": {
    "ExecuteTime": {
     "end_time": "2020-02-26T04:52:48.584805Z",
     "start_time": "2020-02-26T04:52:48.580815Z"
    },
    "hidden": true,
    "scrolled": true
   },
   "outputs": [
    {
     "name": "stdout",
     "output_type": "stream",
     "text": [
      "89\n"
     ]
    }
   ],
   "source": [
    "li = [100,100,8,3,2,9,5,6,4,10,45,89,89,2,4,5]\n",
    "print(second_highest(li))"
   ]
  },
  {
   "cell_type": "markdown",
   "metadata": {
    "heading_collapsed": true
   },
   "source": [
    "#### Q2 Third highest"
   ]
  },
  {
   "cell_type": "code",
   "execution_count": 30,
   "metadata": {
    "ExecuteTime": {
     "end_time": "2020-02-26T04:52:50.077105Z",
     "start_time": "2020-02-26T04:52:50.072118Z"
    },
    "hidden": true
   },
   "outputs": [],
   "source": [
    "def third_highest(li):\n",
    "    highest = -1\n",
    "    shighest = -1\n",
    "    thighest = -1\n",
    "    for i in range(0,len(li)):\n",
    "        if li[i]>highest:\n",
    "            thighest = shighest\n",
    "            shighest = highest\n",
    "            highest = li[i]\n",
    "        if li[i] > shighest and li[i] != highest:\n",
    "            thighest = shighest\n",
    "            shighest = li[i]\n",
    "    return thighest"
   ]
  },
  {
   "cell_type": "code",
   "execution_count": 31,
   "metadata": {
    "ExecuteTime": {
     "end_time": "2020-02-26T04:52:51.440252Z",
     "start_time": "2020-02-26T04:52:51.436262Z"
    },
    "hidden": true,
    "scrolled": true
   },
   "outputs": [
    {
     "name": "stdout",
     "output_type": "stream",
     "text": [
      "101\n"
     ]
    }
   ],
   "source": [
    "li = [108,3,2,9,5,6,4,10,45,89,100,89,100,2,4,5,101,102]\n",
    "print(third_highest(li))"
   ]
  },
  {
   "cell_type": "markdown",
   "metadata": {
    "heading_collapsed": true
   },
   "source": [
    "#### Q3 Find duplicates"
   ]
  },
  {
   "cell_type": "code",
   "execution_count": 32,
   "metadata": {
    "ExecuteTime": {
     "end_time": "2020-02-26T04:52:52.353319Z",
     "start_time": "2020-02-26T04:52:52.348369Z"
    },
    "hidden": true
   },
   "outputs": [],
   "source": [
    "def find_dup(st):\n",
    "    di = dict()\n",
    "    for i in st:\n",
    "        if i in di:\n",
    "            di[i] += 1\n",
    "        else:\n",
    "            di[i] =1            \n",
    "    return di"
   ]
  },
  {
   "cell_type": "code",
   "execution_count": 33,
   "metadata": {
    "ExecuteTime": {
     "end_time": "2020-02-26T04:52:53.574976Z",
     "start_time": "2020-02-26T04:52:53.568990Z"
    },
    "hidden": true,
    "scrolled": true
   },
   "outputs": [
    {
     "data": {
      "text/plain": [
       "'a'"
      ]
     },
     "execution_count": 33,
     "metadata": {},
     "output_type": "execute_result"
    }
   ],
   "source": [
    "st = 'aeeiioooouuu'\n",
    "st1 = find_dup(st)\n",
    "y =[x for (x,y) in st1.items() if y<=1]\n",
    "st = ''.join(y)\n",
    "st"
   ]
  },
  {
   "cell_type": "code",
   "execution_count": 34,
   "metadata": {
    "ExecuteTime": {
     "end_time": "2020-02-26T04:52:56.241954Z",
     "start_time": "2020-02-26T04:52:56.236967Z"
    },
    "hidden": true
   },
   "outputs": [
    {
     "data": {
      "text/plain": [
       "{'a'}"
      ]
     },
     "execution_count": 34,
     "metadata": {},
     "output_type": "execute_result"
    }
   ],
   "source": [
    "set(st)"
   ]
  },
  {
   "cell_type": "code",
   "execution_count": null,
   "metadata": {
    "hidden": true
   },
   "outputs": [],
   "source": []
  },
  {
   "cell_type": "markdown",
   "metadata": {
    "heading_collapsed": true
   },
   "source": [
    "#### Q4 Reverse the string"
   ]
  },
  {
   "cell_type": "code",
   "execution_count": 35,
   "metadata": {
    "ExecuteTime": {
     "end_time": "2020-02-26T04:53:17.826536Z",
     "start_time": "2020-02-26T04:53:17.821550Z"
    },
    "hidden": true
   },
   "outputs": [
    {
     "data": {
      "text/plain": [
       "'hsekaR'"
      ]
     },
     "execution_count": 35,
     "metadata": {},
     "output_type": "execute_result"
    }
   ],
   "source": [
    "stt = 'Rakesh'\n",
    "stt11 = stt[::-1]\n",
    "stt11"
   ]
  },
  {
   "cell_type": "code",
   "execution_count": 36,
   "metadata": {
    "ExecuteTime": {
     "end_time": "2020-02-26T04:53:22.738970Z",
     "start_time": "2020-02-26T04:53:22.731990Z"
    },
    "hidden": true
   },
   "outputs": [
    {
     "data": {
      "text/plain": [
       "'hsekaR'"
      ]
     },
     "execution_count": 36,
     "metadata": {},
     "output_type": "execute_result"
    }
   ],
   "source": [
    "stt2 = [x for x in stt]\n",
    "for i in range(0,int(len(stt2)/2)):\n",
    "    temp = stt2[i]\n",
    "    stt2[i] = stt2[-i-1]\n",
    "    stt2[-i-1] = temp\n",
    "str2 = ''.join(stt2)\n",
    "str2"
   ]
  },
  {
   "cell_type": "code",
   "execution_count": 37,
   "metadata": {
    "ExecuteTime": {
     "end_time": "2020-02-26T04:53:25.138990Z",
     "start_time": "2020-02-26T04:53:25.135001Z"
    },
    "hidden": true
   },
   "outputs": [],
   "source": [
    "def rev_1(s):\n",
    "\n",
    "    rev = \"\"\n",
    "    \n",
    "    for val in s:\n",
    "        rev = val + rev\n",
    "    return rev"
   ]
  },
  {
   "cell_type": "code",
   "execution_count": 38,
   "metadata": {
    "ExecuteTime": {
     "end_time": "2020-02-26T04:53:46.763643Z",
     "start_time": "2020-02-26T04:53:46.759620Z"
    },
    "hidden": true
   },
   "outputs": [
    {
     "data": {
      "text/plain": [
       "'ramuK hsekaR'"
      ]
     },
     "execution_count": 38,
     "metadata": {},
     "output_type": "execute_result"
    }
   ],
   "source": [
    "rev_1(\"Rakesh Kumar\")"
   ]
  },
  {
   "cell_type": "code",
   "execution_count": null,
   "metadata": {
    "hidden": true
   },
   "outputs": [],
   "source": []
  },
  {
   "cell_type": "code",
   "execution_count": null,
   "metadata": {
    "hidden": true
   },
   "outputs": [],
   "source": []
  },
  {
   "cell_type": "markdown",
   "metadata": {
    "heading_collapsed": true
   },
   "source": [
    "#### Q5 Get Index of Upper case in python"
   ]
  },
  {
   "cell_type": "code",
   "execution_count": 41,
   "metadata": {
    "ExecuteTime": {
     "end_time": "2020-02-26T04:55:15.477846Z",
     "start_time": "2020-02-26T04:55:15.471863Z"
    },
    "hidden": true
   },
   "outputs": [
    {
     "data": {
      "text/plain": [
       "[0, 3, 5, 8, 10, 11]"
      ]
     },
     "execution_count": 41,
     "metadata": {},
     "output_type": "execute_result"
    }
   ],
   "source": [
    "inp_str = 'RakAsH kUmAR'\n",
    "op = [i for (x,i) in zip(inp_str,range(0,len(inp_str))) if x.isupper()]\n",
    "op\n",
    "op2 = [i for i in range(0,len(inp_str)) if inp_str[i].isupper()]\n",
    "op2"
   ]
  },
  {
   "cell_type": "markdown",
   "metadata": {},
   "source": [
    "####  Q6 Get the middle string"
   ]
  },
  {
   "cell_type": "code",
   "execution_count": 45,
   "metadata": {
    "ExecuteTime": {
     "end_time": "2020-02-26T04:55:59.287715Z",
     "start_time": "2020-02-26T04:55:59.282731Z"
    }
   },
   "outputs": [
    {
     "name": "stdout",
     "output_type": "stream",
     "text": [
      "m\n"
     ]
    }
   ],
   "source": [
    "st = 'Kumar'\n",
    "def midd(st):\n",
    "    if len(st)%2==0:\n",
    "        return \"\"\n",
    "    else:\n",
    "        return st[int(len(st)/2)]\n",
    "print(midd(st))"
   ]
  },
  {
   "cell_type": "markdown",
   "metadata": {},
   "source": [
    "#### Q7 Online Status"
   ]
  },
  {
   "cell_type": "code",
   "execution_count": 46,
   "metadata": {
    "ExecuteTime": {
     "end_time": "2020-02-26T04:56:12.347786Z",
     "start_time": "2020-02-26T04:56:12.342802Z"
    }
   },
   "outputs": [],
   "source": [
    "statuses = {\n",
    "    \"Alice\": \"online\",\n",
    "    \"Bob\": \"offline\",\n",
    "    \"Eve\": \"online\",\n",
    "}\n",
    "def online_count(statuses):\n",
    "    return len([x for x in statuses.values() if x=='online'])"
   ]
  },
  {
   "cell_type": "code",
   "execution_count": 47,
   "metadata": {
    "ExecuteTime": {
     "end_time": "2020-02-26T04:56:16.432144Z",
     "start_time": "2020-02-26T04:56:16.427192Z"
    }
   },
   "outputs": [
    {
     "data": {
      "text/plain": [
       "2"
      ]
     },
     "execution_count": 47,
     "metadata": {},
     "output_type": "execute_result"
    }
   ],
   "source": [
    "online_count(statuses)"
   ]
  },
  {
   "cell_type": "markdown",
   "metadata": {},
   "source": [
    "#### Q8 Own Random Function"
   ]
  },
  {
   "cell_type": "code",
   "execution_count": 48,
   "metadata": {
    "ExecuteTime": {
     "end_time": "2020-02-26T04:56:24.355601Z",
     "start_time": "2020-02-26T04:56:24.351612Z"
    }
   },
   "outputs": [],
   "source": [
    "import time\n",
    "def random_number():\n",
    "    x = time.time()\n",
    "    return int((x%10)*10)\n",
    "    "
   ]
  },
  {
   "cell_type": "code",
   "execution_count": 49,
   "metadata": {
    "ExecuteTime": {
     "end_time": "2020-02-26T04:56:25.242543Z",
     "start_time": "2020-02-26T04:56:25.238555Z"
    },
    "scrolled": true
   },
   "outputs": [
    {
     "name": "stdout",
     "output_type": "stream",
     "text": [
      "52\n"
     ]
    }
   ],
   "source": [
    "print(random_number())"
   ]
  },
  {
   "cell_type": "markdown",
   "metadata": {},
   "source": [
    "#### Q9 Check if int"
   ]
  },
  {
   "cell_type": "code",
   "execution_count": 50,
   "metadata": {
    "ExecuteTime": {
     "end_time": "2020-02-26T04:56:31.608682Z",
     "start_time": "2020-02-26T04:56:31.604729Z"
    }
   },
   "outputs": [],
   "source": [
    "import numbers\n",
    "def only_ints(a,b):\n",
    "    if isinstance(a,numbers.Integral) and isinstance(b,numbers.Integral) and not isinstance(b,bool) and not isinstance(a,bool):\n",
    "        return True\n",
    "    else:\n",
    "        return False"
   ]
  },
  {
   "cell_type": "code",
   "execution_count": 51,
   "metadata": {
    "ExecuteTime": {
     "end_time": "2020-02-26T04:56:32.619418Z",
     "start_time": "2020-02-26T04:56:32.614432Z"
    }
   },
   "outputs": [
    {
     "data": {
      "text/plain": [
       "False"
      ]
     },
     "execution_count": 51,
     "metadata": {},
     "output_type": "execute_result"
    }
   ],
   "source": [
    "only_ints(1,True)"
   ]
  },
  {
   "cell_type": "markdown",
   "metadata": {},
   "source": [
    "#### Q10 Double letters"
   ]
  },
  {
   "cell_type": "code",
   "execution_count": 52,
   "metadata": {
    "ExecuteTime": {
     "end_time": "2020-02-26T04:56:39.297691Z",
     "start_time": "2020-02-26T04:56:39.293700Z"
    }
   },
   "outputs": [],
   "source": [
    "def double_letters(st):\n",
    "    for i in range(0,len(st)-1):\n",
    "        if st[i] == st[i+1]:\n",
    "            return True\n",
    "    return False"
   ]
  },
  {
   "cell_type": "code",
   "execution_count": 53,
   "metadata": {
    "ExecuteTime": {
     "end_time": "2020-02-26T04:56:39.996007Z",
     "start_time": "2020-02-26T04:56:39.992040Z"
    }
   },
   "outputs": [
    {
     "name": "stdout",
     "output_type": "stream",
     "text": [
      "False\n"
     ]
    }
   ],
   "source": [
    "print(double_letters('helo'))"
   ]
  },
  {
   "cell_type": "markdown",
   "metadata": {},
   "source": [
    "#### Q11 Add and Remove Dots"
   ]
  },
  {
   "cell_type": "code",
   "execution_count": 54,
   "metadata": {
    "ExecuteTime": {
     "end_time": "2020-02-26T04:56:42.506751Z",
     "start_time": "2020-02-26T04:56:42.502800Z"
    }
   },
   "outputs": [],
   "source": [
    "def add_dots(st):\n",
    "    #st1 = [x+'.' for x in st]\n",
    "    st2 = '.'.join(st)\n",
    "    return st2\n",
    "def remove_dots(st):\n",
    "    #st1 = [x for x in st if x != '.']\n",
    "    st2 = st.replace('.','')\n",
    "    return st2"
   ]
  },
  {
   "cell_type": "code",
   "execution_count": 55,
   "metadata": {
    "ExecuteTime": {
     "end_time": "2020-02-26T04:57:06.401528Z",
     "start_time": "2020-02-26T04:57:06.396543Z"
    }
   },
   "outputs": [
    {
     "name": "stdout",
     "output_type": "stream",
     "text": [
      "r.a.k.a\n",
      "raka\n",
      "raka\n"
     ]
    }
   ],
   "source": [
    "print(add_dots('raka'))\n",
    "print(remove_dots('r.a.k.a'))\n",
    "print(remove_dots(add_dots('raka')))"
   ]
  },
  {
   "cell_type": "markdown",
   "metadata": {},
   "source": [
    "#### Q12 Counting syllables"
   ]
  },
  {
   "cell_type": "code",
   "execution_count": 56,
   "metadata": {
    "ExecuteTime": {
     "end_time": "2020-02-26T04:57:22.005580Z",
     "start_time": "2020-02-26T04:57:22.001560Z"
    }
   },
   "outputs": [],
   "source": [
    "def count(st):\n",
    "    #return (len([x for x in st if x=='-']))+1\n",
    "    return st.count('-')+1"
   ]
  },
  {
   "cell_type": "code",
   "execution_count": 57,
   "metadata": {
    "ExecuteTime": {
     "end_time": "2020-02-26T04:57:22.969705Z",
     "start_time": "2020-02-26T04:57:22.965716Z"
    }
   },
   "outputs": [
    {
     "name": "stdout",
     "output_type": "stream",
     "text": [
      "2\n"
     ]
    }
   ],
   "source": [
    "print(count('ra-ka'))"
   ]
  },
  {
   "cell_type": "markdown",
   "metadata": {},
   "source": [
    "#### Generator - It is a object which is used to generate some value when used with some iterable"
   ]
  },
  {
   "cell_type": "code",
   "execution_count": 58,
   "metadata": {
    "ExecuteTime": {
     "end_time": "2020-02-26T04:57:32.941430Z",
     "start_time": "2020-02-26T04:57:32.935446Z"
    }
   },
   "outputs": [
    {
     "name": "stdout",
     "output_type": "stream",
     "text": [
      "0\n",
      "1\n",
      "8\n",
      "27\n",
      "64\n",
      "125\n"
     ]
    }
   ],
   "source": [
    "def cube(n):\n",
    "    for i in range(0,n+1):\n",
    "        yield i**3\n",
    "for x in cube(5):\n",
    "    print(x)"
   ]
  },
  {
   "cell_type": "markdown",
   "metadata": {},
   "source": [
    "#### Generator 2"
   ]
  },
  {
   "cell_type": "code",
   "execution_count": 73,
   "metadata": {
    "ExecuteTime": {
     "end_time": "2020-02-26T05:00:15.145580Z",
     "start_time": "2020-02-26T05:00:15.140596Z"
    }
   },
   "outputs": [],
   "source": [
    "\n",
    "        \n",
    "def fibo(n):\n",
    "    a=0;b=1\n",
    "    for i in range(n):\n",
    "        print(a)\n",
    "        a,b = b,a+b \n",
    "        \n",
    "def fibo_1(n):\n",
    "    a=0;b=1\n",
    "    for i in range(n):\n",
    "        print(a)\n",
    "        c = a+b\n",
    "        a = b\n",
    "        b = c"
   ]
  },
  {
   "cell_type": "code",
   "execution_count": 74,
   "metadata": {
    "ExecuteTime": {
     "end_time": "2020-02-26T05:00:15.468816Z",
     "start_time": "2020-02-26T05:00:15.463829Z"
    }
   },
   "outputs": [
    {
     "name": "stdout",
     "output_type": "stream",
     "text": [
      "0\n",
      "1\n",
      "1\n",
      "0\n",
      "1\n",
      "1\n",
      "2\n",
      "3\n"
     ]
    }
   ],
   "source": [
    "fibo(3)\n",
    "fibo_1(5)"
   ]
  },
  {
   "cell_type": "markdown",
   "metadata": {},
   "source": [
    "#### next() - it is able to give value over a iterator one by one <br>iter() - Used to iterate"
   ]
  },
  {
   "cell_type": "code",
   "execution_count": 75,
   "metadata": {
    "ExecuteTime": {
     "end_time": "2020-02-26T05:00:21.741242Z",
     "start_time": "2020-02-26T05:00:21.735257Z"
    }
   },
   "outputs": [
    {
     "data": {
      "text/plain": [
       "1"
      ]
     },
     "execution_count": 75,
     "metadata": {},
     "output_type": "execute_result"
    }
   ],
   "source": [
    "z = [1,2,3]\n",
    "next(iter(z))"
   ]
  },
  {
   "cell_type": "markdown",
   "metadata": {},
   "source": [
    "#### Exception handling"
   ]
  },
  {
   "cell_type": "code",
   "execution_count": 76,
   "metadata": {
    "ExecuteTime": {
     "end_time": "2020-02-26T05:00:26.856805Z",
     "start_time": "2020-02-26T05:00:26.851819Z"
    }
   },
   "outputs": [
    {
     "name": "stdout",
     "output_type": "stream",
     "text": [
      "division by zero\n",
      "It is over\n"
     ]
    }
   ],
   "source": [
    "# If try is success then else and finally will execute otherwise except and finally execute\n",
    "try:\n",
    "    a = 9/0\n",
    "except Exception as e:\n",
    "    print(e)\n",
    "else:\n",
    "    print('this is else')\n",
    "finally:\n",
    "    print('It is over')"
   ]
  },
  {
   "cell_type": "markdown",
   "metadata": {},
   "source": [
    "#### Classes and object"
   ]
  },
  {
   "cell_type": "code",
   "execution_count": 1,
   "metadata": {
    "ExecuteTime": {
     "end_time": "2020-02-26T05:01:01.913183Z",
     "start_time": "2020-02-26T05:01:01.907201Z"
    }
   },
   "outputs": [],
   "source": [
    "class A:\n",
    "    def __init__(self,Fname,Lname,Salary):\n",
    "        self.Fname = Fname\n",
    "        self.__Lname = Lname\n",
    "        self.Salary = Salary\n",
    "    def __str__(self):\n",
    "        return('This is object for:%s'%self.Fname)\n",
    "    def print_data(self):\n",
    "        print('First name is %s, Last name is %s and Salary is %f'%(self.Fname,self.__Lname,self.Salary))"
   ]
  },
  {
   "cell_type": "code",
   "execution_count": 2,
   "metadata": {
    "ExecuteTime": {
     "end_time": "2020-02-26T05:01:02.291896Z",
     "start_time": "2020-02-26T05:01:02.286909Z"
    }
   },
   "outputs": [
    {
     "name": "stdout",
     "output_type": "stream",
     "text": [
      "First name is Rakesh, Last name is Kumar and Salary is 2000000.000000\n",
      "This is object for:Rakesh\n"
     ]
    }
   ],
   "source": [
    "p1 = A('Rakesh','Kumar',2000000)\n",
    "p1.print_data()\n",
    "print(p1)"
   ]
  },
  {
   "cell_type": "code",
   "execution_count": 3,
   "metadata": {
    "ExecuteTime": {
     "end_time": "2020-02-26T05:01:50.620242Z",
     "start_time": "2020-02-26T05:01:50.614299Z"
    }
   },
   "outputs": [],
   "source": [
    "#Inheritance\n",
    "# **kwargs is used when we have dictionart\\ry type variable or like __varname type\n",
    "class B(A):\n",
    "    def __init__(self,Location,*args,**kwargs):\n",
    "        super(B,self).__init__(*args,**kwargs)\n",
    "        self.Location = Location\n",
    "    def print_loc(self):\n",
    "        print(\"Location is:\",self.Location)\n",
    "    def print_all(self):\n",
    "        print('First name is %s, Last name is %s, Salary is %f and Location is %s'%(self.Fname,self._A__Lname,self.Salary,self.Location))\n",
    "    def __str__(self):\n",
    "        return super(B,self).__str__()+' '+self.Location #Overriding\n",
    "    "
   ]
  },
  {
   "cell_type": "code",
   "execution_count": 5,
   "metadata": {
    "ExecuteTime": {
     "end_time": "2020-02-26T05:01:51.045199Z",
     "start_time": "2020-02-26T05:01:51.041233Z"
    }
   },
   "outputs": [
    {
     "name": "stdout",
     "output_type": "stream",
     "text": [
      "First name is Rakesh, Last name is Kumar and Salary is 2000000.000000\n",
      "Location is: Bangalore\n",
      "First name is Rakesh, Last name is Kumar, Salary is 2000000.000000 and Location is Bangalore\n",
      "This is object for:Rakesh Bangalore\n"
     ]
    }
   ],
   "source": [
    "pr2 = B('Bangalore','Rakesh','Kumar',2000000)\n",
    "pr2.print_data()\n",
    "pr2.print_loc()\n",
    "pr2.print_all()\n",
    "print(pr2)"
   ]
  },
  {
   "cell_type": "code",
   "execution_count": 84,
   "metadata": {
    "ExecuteTime": {
     "end_time": "2020-02-26T05:02:16.986004Z",
     "start_time": "2020-02-26T05:02:16.980021Z"
    }
   },
   "outputs": [
    {
     "name": "stdout",
     "output_type": "stream",
     "text": [
      "Raka\n"
     ]
    }
   ],
   "source": [
    "# Abstraction\n",
    "# Double underscore before variable (__)  prepends _ClassName before that variable\n",
    "class Person:\n",
    "    def __init__(self, name, surname, year_of_birth):\n",
    "        self.__name = name\n",
    "        self.__surname = surname\n",
    "        self.__year_of_birth = year_of_birth\n",
    "    \n",
    "    def age(self, current_year):\n",
    "        return current_year - self.__year_of_birth\n",
    "    \n",
    "    def __str__(self):\n",
    "        return \"%s %s and was born %d.\" \\\n",
    "                % (self.__name, self.__surname, self.__year_of_birth)\n",
    "    \n",
    "alec = Person(\"Raka\", \"Gupta\", 1992)\n",
    "print(alec._Person__name)"
   ]
  },
  {
   "cell_type": "markdown",
   "metadata": {},
   "source": [
    "#### Binary search"
   ]
  },
  {
   "cell_type": "code",
   "execution_count": null,
   "metadata": {},
   "outputs": [],
   "source": [
    "mid = (low + high) / 2\n",
    "low = 0\n",
    "high = n -1\n",
    "n = len(a)\n",
    "\n",
    "if a[mid] == key:\n",
    "    return key"
   ]
  },
  {
   "cell_type": "markdown",
   "metadata": {},
   "source": [
    "### <font color ='blue' > Bubble sort, 2nd(Smallest or Largest),Remove Duplicate No, Find Duplicate No, Find Total No of Duplicate No "
   ]
  },
  {
   "cell_type": "code",
   "execution_count": 75,
   "metadata": {},
   "outputs": [
    {
     "name": "stdout",
     "output_type": "stream",
     "text": [
      "([1, 1, 3, 3, 3, 3, 3, 6, 14, 17, 22, 22], [1, 3, 6, 14, 17, 22], [1, 3, 3, 3, 3, 22], {})\n"
     ]
    }
   ],
   "source": [
    "arr = [14,17,22,3, 3,1, 22, 3, 1, 6, 3, 3]\n",
    "a1 = []\n",
    "def bubbl_sort(a):\n",
    "    n = len(a)\n",
    "    if n != 0:\n",
    "        for i in range(n):\n",
    "            for j in range(0, n - 1 -i): # n 5 - 1 - 1 3\n",
    "                if a[j] > a[j+1]:\n",
    "                    a[j], a[j+1] = a[j+1], a[j]     \n",
    "        \n",
    "    else:\n",
    "        return \"Array is empty\"\n",
    "    \n",
    "    #after sorting \n",
    "    arr_list = a.copy()\n",
    "    find_duplicate_values = []\n",
    "    find_no_of_duplicate_val = {}\n",
    "    \n",
    "#     find_no_of_duplicate_val = {a[x] : arr_list.count(y) for x in range(n-1) for y in arr_list if arr_list[x] == arr_list[x+1] }           \n",
    "  \n",
    "    for i in range(n-1):\n",
    "            if a[i] == a[i+1]:\n",
    "                arr_list.remove(a[i+1]) # remove duplicate number\n",
    "                find_duplicate_values.append((a[i+1])) # find the duplicate values\n",
    "                \n",
    "#     find_no_of_duplicate_val = {a[x] : arr_list.count(y) for x in range(n-1) for y in arr_list if a[x] == a[x+1] }           \n",
    "                \n",
    "\n",
    "    return a, arr_list, find_duplicate_values, find_no_of_duplicate_val\n",
    "\n",
    "sorting_value = bubbl_sort(arr)\n",
    "print(sorting_value)\n",
    "# length = len(sorting_value)\n",
    "# if length > 1:\n",
    "#     print(\"2nd smallest no : \", sorting_value[1])\n",
    "#     print(\"2nd largest no : \", sorting_value[length-2])"
   ]
  },
  {
   "cell_type": "code",
   "execution_count": 45,
   "metadata": {},
   "outputs": [
    {
     "name": "stdout",
     "output_type": "stream",
     "text": [
      " j  1 2 a[j+1]  3\n",
      " j  5 6 a[j+1]  22\n",
      "values :  [3, 22]\n",
      "3\n",
      "22\n"
     ]
    }
   ],
   "source": []
  },
  {
   "cell_type": "code",
   "execution_count": null,
   "metadata": {},
   "outputs": [],
   "source": [
    "def find_largest_value(input_from_keybroad): #not working\n",
    "    a = input_from_keybroad.split(\" \")\n",
    "    length = len(a)\n",
    "#     print(a, length)\n",
    "    \n",
    "    for i in range(length):\n",
    "        for j in range(0,length - 1 - i):\n",
    "            if(a[j] > a[j + 1]):\n",
    "                \n",
    "                a[j] , a[j + 1] = a[j+1] , a[j]\n",
    "    return a\n",
    "        \n",
    "    \n",
    "input_value = input()\n",
    "find_largest_value(input_value)"
   ]
  },
  {
   "cell_type": "code",
   "execution_count": null,
   "metadata": {},
   "outputs": [],
   "source": []
  },
  {
   "cell_type": "markdown",
   "metadata": {},
   "source": [
    "#### Pattern 1\n",
    "1<br>\n",
    "22<br>\n",
    "333<br>\n",
    "4444<br>\n",
    "55555<br>"
   ]
  },
  {
   "cell_type": "code",
   "execution_count": 85,
   "metadata": {
    "ExecuteTime": {
     "end_time": "2020-02-26T05:02:30.417069Z",
     "start_time": "2020-02-26T05:02:30.412080Z"
    }
   },
   "outputs": [],
   "source": [
    "def p1(n):\n",
    "    counter = 1\n",
    "    for i in range(1,n+1):\n",
    "        for j in range(1,i+1):\n",
    "            print(counter,end=\" \")\n",
    "        counter += 1\n",
    "        print('')\n",
    "        "
   ]
  },
  {
   "cell_type": "code",
   "execution_count": 86,
   "metadata": {
    "ExecuteTime": {
     "end_time": "2020-02-26T05:02:30.790595Z",
     "start_time": "2020-02-26T05:02:30.785612Z"
    }
   },
   "outputs": [
    {
     "name": "stdout",
     "output_type": "stream",
     "text": [
      "1 \n",
      "2 2 \n",
      "3 3 3 \n",
      "4 4 4 4 \n",
      "5 5 5 5 5 \n"
     ]
    }
   ],
   "source": [
    "p1(5)"
   ]
  },
  {
   "cell_type": "markdown",
   "metadata": {},
   "source": [
    "#### Pattern 2\n",
    "1<br>\n",
    "12<br>\n",
    "123<br>\n",
    "1234<br>\n",
    "12345<br>"
   ]
  },
  {
   "cell_type": "code",
   "execution_count": 87,
   "metadata": {
    "ExecuteTime": {
     "end_time": "2020-02-26T05:02:31.419524Z",
     "start_time": "2020-02-26T05:02:31.414546Z"
    }
   },
   "outputs": [],
   "source": [
    "def p2(n):\n",
    "    for i in range(1,n+1):\n",
    "        for j in range(1,i+1):\n",
    "            print(j,end=' ')\n",
    "        print('')"
   ]
  },
  {
   "cell_type": "code",
   "execution_count": 88,
   "metadata": {
    "ExecuteTime": {
     "end_time": "2020-02-26T05:02:31.821130Z",
     "start_time": "2020-02-26T05:02:31.815148Z"
    }
   },
   "outputs": [
    {
     "name": "stdout",
     "output_type": "stream",
     "text": [
      "1 \n",
      "1 2 \n",
      "1 2 3 \n",
      "1 2 3 4 \n",
      "1 2 3 4 5 \n"
     ]
    }
   ],
   "source": [
    "p2(5)"
   ]
  },
  {
   "cell_type": "markdown",
   "metadata": {},
   "source": [
    "#### Pattern 3\n",
    "_______-1<br>\n",
    "_______12<br>\n",
    "__123<br>\n",
    "_1234<br>\n",
    "12345"
   ]
  },
  {
   "cell_type": "code",
   "execution_count": 89,
   "metadata": {
    "ExecuteTime": {
     "end_time": "2020-02-26T05:02:32.605802Z",
     "start_time": "2020-02-26T05:02:32.600839Z"
    }
   },
   "outputs": [],
   "source": [
    "def p3(n):\n",
    "    for i in range(1,n+1):\n",
    "        for j in range(n,i,-1):\n",
    "            print(' ',end=' ')\n",
    "        for k in range(1,i+1):\n",
    "            print(k,end=' ')\n",
    "        print('')"
   ]
  },
  {
   "cell_type": "code",
   "execution_count": 90,
   "metadata": {
    "ExecuteTime": {
     "end_time": "2020-02-26T05:02:34.421896Z",
     "start_time": "2020-02-26T05:02:34.416912Z"
    }
   },
   "outputs": [
    {
     "name": "stdout",
     "output_type": "stream",
     "text": [
      "        1 \n",
      "      1 2 \n",
      "    1 2 3 \n",
      "  1 2 3 4 \n",
      "1 2 3 4 5 \n"
     ]
    }
   ],
   "source": [
    "p3(5)"
   ]
  },
  {
   "cell_type": "markdown",
   "metadata": {},
   "source": [
    "#### Pattern 4\n",
    "5 4 3 2 1 <br>\n",
    "5 4 3 2 <br>\n",
    "5 4 3 <br>\n",
    "5 4 <br>\n",
    "5 "
   ]
  },
  {
   "cell_type": "code",
   "execution_count": 91,
   "metadata": {
    "ExecuteTime": {
     "end_time": "2020-02-26T05:02:35.018996Z",
     "start_time": "2020-02-26T05:02:35.012017Z"
    }
   },
   "outputs": [
    {
     "name": "stdout",
     "output_type": "stream",
     "text": [
      "5 4 3 2 1 \n",
      "5 4 3 2 \n",
      "5 4 3 \n",
      "5 4 \n",
      "5 \n"
     ]
    }
   ],
   "source": [
    "n=5\n",
    "for i in range(1,n+1):\n",
    "    for j in range(n,i-1,-1):\n",
    "        print(j,end=' ')\n",
    "    print('')"
   ]
  },
  {
   "cell_type": "markdown",
   "metadata": {},
   "source": [
    "#### Pattern 5\n",
    "1 2 3 4 5 <br>\n",
    "1 2 3 4 <br>\n",
    "1 2 3 <br>\n",
    "1 2 <br>\n",
    "1"
   ]
  },
  {
   "cell_type": "code",
   "execution_count": 92,
   "metadata": {
    "ExecuteTime": {
     "end_time": "2020-02-26T05:02:35.487678Z",
     "start_time": "2020-02-26T05:02:35.482694Z"
    }
   },
   "outputs": [],
   "source": [
    "def p5(n):\n",
    "    for i in range(n+1,0,-1):\n",
    "        for j in range(1,i):\n",
    "            print(j,end=' ')\n",
    "        print('')"
   ]
  },
  {
   "cell_type": "code",
   "execution_count": 93,
   "metadata": {
    "ExecuteTime": {
     "end_time": "2020-02-26T05:02:35.673781Z",
     "start_time": "2020-02-26T05:02:35.667799Z"
    }
   },
   "outputs": [
    {
     "name": "stdout",
     "output_type": "stream",
     "text": [
      "1 2 3 4 5 \n",
      "1 2 3 4 \n",
      "1 2 3 \n",
      "1 2 \n",
      "1 \n",
      "\n"
     ]
    }
   ],
   "source": [
    "p5(5)"
   ]
  },
  {
   "cell_type": "markdown",
   "metadata": {},
   "source": [
    "#### Pattern 6 - Pyramid"
   ]
  },
  {
   "cell_type": "code",
   "execution_count": 94,
   "metadata": {
    "ExecuteTime": {
     "end_time": "2020-02-26T05:02:36.089617Z",
     "start_time": "2020-02-26T05:02:36.083638Z"
    }
   },
   "outputs": [],
   "source": [
    "def p6(n):\n",
    "    for i in range(1,n+1):\n",
    "        for j in range(n,i,-1):\n",
    "            print(' ',end=' ')\n",
    "        for k in range(1,i+1):\n",
    "            print(\" * \",end=' ')\n",
    "        print('') "
   ]
  },
  {
   "cell_type": "code",
   "execution_count": 95,
   "metadata": {
    "ExecuteTime": {
     "end_time": "2020-02-26T05:02:36.429851Z",
     "start_time": "2020-02-26T05:02:36.425860Z"
    }
   },
   "outputs": [
    {
     "name": "stdout",
     "output_type": "stream",
     "text": [
      "         *  \n",
      "       *   *  \n",
      "     *   *   *  \n",
      "   *   *   *   *  \n",
      " *   *   *   *   *  \n"
     ]
    }
   ],
   "source": [
    "p6(5)"
   ]
  },
  {
   "cell_type": "markdown",
   "metadata": {},
   "source": [
    "#### ."
   ]
  },
  {
   "cell_type": "code",
   "execution_count": null,
   "metadata": {},
   "outputs": [],
   "source": []
  },
  {
   "cell_type": "markdown",
   "metadata": {},
   "source": [
    "# <font color ='blue' > Dictionary\n"
   ]
  },
  {
   "cell_type": "code",
   "execution_count": 19,
   "metadata": {},
   "outputs": [
    {
     "name": "stdout",
     "output_type": "stream",
     "text": [
      "{'Trishala': 92, 'Richard': 87, 'Rakesh': 97, 'Raka': 99, 'John': 85, 'Ananya': 90, 'Alex': 80}\n"
     ]
    }
   ],
   "source": [
    "#Key = 0 (sort the keys) , key = 1 (sort the value), flag = Flase(Accending order), True(decending order)\n",
    "def sort_dic_key_value_order(dict_val, key_value = 0, ascending_descending = False):\n",
    "    \n",
    "    val = sorted(dict_val.items(),  key = lambda x : x[key_value], reverse = ascending_descending)\n",
    "    return dict(val)\n",
    "     \n",
    "\n",
    "    \n",
    "marks = {\"Raka\" : 99, \"Ananya\" : 90 ,'John':85, 'Alex':80, 'Richard': 87, \"Rakesh\" : 97 , \"Trishala\" : 92}\n",
    "\n",
    "\n",
    "print(sort_dic_key_value_order(marks, 0, True))"
   ]
  },
  {
   "cell_type": "code",
   "execution_count": null,
   "metadata": {},
   "outputs": [],
   "source": []
  },
  {
   "cell_type": "code",
   "execution_count": 30,
   "metadata": {},
   "outputs": [
    {
     "name": "stdout",
     "output_type": "stream",
     "text": [
      "55 99 22 11\n",
      "input :  ['55', '99', '22', '11']\n",
      "[55, 99, 22, 11]\n",
      "99\n"
     ]
    }
   ],
   "source": [
    "\n",
    "#1st question : largest number in array without using function python\n",
    "input_from_question = input()\n",
    "\n",
    "def find_largest_no(input_from_question):\n",
    "    print(\"input : \", input_from_question.split(\" \"))\n",
    "    l=list(map(int,input_from_question.split(\" \")))\n",
    "    print(l)\n",
    "    max1=l[0]\n",
    "    for i in range(1,len(l)):\n",
    "        if(l[i]>max1):\n",
    "            max1=l[i]\n",
    "    return max1\n",
    "\n",
    "\n",
    "print(find_largest_no(input_from_question))"
   ]
  },
  {
   "cell_type": "code",
   "execution_count": 8,
   "metadata": {},
   "outputs": [
    {
     "name": "stdout",
     "output_type": "stream",
     "text": [
      "4 2 8 9 3\n",
      "i =  0 and j =  0\n",
      "i =  0 and j =  1\n",
      "i =  0 and j =  2\n",
      "i =  0 and j =  3\n",
      "i =  1 and j =  0\n",
      "i =  1 and j =  1\n",
      "i =  1 and j =  2\n",
      "i =  2 and j =  0\n",
      "i =  2 and j =  1\n",
      "i =  3 and j =  0\n"
     ]
    },
    {
     "data": {
      "text/plain": [
       "['2', '3', '4', '8', '9']"
      ]
     },
     "execution_count": 8,
     "metadata": {},
     "output_type": "execute_result"
    }
   ],
   "source": []
  },
  {
   "cell_type": "code",
   "execution_count": null,
   "metadata": {},
   "outputs": [],
   "source": []
  },
  {
   "cell_type": "code",
   "execution_count": null,
   "metadata": {},
   "outputs": [],
   "source": []
  },
  {
   "cell_type": "code",
   "execution_count": null,
   "metadata": {},
   "outputs": [],
   "source": []
  },
  {
   "cell_type": "code",
   "execution_count": null,
   "metadata": {},
   "outputs": [],
   "source": []
  },
  {
   "cell_type": "code",
   "execution_count": null,
   "metadata": {},
   "outputs": [],
   "source": []
  },
  {
   "cell_type": "code",
   "execution_count": 29,
   "metadata": {},
   "outputs": [
    {
     "name": "stdout",
     "output_type": "stream",
     "text": [
      "get extra duplicate value :  [1, 1, 2, 2, 5, 5, 5]\n",
      "all unique value         :  [1, 2, 3, 4, 5]\n",
      "get only duplicate value :  [1, 2, 5]\n"
     ]
    }
   ],
   "source": [
    "l1 = [1,1,2,1,2,3,4,2,5,5,5,5]\n",
    "def get_extra_duplicate_list_value(l):\n",
    "    return list(duplicates(l)) \n",
    "\n",
    "def get_only_unique_list_value(l):\n",
    "    return list(np.unique(l)) #or set(l1)  or list(pd.unique(l))\n",
    "\n",
    "def get_only_duplicate_list_value(l):\n",
    "    return [item for item, count in Counter(l).items() if count > 1]\n",
    "\n",
    "\n",
    "print(\"get extra duplicate value : \", get_extra_duplicate_list_value(l1))\n",
    "\n",
    "\n",
    "print(\"all unique value         : \", get_only_unique_list_value(l1))\n",
    "\n",
    "print(\"get only duplicate value : \", get_only_duplicate_list_value(l1))"
   ]
  },
  {
   "cell_type": "code",
   "execution_count": 31,
   "metadata": {},
   "outputs": [
    {
     "name": "stdout",
     "output_type": "stream",
     "text": [
      "90\n",
      "100\n"
     ]
    }
   ],
   "source": [
    "n = 4\n",
    "B = 10000\n",
    "P = [2000, 3000, 5000, 7000]\n",
    "I = [10,50, 20, 40]\n",
    "\n",
    "#*********************************************\n",
    "n1 = 3\n",
    "B1 = 10000\n",
    "P1 = [2000, 3000, 8000]\n",
    "I1 = [20, 50, 80]\n",
    "\n",
    "\n",
    "\n",
    "def saleforces(Input, Product, Budget, Hour):\n",
    "    count = 0\n",
    "    for j in range(Input):\n",
    "        for k in range(Input - 1 - j):\n",
    "            if(Product[j] + Product[k+1+count] == Budget):\n",
    "                return Hour[j] + Hour[k+1+count]\n",
    "   \n",
    "        count = count + 1  \n",
    "print(saleforces(n, P, B, I))\n",
    "print(saleforces(n1, P1, B1, I1))"
   ]
  },
  {
   "cell_type": "code",
   "execution_count": 32,
   "metadata": {},
   "outputs": [
    {
     "name": "stdout",
     "output_type": "stream",
     "text": [
      "I am parent class function\n",
      "I am child class function\n"
     ]
    }
   ],
   "source": []
  },
  {
   "cell_type": "code",
   "execution_count": null,
   "metadata": {},
   "outputs": [],
   "source": [
    "files = [f for f in os.listdir('.') if os.path.isfile(f)]\n",
    "files"
   ]
  },
  {
   "cell_type": "code",
   "execution_count": null,
   "metadata": {},
   "outputs": [],
   "source": []
  },
  {
   "cell_type": "code",
   "execution_count": 33,
   "metadata": {},
   "outputs": [
    {
     "name": "stdout",
     "output_type": "stream",
     "text": [
      "Please enter the number : 6\n",
      "1 11 101 1001 10001 100001 \n",
      "\n",
      "1 11 101 1001 \n",
      "\n",
      "Please enter the number : 9\n",
      "1 11 101 1001 10001 100001 1000001 10000001 100000001 \n",
      "\n"
     ]
    }
   ],
   "source": []
  },
  {
   "cell_type": "code",
   "execution_count": 35,
   "metadata": {},
   "outputs": [
    {
     "name": "stdout",
     "output_type": "stream",
     "text": [
      "0\n",
      "\n",
      "\n",
      "1\n",
      "1 \n",
      "\n",
      "2\n",
      "2 2 \n",
      "\n",
      "3\n",
      "3 3 3 \n",
      "\n",
      "4\n",
      "4 4 4 4 \n",
      "\n",
      "5\n",
      "5 5 5 5 5 \n",
      "\n",
      "\n",
      "*\n",
      "**\n",
      "***\n",
      "****\n",
      "*****\n",
      "******\n",
      "\n",
      "\n",
      "\n",
      "\n",
      "1 \n",
      "\n",
      "1 2 \n",
      "\n",
      "1 2 3 \n",
      "\n",
      "1 2 3 4 \n",
      "\n"
     ]
    }
   ],
   "source": [
    "def prime_no(num):\n",
    "    flag = False\n",
    "    for i in range(2,int(num)):\n",
    "        if(num % i == 0 & num):\n",
    "            flag = True\n",
    "            break\n",
    "    if(flag):\n",
    "        print(num ,\" is not  a Prime Number\")\n",
    "    else:\n",
    "        print(num ,\" is Prime Number\")\n",
    "\n",
    "def star_print(num):\n",
    "    for i in range(num+1):\n",
    "        print(\"*\"*i)\n",
    "#         print(i)\n",
    "       \n",
    "def trianle_num(num):\n",
    "    for i in range(num + 1):\n",
    "        print(i)\n",
    "        for j in range(i):\n",
    "            print(i,end=\" \")\n",
    "#             print(i)\n",
    "        print(\"\\n\")\n",
    "        \n",
    "def trianle_num_1(num):\n",
    "    for i in range(num + 1):\n",
    "        for j in range(1,i):\n",
    "            print(j,end=\" \")\n",
    "        print(\"\\n\")\n",
    "        \n",
    "trianle_num(5)\n",
    "star_print(6)\n",
    "trianle_num_1(5)"
   ]
  },
  {
   "cell_type": "code",
   "execution_count": null,
   "metadata": {},
   "outputs": [],
   "source": []
  },
  {
   "cell_type": "code",
   "execution_count": null,
   "metadata": {},
   "outputs": [],
   "source": []
  },
  {
   "cell_type": "code",
   "execution_count": null,
   "metadata": {},
   "outputs": [],
   "source": []
  },
  {
   "cell_type": "code",
   "execution_count": null,
   "metadata": {},
   "outputs": [],
   "source": []
  },
  {
   "cell_type": "code",
   "execution_count": null,
   "metadata": {},
   "outputs": [],
   "source": []
  },
  {
   "cell_type": "markdown",
   "metadata": {},
   "source": [
    "# Class : OOPS"
   ]
  },
  {
   "cell_type": "code",
   "execution_count": 37,
   "metadata": {},
   "outputs": [
    {
     "name": "stdout",
     "output_type": "stream",
     "text": [
      "Please enter the number : 2\n",
      "1 11 \n",
      "\n",
      "1 11 101 1001 \n",
      "\n",
      "Please enter the number : 4\n",
      "1 11 101 1001 \n",
      "\n"
     ]
    }
   ],
   "source": [
    "#1\n",
    "class Test:\n",
    "    def __init__(self,n):\n",
    "        self.n = n\n",
    "            \n",
    "    def test1(self):\n",
    "        for i in range(self.n):\n",
    "            if(i == 0):\n",
    "                res = 1\n",
    "                print(res, end = \" \")\n",
    "            else:\n",
    "                res = 10**i + 1\n",
    "                print(res, end = \" \")\n",
    "        print(\"\\n\")\n",
    "        \n",
    "            \n",
    "    def test2(self,n2):       \n",
    "        for i in range(n2):\n",
    "            if(i == 0):\n",
    "                res = 1\n",
    "                print(res, end = \" \")\n",
    "            else:\n",
    "                res = 10**i + 1\n",
    "                print(res, end = \" \")\n",
    "        print(\"\\n\")\n",
    "                \n",
    "    def test3(self):\n",
    "        n1 = int(input(\"Please enter the number : \"))\n",
    "        for i in range(n1):\n",
    "            if(i == 0):\n",
    "                res = 1\n",
    "                print(res, end = \" \")\n",
    "            else:\n",
    "                res = 10**i + 1\n",
    "                print(res, end = \" \")\n",
    "        print(\"\\n\")\n",
    "\n",
    "\n",
    "if __name__ == '__main__':\n",
    "    number = int(input(\"Please enter the number : \"))\n",
    "\n",
    "    t = Test(number)\n",
    "    \n",
    "    t.test1()\n",
    "    \n",
    "    t.test2(4)\n",
    "    \n",
    "    t.test3()\n",
    "    "
   ]
  },
  {
   "cell_type": "code",
   "execution_count": 39,
   "metadata": {},
   "outputs": [
    {
     "name": "stdout",
     "output_type": "stream",
     "text": [
      "10\n",
      "20\n"
     ]
    }
   ],
   "source": [
    "class A:\n",
    "    def __init__(self, i):\n",
    "        self.var = i;\n",
    "        \n",
    "    def printVar(self):\n",
    "        print(self.var)\n",
    "    \n",
    "    \n",
    "a = A(10);\n",
    "a.printVar()\n",
    "\n",
    "a = A(20);\n",
    "a.printVar()\n"
   ]
  },
  {
   "cell_type": "code",
   "execution_count": null,
   "metadata": {},
   "outputs": [],
   "source": []
  },
  {
   "cell_type": "markdown",
   "metadata": {},
   "source": [
    "### <font color ='blue' > Encapsulation and Multilevel\n"
   ]
  },
  {
   "cell_type": "code",
   "execution_count": 38,
   "metadata": {},
   "outputs": [
    {
     "name": "stdout",
     "output_type": "stream",
     "text": [
      "I am parent class function\n",
      "I am child class function\n"
     ]
    }
   ],
   "source": [
    "# Parent class\n",
    "class ParentClass:\n",
    "    def par_func(self):\n",
    "         print(\"I am parent class function\")\n",
    "\n",
    "# Child class\n",
    "class ChildClass(ParentClass):\n",
    "    def child_func(self):\n",
    "         print(\"I am child class function\")\n",
    "\n",
    "# Driver code\n",
    "obj1 = ChildClass()\n",
    "obj1.par_func()\n",
    "obj1.child_func()"
   ]
  },
  {
   "cell_type": "code",
   "execution_count": 36,
   "metadata": {},
   "outputs": [
    {
     "name": "stdout",
     "output_type": "stream",
     "text": [
      "Area of rectangle r1: 26.25\n",
      "Perimeter of rectangle r1: 26.0\n",
      "Color of rectangle r1: black\n",
      "Is rectangle r1 filled ?  False\n",
      "Is rectangle r1 filled ?  True\n",
      "Color of rectangle r1: orange\n",
      "\n",
      "Area of circle c1: 452.39\n",
      "Perimeter of circle c1: 75.40\n",
      "Color of circle c1: black\n",
      "Is circle c1 filled ?  False\n",
      "Is circle c1 filled ?  True\n",
      "Color of circle c1: blue\n"
     ]
    }
   ],
   "source": [
    "# example from geometry: [Source: https://overiq.com/python-101/inheritance-and-polymorphism-in-python/]\n",
    "import math\n",
    " \n",
    "class Shape:\n",
    " \n",
    "    def __init__(self, color='black', filled=False):\n",
    "        self.__color = color\n",
    "        self.__filled = filled\n",
    " \n",
    "    def get_color(self):\n",
    "        return self.__color\n",
    " \n",
    "    def set_color(self, color):\n",
    "        self.__color = color\n",
    " \n",
    "    def get_filled(self):\n",
    "        return self.__filled\n",
    " \n",
    "    def set_filled(self, filled):\n",
    "        self.__filled = filled\n",
    " \n",
    " \n",
    "class Rectangle(Shape):\n",
    " \n",
    "    def __init__(self, length, breadth):\n",
    "        super().__init__()\n",
    "        self.__length = length\n",
    "        self.__breadth = breadth\n",
    " \n",
    "    def get_length(self):\n",
    "        return self.__length\n",
    " \n",
    "    def set_length(self, length):\n",
    "        self.__length = length\n",
    " \n",
    "    def get_breadth(self):\n",
    "        return self.__breadth\n",
    " \n",
    "    def set_breadth(self, breadth):\n",
    "        self.__breadth = breadth\n",
    " \n",
    "    def get_area(self):\n",
    "        return self.__length * self.__breadth\n",
    " \n",
    "    def get_perimeter(self):\n",
    "        return 2 * (self.__length + self.__breadth)\n",
    " \n",
    " \n",
    "class Circle(Shape):\n",
    "    def __init__(self, radius):\n",
    "        super().__init__()\n",
    "        self.__radius = radius\n",
    " \n",
    "    def get_radius(self):\n",
    "        return self.__radius\n",
    " \n",
    "    def set_radius(self, radius):\n",
    "        self.__radius = radius\n",
    " \n",
    "    def get_area(self):\n",
    "        return math.pi * self.__radius ** 2\n",
    " \n",
    "    def get_perimeter(self):\n",
    "        return 2 * math.pi * self.__radius\n",
    " \n",
    " \n",
    "r1 = Rectangle(10.5, 2.5)\n",
    " \n",
    "print(\"Area of rectangle r1:\", r1.get_area())\n",
    "print(\"Perimeter of rectangle r1:\", r1.get_perimeter())\n",
    "print(\"Color of rectangle r1:\", r1.get_color())\n",
    "print(\"Is rectangle r1 filled ? \", r1.get_filled())\n",
    "r1.set_filled(True)\n",
    "print(\"Is rectangle r1 filled ? \", r1.get_filled())\n",
    "r1.set_color(\"orange\")\n",
    "print(\"Color of rectangle r1:\", r1.get_color())\n",
    " \n",
    "c1 = Circle(12)\n",
    " \n",
    "print(\"\\nArea of circle c1:\", format(c1.get_area(), \"0.2f\"))\n",
    "print(\"Perimeter of circle c1:\", format(c1.get_perimeter(), \"0.2f\"))\n",
    "print(\"Color of circle c1:\", c1.get_color())\n",
    "print(\"Is circle c1 filled ? \", c1.get_filled())\n",
    "c1.set_filled(True)\n",
    "print(\"Is circle c1 filled ? \", c1.get_filled())\n",
    "c1.set_color(\"blue\")\n",
    "print(\"Color of circle c1:\", c1.get_color())"
   ]
  },
  {
   "cell_type": "code",
   "execution_count": null,
   "metadata": {},
   "outputs": [],
   "source": []
  }
 ],
 "metadata": {
  "kernelspec": {
   "display_name": "Python 3",
   "language": "python",
   "name": "python3"
  },
  "language_info": {
   "codemirror_mode": {
    "name": "ipython",
    "version": 3
   },
   "file_extension": ".py",
   "mimetype": "text/x-python",
   "name": "python",
   "nbconvert_exporter": "python",
   "pygments_lexer": "ipython3",
   "version": "3.8.5"
  },
  "toc": {
   "base_numbering": 1,
   "nav_menu": {},
   "number_sections": true,
   "sideBar": true,
   "skip_h1_title": false,
   "title_cell": "Table of Contents",
   "title_sidebar": "Contents",
   "toc_cell": false,
   "toc_position": {},
   "toc_section_display": true,
   "toc_window_display": false
  },
  "varInspector": {
   "cols": {
    "lenName": 16,
    "lenType": 16,
    "lenVar": 40
   },
   "kernels_config": {
    "python": {
     "delete_cmd_postfix": "",
     "delete_cmd_prefix": "del ",
     "library": "var_list.py",
     "varRefreshCmd": "print(var_dic_list())"
    },
    "r": {
     "delete_cmd_postfix": ") ",
     "delete_cmd_prefix": "rm(",
     "library": "var_list.r",
     "varRefreshCmd": "cat(var_dic_list()) "
    }
   },
   "types_to_exclude": [
    "module",
    "function",
    "builtin_function_or_method",
    "instance",
    "_Feature"
   ],
   "window_display": false
  }
 },
 "nbformat": 4,
 "nbformat_minor": 2
}
