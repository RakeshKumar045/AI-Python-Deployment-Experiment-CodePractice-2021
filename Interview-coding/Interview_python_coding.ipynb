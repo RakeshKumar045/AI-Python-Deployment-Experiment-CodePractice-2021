{
 "cells": [
  {
   "cell_type": "code",
   "execution_count": 28,
   "metadata": {
    "scrolled": true
   },
   "outputs": [],
   "source": [
    "from iteration_utilities import duplicates\n",
    "from scipy import stats as s\n",
    "from random import randint\n",
    "from re import search\n",
    "from pathlib import Path\n",
    "\n",
    "from functools import reduce\n",
    "\n",
    "from io import StringIO\n",
    "\n",
    "from bs4 import BeautifulSoup\n",
    "import pandas as pd\n",
    "import numpy as np\n",
    "\n",
    "import csv\n",
    "\n",
    "# import pprint\n",
    "from pprint import pprint \n",
    "import re, pprint, random, requests, glob\n",
    "\n",
    "from scipy.stats import mstats\n",
    "\n",
    "from itertools import groupby\n",
    "from operator import itemgetter\n",
    "from timeit import timeit\n",
    "from collections import Counter , defaultdict\n",
    "\n",
    "from pickle import dump, load\n",
    "from joblib import dump, load\n",
    "\n",
    "import datetime\n",
    "import datetime as dt\n",
    "\n",
    "from collections import Counter"
   ]
  },
  {
   "cell_type": "markdown",
   "metadata": {
    "heading_collapsed": true
   },
   "source": [
    "#### Q3 Find duplicates"
   ]
  },
  {
   "cell_type": "code",
   "execution_count": 109,
   "metadata": {
    "ExecuteTime": {
     "end_time": "2020-02-26T04:52:52.353319Z",
     "start_time": "2020-02-26T04:52:52.348369Z"
    },
    "hidden": true
   },
   "outputs": [
    {
     "data": {
      "text/plain": [
       "{'a': 1, 'e': 2, 'i': 2, 'o': 4, 'u': 3}"
      ]
     },
     "execution_count": 109,
     "metadata": {},
     "output_type": "execute_result"
    }
   ],
   "source": [
    "def find_dup(st):\n",
    "    di = dict()\n",
    "    for i in st:\n",
    "        if i in di:\n",
    "            di[i] += 1\n",
    "        else:\n",
    "            di[i] =1            \n",
    "    return di\n",
    "st = 'aeeiioooouuu'\n",
    "find_dup(st)"
   ]
  },
  {
   "cell_type": "markdown",
   "metadata": {
    "heading_collapsed": true
   },
   "source": [
    "#### Q4 Reverse the string"
   ]
  },
  {
   "cell_type": "code",
   "execution_count": 35,
   "metadata": {
    "ExecuteTime": {
     "end_time": "2020-02-26T04:53:17.826536Z",
     "start_time": "2020-02-26T04:53:17.821550Z"
    },
    "hidden": true
   },
   "outputs": [
    {
     "data": {
      "text/plain": [
       "'hsekaR'"
      ]
     },
     "execution_count": 35,
     "metadata": {},
     "output_type": "execute_result"
    }
   ],
   "source": [
    "stt = 'Rakesh'\n",
    "stt11 = stt[::-1]\n",
    "stt11"
   ]
  },
  {
   "cell_type": "code",
   "execution_count": 36,
   "metadata": {
    "ExecuteTime": {
     "end_time": "2020-02-26T04:53:22.738970Z",
     "start_time": "2020-02-26T04:53:22.731990Z"
    },
    "hidden": true
   },
   "outputs": [
    {
     "data": {
      "text/plain": [
       "'hsekaR'"
      ]
     },
     "execution_count": 36,
     "metadata": {},
     "output_type": "execute_result"
    }
   ],
   "source": [
    "stt2 = [x for x in stt]\n",
    "for i in range(0,int(len(stt2)/2)):\n",
    "    temp = stt2[i]\n",
    "    stt2[i] = stt2[-i-1]\n",
    "    stt2[-i-1] = temp\n",
    "str2 = ''.join(stt2)\n",
    "str2"
   ]
  },
  {
   "cell_type": "code",
   "execution_count": 37,
   "metadata": {
    "ExecuteTime": {
     "end_time": "2020-02-26T04:53:25.138990Z",
     "start_time": "2020-02-26T04:53:25.135001Z"
    },
    "hidden": true
   },
   "outputs": [],
   "source": [
    "def rev_1(s):\n",
    "\n",
    "    rev = \"\"\n",
    "    \n",
    "    for val in s:\n",
    "        rev = val + rev\n",
    "    return rev"
   ]
  },
  {
   "cell_type": "code",
   "execution_count": 38,
   "metadata": {
    "ExecuteTime": {
     "end_time": "2020-02-26T04:53:46.763643Z",
     "start_time": "2020-02-26T04:53:46.759620Z"
    },
    "hidden": true
   },
   "outputs": [
    {
     "data": {
      "text/plain": [
       "'ramuK hsekaR'"
      ]
     },
     "execution_count": 38,
     "metadata": {},
     "output_type": "execute_result"
    }
   ],
   "source": [
    "rev_1(\"Rakesh Kumar\")"
   ]
  },
  {
   "cell_type": "markdown",
   "metadata": {
    "heading_collapsed": true
   },
   "source": [
    "#### Q5 Get Index of Upper case in python"
   ]
  },
  {
   "cell_type": "code",
   "execution_count": 113,
   "metadata": {},
   "outputs": [
    {
     "data": {
      "text/plain": [
       "([0, 3, 5, 8, 10, 11], ['R', 'A', 'H', 'U', 'A', 'R'])"
      ]
     },
     "execution_count": 113,
     "metadata": {},
     "output_type": "execute_result"
    }
   ],
   "source": [
    "def get_index_uppar_case(str_val):\n",
    "    index_uppar_case_list = []\n",
    "    value_uppar_case_list = []\n",
    "    \n",
    "    for i, v in enumerate(str_val):\n",
    "        if ord(v) > 64 and ord(v) < 91 :\n",
    "            index_uppar_case_list.append(i)\n",
    "            value_uppar_case_list.append(v)\n",
    "    return index_uppar_case_list, value_uppar_case_list\n",
    "            \n",
    "inp_str = 'RakAsH kUmAR'\n",
    "get_index_uppar_case(inp_str)"
   ]
  },
  {
   "cell_type": "code",
   "execution_count": 111,
   "metadata": {},
   "outputs": [
    {
     "data": {
      "text/plain": [
       "65"
      ]
     },
     "execution_count": 111,
     "metadata": {},
     "output_type": "execute_result"
    }
   ],
   "source": [
    "ord(\"A\")"
   ]
  },
  {
   "cell_type": "markdown",
   "metadata": {},
   "source": [
    "####  Q6 Get the middle string"
   ]
  },
  {
   "cell_type": "code",
   "execution_count": 45,
   "metadata": {
    "ExecuteTime": {
     "end_time": "2020-02-26T04:55:59.287715Z",
     "start_time": "2020-02-26T04:55:59.282731Z"
    }
   },
   "outputs": [
    {
     "name": "stdout",
     "output_type": "stream",
     "text": [
      "m\n"
     ]
    }
   ],
   "source": [
    "st = 'Kumar'\n",
    "def midd(st):\n",
    "    if len(st)%2==0:\n",
    "        return \"\"\n",
    "    else:\n",
    "        return st[int(len(st)/2)]\n",
    "print(midd(st))"
   ]
  },
  {
   "cell_type": "markdown",
   "metadata": {},
   "source": [
    "#### Q7 Online Status"
   ]
  },
  {
   "cell_type": "code",
   "execution_count": 46,
   "metadata": {
    "ExecuteTime": {
     "end_time": "2020-02-26T04:56:12.347786Z",
     "start_time": "2020-02-26T04:56:12.342802Z"
    }
   },
   "outputs": [],
   "source": [
    "statuses = {\n",
    "    \"Alice\": \"online\",\n",
    "    \"Bob\": \"offline\",\n",
    "    \"Eve\": \"online\",\n",
    "}\n",
    "def online_count(statuses):\n",
    "    return len([x for x in statuses.values() if x=='online'])"
   ]
  },
  {
   "cell_type": "code",
   "execution_count": 47,
   "metadata": {
    "ExecuteTime": {
     "end_time": "2020-02-26T04:56:16.432144Z",
     "start_time": "2020-02-26T04:56:16.427192Z"
    }
   },
   "outputs": [
    {
     "data": {
      "text/plain": [
       "2"
      ]
     },
     "execution_count": 47,
     "metadata": {},
     "output_type": "execute_result"
    }
   ],
   "source": [
    "online_count(statuses)"
   ]
  },
  {
   "cell_type": "markdown",
   "metadata": {},
   "source": [
    "#### Q8 Own Random Function"
   ]
  },
  {
   "cell_type": "code",
   "execution_count": 48,
   "metadata": {
    "ExecuteTime": {
     "end_time": "2020-02-26T04:56:24.355601Z",
     "start_time": "2020-02-26T04:56:24.351612Z"
    }
   },
   "outputs": [],
   "source": [
    "import time\n",
    "def random_number():\n",
    "    x = time.time()\n",
    "    return int((x%10)*10)\n",
    "    "
   ]
  },
  {
   "cell_type": "code",
   "execution_count": 49,
   "metadata": {
    "ExecuteTime": {
     "end_time": "2020-02-26T04:56:25.242543Z",
     "start_time": "2020-02-26T04:56:25.238555Z"
    },
    "scrolled": true
   },
   "outputs": [
    {
     "name": "stdout",
     "output_type": "stream",
     "text": [
      "52\n"
     ]
    }
   ],
   "source": [
    "print(random_number())"
   ]
  },
  {
   "cell_type": "markdown",
   "metadata": {},
   "source": [
    "#### Q9 Check if int"
   ]
  },
  {
   "cell_type": "code",
   "execution_count": 50,
   "metadata": {
    "ExecuteTime": {
     "end_time": "2020-02-26T04:56:31.608682Z",
     "start_time": "2020-02-26T04:56:31.604729Z"
    }
   },
   "outputs": [],
   "source": [
    "import numbers\n",
    "def only_ints(a,b):\n",
    "    if isinstance(a,numbers.Integral) and isinstance(b,numbers.Integral) and not isinstance(b,bool) and not isinstance(a,bool):\n",
    "        return True\n",
    "    else:\n",
    "        return False"
   ]
  },
  {
   "cell_type": "code",
   "execution_count": 51,
   "metadata": {
    "ExecuteTime": {
     "end_time": "2020-02-26T04:56:32.619418Z",
     "start_time": "2020-02-26T04:56:32.614432Z"
    }
   },
   "outputs": [
    {
     "data": {
      "text/plain": [
       "False"
      ]
     },
     "execution_count": 51,
     "metadata": {},
     "output_type": "execute_result"
    }
   ],
   "source": [
    "only_ints(1,True)"
   ]
  },
  {
   "cell_type": "markdown",
   "metadata": {},
   "source": [
    "#### Q10 Double letters"
   ]
  },
  {
   "cell_type": "code",
   "execution_count": 52,
   "metadata": {
    "ExecuteTime": {
     "end_time": "2020-02-26T04:56:39.297691Z",
     "start_time": "2020-02-26T04:56:39.293700Z"
    }
   },
   "outputs": [],
   "source": [
    "def double_letters(st):\n",
    "    for i in range(0,len(st)-1):\n",
    "        if st[i] == st[i+1]:\n",
    "            return True\n",
    "    return False"
   ]
  },
  {
   "cell_type": "code",
   "execution_count": 53,
   "metadata": {
    "ExecuteTime": {
     "end_time": "2020-02-26T04:56:39.996007Z",
     "start_time": "2020-02-26T04:56:39.992040Z"
    }
   },
   "outputs": [
    {
     "name": "stdout",
     "output_type": "stream",
     "text": [
      "False\n"
     ]
    }
   ],
   "source": [
    "print(double_letters('helo'))"
   ]
  },
  {
   "cell_type": "markdown",
   "metadata": {},
   "source": [
    "#### Q11 Add and Remove Dots"
   ]
  },
  {
   "cell_type": "code",
   "execution_count": 54,
   "metadata": {
    "ExecuteTime": {
     "end_time": "2020-02-26T04:56:42.506751Z",
     "start_time": "2020-02-26T04:56:42.502800Z"
    }
   },
   "outputs": [],
   "source": [
    "def add_dots(st):\n",
    "    #st1 = [x+'.' for x in st]\n",
    "    st2 = '.'.join(st)\n",
    "    return st2\n",
    "def remove_dots(st):\n",
    "    #st1 = [x for x in st if x != '.']\n",
    "    st2 = st.replace('.','')\n",
    "    return st2"
   ]
  },
  {
   "cell_type": "code",
   "execution_count": 55,
   "metadata": {
    "ExecuteTime": {
     "end_time": "2020-02-26T04:57:06.401528Z",
     "start_time": "2020-02-26T04:57:06.396543Z"
    }
   },
   "outputs": [
    {
     "name": "stdout",
     "output_type": "stream",
     "text": [
      "r.a.k.a\n",
      "raka\n",
      "raka\n"
     ]
    }
   ],
   "source": [
    "print(add_dots('raka'))\n",
    "print(remove_dots('r.a.k.a'))\n",
    "print(remove_dots(add_dots('raka')))"
   ]
  },
  {
   "cell_type": "markdown",
   "metadata": {},
   "source": [
    "#### Q12 Counting syllables"
   ]
  },
  {
   "cell_type": "code",
   "execution_count": 56,
   "metadata": {
    "ExecuteTime": {
     "end_time": "2020-02-26T04:57:22.005580Z",
     "start_time": "2020-02-26T04:57:22.001560Z"
    }
   },
   "outputs": [],
   "source": [
    "def count(st):\n",
    "    #return (len([x for x in st if x=='-']))+1\n",
    "    return st.count('-')+1"
   ]
  },
  {
   "cell_type": "code",
   "execution_count": 57,
   "metadata": {
    "ExecuteTime": {
     "end_time": "2020-02-26T04:57:22.969705Z",
     "start_time": "2020-02-26T04:57:22.965716Z"
    }
   },
   "outputs": [
    {
     "name": "stdout",
     "output_type": "stream",
     "text": [
      "2\n"
     ]
    }
   ],
   "source": [
    "print(count('ra-ka'))"
   ]
  },
  {
   "cell_type": "markdown",
   "metadata": {},
   "source": [
    "#### Generator - It is a object which is used to generate some value when used with some iterable"
   ]
  },
  {
   "cell_type": "code",
   "execution_count": 58,
   "metadata": {
    "ExecuteTime": {
     "end_time": "2020-02-26T04:57:32.941430Z",
     "start_time": "2020-02-26T04:57:32.935446Z"
    }
   },
   "outputs": [
    {
     "name": "stdout",
     "output_type": "stream",
     "text": [
      "0\n",
      "1\n",
      "8\n",
      "27\n",
      "64\n",
      "125\n"
     ]
    }
   ],
   "source": [
    "def cube(n):\n",
    "    for i in range(0,n+1):\n",
    "        yield i**3\n",
    "for x in cube(5):\n",
    "    print(x)"
   ]
  },
  {
   "cell_type": "markdown",
   "metadata": {},
   "source": [
    "#### Generator 2"
   ]
  },
  {
   "cell_type": "code",
   "execution_count": 73,
   "metadata": {
    "ExecuteTime": {
     "end_time": "2020-02-26T05:00:15.145580Z",
     "start_time": "2020-02-26T05:00:15.140596Z"
    }
   },
   "outputs": [],
   "source": [
    "\n",
    "        \n",
    "def fibo(n):\n",
    "    a=0;b=1\n",
    "    for i in range(n):\n",
    "        print(a)\n",
    "        a,b = b,a+b \n",
    "        \n",
    "def fibo_1(n):\n",
    "    a=0;b=1\n",
    "    for i in range(n):\n",
    "        print(a)\n",
    "        c = a+b\n",
    "        a = b\n",
    "        b = c"
   ]
  },
  {
   "cell_type": "code",
   "execution_count": 74,
   "metadata": {
    "ExecuteTime": {
     "end_time": "2020-02-26T05:00:15.468816Z",
     "start_time": "2020-02-26T05:00:15.463829Z"
    }
   },
   "outputs": [
    {
     "name": "stdout",
     "output_type": "stream",
     "text": [
      "0\n",
      "1\n",
      "1\n",
      "0\n",
      "1\n",
      "1\n",
      "2\n",
      "3\n"
     ]
    }
   ],
   "source": [
    "fibo(3)\n",
    "fibo_1(5)"
   ]
  },
  {
   "cell_type": "markdown",
   "metadata": {},
   "source": [
    "#### next() - it is able to give value over a iterator one by one <br>iter() - Used to iterate"
   ]
  },
  {
   "cell_type": "code",
   "execution_count": 75,
   "metadata": {
    "ExecuteTime": {
     "end_time": "2020-02-26T05:00:21.741242Z",
     "start_time": "2020-02-26T05:00:21.735257Z"
    }
   },
   "outputs": [
    {
     "data": {
      "text/plain": [
       "1"
      ]
     },
     "execution_count": 75,
     "metadata": {},
     "output_type": "execute_result"
    }
   ],
   "source": [
    "z = [1,2,3]\n",
    "next(iter(z))"
   ]
  },
  {
   "cell_type": "markdown",
   "metadata": {},
   "source": [
    "#### Exception handling"
   ]
  },
  {
   "cell_type": "code",
   "execution_count": 76,
   "metadata": {
    "ExecuteTime": {
     "end_time": "2020-02-26T05:00:26.856805Z",
     "start_time": "2020-02-26T05:00:26.851819Z"
    }
   },
   "outputs": [
    {
     "name": "stdout",
     "output_type": "stream",
     "text": [
      "division by zero\n",
      "It is over\n"
     ]
    }
   ],
   "source": [
    "# If try is success then else and finally will execute otherwise except and finally execute\n",
    "try:\n",
    "    a = 9/0\n",
    "except Exception as e:\n",
    "    print(e)\n",
    "else:\n",
    "    print('this is else')\n",
    "finally:\n",
    "    print('It is over')"
   ]
  },
  {
   "cell_type": "markdown",
   "metadata": {},
   "source": [
    "### <font color ='blue' > Bubble sort, 2nd(Smallest or Largest),Remove Duplicate No, Find Duplicate No, Find Total No of Duplicate No "
   ]
  },
  {
   "cell_type": "code",
   "execution_count": 79,
   "metadata": {},
   "outputs": [
    {
     "name": "stdout",
     "output_type": "stream",
     "text": [
      "([1, 1, 3, 3, 3, 3, 3, 6, 14, 17, 22, 22], [1, 3, 6, 14, 17, 22], [1, 3, 3, 3, 3, 22], {})\n"
     ]
    }
   ],
   "source": [
    "arr = [14,17,22,3, 3,1, 22, 3, 1, 6, 3, 3]\n",
    "a1 = []\n",
    "def bubbl_sort(a):\n",
    "    n = len(a)\n",
    "    if n != 0:\n",
    "        for i in range(n):\n",
    "            for j in range(0, n - 1 -i): # n 5 - 1 - 1 3\n",
    "                if a[j] > a[j+1]:\n",
    "                    a[j], a[j+1] = a[j+1], a[j]     \n",
    "        \n",
    "    else:\n",
    "        return \"Array is empty\"\n",
    "    \n",
    "    #after sorting \n",
    "    arr_list = a.copy()\n",
    "    find_duplicate_values = []\n",
    "    find_no_of_duplicate_val = {}\n",
    "    \n",
    "#     find_no_of_duplicate_val = {a[x] : arr_list.count(y) for x in range(n-1) for y in arr_list if arr_list[x] == arr_list[x+1] }           \n",
    "  \n",
    "    for i in range(n-1):\n",
    "            if a[i] == a[i+1]:\n",
    "                arr_list.remove(a[i+1]) # remove duplicate number\n",
    "                find_duplicate_values.append((a[i+1])) # find the duplicate values\n",
    "                \n",
    "#     find_no_of_duplicate_val = {a[x] : arr_list.count(y) for x in range(n-1) for y in arr_list if a[x] == a[x+1] }           \n",
    "                \n",
    "\n",
    "    return a, arr_list, find_duplicate_values, find_no_of_duplicate_val\n",
    "\n",
    "sorting_value = bubbl_sort(arr)\n",
    "print(sorting_value)\n",
    "# length = len(sorting_value)\n",
    "# if length > 1:\n",
    "#     print(\"2nd smallest no : \", sorting_value[1])\n",
    "#     print(\"2nd largest no : \", sorting_value[length-2])\n"
   ]
  },
  {
   "cell_type": "code",
   "execution_count": 95,
   "metadata": {},
   "outputs": [
    {
     "name": "stdout",
     "output_type": "stream",
     "text": [
      "4 8 33 1 9\n",
      "arr :  ['4', '8', '33', '1', '9']\n"
     ]
    },
    {
     "data": {
      "text/plain": [
       "(['1', '4', '8', '9', '33'], 'Largest no : 33')"
      ]
     },
     "execution_count": 95,
     "metadata": {},
     "output_type": "execute_result"
    }
   ],
   "source": [
    "def find_largest_value(input_from_keybroad): #code is from bubble sort code, but give inupt runtime or keybroad\n",
    "    a = input_from_keybroad.split(\" \")\n",
    "    print(\"arr : \", a)\n",
    "    \n",
    "    n = len(a)\n",
    "    if n != 0:\n",
    "        for i in range(n):\n",
    "            for j in range(0, n - 1 -i): # n 5 - 1 - 1 3\n",
    "                if int(a[j]) > int(a[j+1]):\n",
    "                    a[j], a[j+1] = a[j+1], a[j]  \n",
    "    else:\n",
    "        return \"Array is empty\"\n",
    "    \n",
    "    return a, \"Largest no : \" + a[-1]\n",
    "        \n",
    "    \n",
    "input_value = input()\n",
    "\n",
    "# input_value = '1 111 2 77 99'\n",
    "find_largest_value(input_value)"
   ]
  },
  {
   "cell_type": "code",
   "execution_count": null,
   "metadata": {},
   "outputs": [],
   "source": []
  },
  {
   "cell_type": "markdown",
   "metadata": {},
   "source": [
    "#### Pattern 1\n",
    "1<br>\n",
    "22<br>\n",
    "333<br>\n",
    "4444<br>\n",
    "55555<br>"
   ]
  },
  {
   "cell_type": "code",
   "execution_count": 372,
   "metadata": {},
   "outputs": [
    {
     "name": "stdout",
     "output_type": "stream",
     "text": [
      "1\n",
      "22\n",
      "333\n",
      "4444\n",
      "55555\n",
      "####################################################################################################\n",
      "1 \n",
      "2 2 \n",
      "3 3 3 \n",
      "4 4 4 4 \n",
      "5 5 5 5 5 \n"
     ]
    }
   ],
   "source": [
    "def pattern_1(n):\n",
    "    \n",
    "    for i in range(1, n + 1):\n",
    "        for j in range(1, i+1):\n",
    "            print(i, end=\"\") # note : end = \"\" or \" \" not same\n",
    "        print(\"\")\n",
    "    \n",
    "def pattern_2(n):\n",
    "    \n",
    "    for i in range(1, n + 1):\n",
    "        for j in range(1, i+1):\n",
    "            print(i, end=\" \") # note : end = \"\" or \" \" not same\n",
    "        print(\"\")\n",
    "            \n",
    "            \n",
    "pattern_1(5)\n",
    "\n",
    "print(\"#\"*100)\n",
    "\n",
    "pattern_2(5)"
   ]
  },
  {
   "cell_type": "markdown",
   "metadata": {},
   "source": [
    "#### Pattern 3\n",
    "1<br>\n",
    "12<br>\n",
    "123<br>\n",
    "1234<br>\n",
    "12345<br>"
   ]
  },
  {
   "cell_type": "code",
   "execution_count": 248,
   "metadata": {},
   "outputs": [
    {
     "name": "stdout",
     "output_type": "stream",
     "text": [
      "1\n",
      "12\n",
      "123\n",
      "1234\n",
      "12345\n"
     ]
    }
   ],
   "source": [
    "def pattern_3(n):\n",
    "    \n",
    "    for i in range(1, n+1):\n",
    "        for j in range(1, i+1):\n",
    "            print(j, end = \"\") # note : end = \"\" or \" \" not same\n",
    "        print(\"\")\n",
    "    \n",
    "pattern_3(5)"
   ]
  },
  {
   "cell_type": "code",
   "execution_count": 199,
   "metadata": {},
   "outputs": [
    {
     "name": "stdout",
     "output_type": "stream",
     "text": [
      "*\n",
      "**\n",
      "***\n",
      "****\n",
      "*****\n"
     ]
    }
   ],
   "source": [
    "def pattern_4(n):\n",
    "    \n",
    "    for i in range(1, n+1):\n",
    "        for j in range(1, i+1):\n",
    "            print(\"*\", end=\"\") # note : end = \"\" or \" \" not same\n",
    "        print(\"\")\n",
    "    \n",
    "pattern_4(5)"
   ]
  },
  {
   "cell_type": "markdown",
   "metadata": {},
   "source": [
    "#### Pattern 5\n",
    "5 4 3 2 1 <br>\n",
    "5 4 3 2 <br>\n",
    "5 4 3 <br>\n",
    "5 4 <br>\n",
    "5 "
   ]
  },
  {
   "cell_type": "code",
   "execution_count": 252,
   "metadata": {
    "scrolled": true
   },
   "outputs": [
    {
     "name": "stdout",
     "output_type": "stream",
     "text": [
      "5 4 3 2 1 \n",
      "5 4 3 2 \n",
      "5 4 3 \n",
      "5 4 \n",
      "5 \n"
     ]
    }
   ],
   "source": [
    "def pattern_5(n):\n",
    "    for i in range(n):\n",
    "        for j in range(n, i,- 1):\n",
    "            print(j, end=\" \") # note : end = \"\" or \" \" not same\n",
    "        print(\"\")\n",
    "    \n",
    "pattern_5(5)"
   ]
  },
  {
   "cell_type": "markdown",
   "metadata": {},
   "source": [
    "#### Pattern 6\n",
    "5 5 5 5 5 <br>\n",
    "4 4 4 4 <br>\n",
    "3 3 3 <br>\n",
    "2 2 <br>\n",
    "1 "
   ]
  },
  {
   "cell_type": "code",
   "execution_count": 271,
   "metadata": {},
   "outputs": [
    {
     "name": "stdout",
     "output_type": "stream",
     "text": [
      "5 5 5 5 5 \n",
      "4 4 4 4 \n",
      "3 3 3 \n",
      "2 2 \n",
      "1 \n"
     ]
    }
   ],
   "source": [
    "def pattern_6(n):\n",
    "    for i in range(n):\n",
    "        for j in range(n, i, -1):\n",
    "            print(n - i, end = \" \")\n",
    "        print(\"\")\n",
    "        \n",
    "pattern_6(5)"
   ]
  },
  {
   "cell_type": "markdown",
   "metadata": {},
   "source": [
    "#### Pattern 7\n",
    "1 2 3 4 5 <br>\n",
    "1 2 3 4 <br>\n",
    "1 2 3 <br>\n",
    "1 2 <br>\n",
    "1"
   ]
  },
  {
   "cell_type": "code",
   "execution_count": 277,
   "metadata": {},
   "outputs": [
    {
     "name": "stdout",
     "output_type": "stream",
     "text": [
      "12345\n",
      "1234\n",
      "123\n",
      "12\n",
      "1\n"
     ]
    }
   ],
   "source": [
    "def pattern_7(n):\n",
    "    for i in range(n):\n",
    "        for j in range(n, i, -1):\n",
    "            print(n - j + 1 , end = \"\")\n",
    "        print(\"\")\n",
    "        \n",
    "pattern_7(5)"
   ]
  },
  {
   "cell_type": "markdown",
   "metadata": {},
   "source": [
    "#### Pattern 8\n",
    "1 1 1 1 1 <br>\n",
    "2 2 2 2 <br>\n",
    "3 3 3 <br>\n",
    "4 4 <br>\n",
    "5"
   ]
  },
  {
   "cell_type": "code",
   "execution_count": 264,
   "metadata": {
    "scrolled": true
   },
   "outputs": [
    {
     "name": "stdout",
     "output_type": "stream",
     "text": [
      "1 1 1 1 1 \n",
      "2 2 2 2 \n",
      "3 3 3 \n",
      "4 4 \n",
      "5 \n"
     ]
    }
   ],
   "source": [
    "def pattern_8(n):\n",
    "    for i in range(n):\n",
    "        for j in range(n, i,- 1):\n",
    "            print(i+1, end=\" \") # note : end = \"\" or \" \" not same\n",
    "        print(\"\")\n",
    "    \n",
    "pattern_8(5)"
   ]
  },
  {
   "cell_type": "markdown",
   "metadata": {},
   "source": [
    "#### Pattern 9\n",
    "_______ -1<br>\n",
    "_______12<br>\n",
    "__123<br>\n",
    "_1234<br>\n",
    "12345"
   ]
  },
  {
   "cell_type": "code",
   "execution_count": 371,
   "metadata": {},
   "outputs": [
    {
     "name": "stdout",
     "output_type": "stream",
     "text": [
      "        1 \n",
      "      1 2 \n",
      "    1 2 3 \n",
      "  1 2 3 4 \n",
      "1 2 3 4 5 \n",
      "####################################################################################################\n",
      "    1 \n",
      "   1 2 \n",
      "  1 2 3 \n",
      " 1 2 3 4 \n",
      "1 2 3 4 5 \n"
     ]
    }
   ],
   "source": [
    "def pattern_9(n):\n",
    "    for i in range(1, n + 1):\n",
    "        for j in range(n, i, -1):\n",
    "            print(\" \", end = \" \") # note : \" \" & \"\" not same, space is playing big role here\n",
    "        \n",
    "        for k in range(1, i + 1):\n",
    "            print(k, end = \" \")\n",
    "\n",
    "        print(\"\")\n",
    "        \n",
    "pattern_9(5)\n",
    "\n",
    "print(\"#\"*100)\n",
    "\n",
    "\n",
    "def pattern_10(n):\n",
    "    for i in range(1, n + 1):\n",
    "        for j in range(n, i, -1):\n",
    "            print(\"\", end = \" \") # note : \" \" & \"\" not same, space is playing big role here\n",
    "        \n",
    "        for k in range(1, i + 1):\n",
    "            print(k, end = \" \")\n",
    "\n",
    "        print(\"\")\n",
    "        \n",
    "pattern_10(5)"
   ]
  },
  {
   "cell_type": "code",
   "execution_count": 339,
   "metadata": {},
   "outputs": [
    {
     "name": "stdout",
     "output_type": "stream",
     "text": [
      "        1 \n",
      "      2 2 \n",
      "    3 3 3 \n",
      "  4 4 4 4 \n",
      "5 5 5 5 5 \n",
      "    1 \n",
      "   2 2 \n",
      "  3 3 3 \n",
      " 4 4 4 4 \n",
      "5 5 5 5 5 \n"
     ]
    }
   ],
   "source": [
    "def pattern_11(n):\n",
    "    c = 0\n",
    "    for i in range(1, n + 1):\n",
    "        for j in range(n, i, -1):\n",
    "            print(\" \", end = \" \") # note : \" \" & \"\" not same, space is playing big role here\n",
    "        \n",
    "        c = i\n",
    "        \n",
    "        for k in range(1, i + 1):\n",
    "            print(c, end = \" \")\n",
    "\n",
    "        print(\"\")\n",
    "        \n",
    "pattern_11(5)\n",
    "\n",
    "\n",
    "def pattern_12(n):\n",
    "    c = 0\n",
    "    for i in range(1, n + 1):\n",
    "        for j in range(n, i, -1):\n",
    "            print(\"\", end = \" \") # note : \" \" & \"\" not same, space is playing big role here\n",
    "        \n",
    "        c = i\n",
    "        \n",
    "        for k in range(1, i + 1):\n",
    "            print(c, end = \" \")\n",
    "\n",
    "        print(\"\")\n",
    "        \n",
    "pattern_12(5)"
   ]
  },
  {
   "cell_type": "markdown",
   "metadata": {},
   "source": [
    "#### Pattern 6 - Pyramid"
   ]
  },
  {
   "cell_type": "code",
   "execution_count": 370,
   "metadata": {
    "scrolled": true
   },
   "outputs": [
    {
     "name": "stdout",
     "output_type": "stream",
     "text": [
      "     \n",
      "    * \n",
      "   * * \n",
      "  * * * \n",
      " * * * * \n",
      "* * * * * \n",
      "####################################################################################################\n",
      "          \n",
      "        * \n",
      "      * * \n",
      "    * * * \n",
      "  * * * * \n",
      "* * * * * \n"
     ]
    }
   ],
   "source": [
    "def pattern_13(n):\n",
    "    for i in range(n + 1 ):\n",
    "        \n",
    "        for j in range(n, i, -1):\n",
    "            print(\"\", end = \" \") # note : \" \" & \"\" not same space is playing big role here\n",
    "            \n",
    "        for k in range(1, i + 1):\n",
    "            print(\"*\", end = \" \")     \n",
    "        print(\"\")\n",
    "        \n",
    "pattern_13(5)\n",
    "\n",
    "print(\"#\"*100)\n",
    "\n",
    "def pattern_14(n):\n",
    "    for i in range(n + 1):\n",
    "        \n",
    "        for j in range(n, i, -1):\n",
    "            print(\" \", end = \" \") # note : \" \" & \"\" not same space is playing big role here\n",
    "            \n",
    "        for k in range(1, i + 1):\n",
    "            print(\"*\", end = \" \")       \n",
    "        print(\"\")\n",
    "        \n",
    "pattern_14(5)\n"
   ]
  },
  {
   "cell_type": "code",
   "execution_count": 369,
   "metadata": {
    "scrolled": true
   },
   "outputs": [
    {
     "name": "stdout",
     "output_type": "stream",
     "text": [
      "          \n",
      "         *  \n",
      "       *   *  \n",
      "     *   *   *  \n",
      "   *   *   *   *  \n",
      " *   *   *   *   *  \n",
      "####################################################################################################\n",
      "* * * * * \n",
      "* * * * \n",
      "* * * \n",
      "* * \n",
      "* \n"
     ]
    }
   ],
   "source": [
    "\n",
    "def pattern_15(n):\n",
    "    for i in range(n + 1):\n",
    "        \n",
    "        for j in range(n, i, -1):\n",
    "            print(\" \", end = \" \") # note : \" \" & \"\" not same space is playing big role here\n",
    "            \n",
    "        for k in range(1, i + 1):\n",
    "            print(\" * \", end = \" \") \n",
    "        \n",
    "        print(\"\")\n",
    "        \n",
    "pattern_15(5)\n",
    "\n",
    "print(\"#\"*100)\n",
    "\n",
    "def pattern_16(n):\n",
    "    for i in range(n):\n",
    "        for j in range(n, i, -1):\n",
    "            print(\"*\", end = \" \")\n",
    "        print(\"\")\n",
    "        \n",
    "pattern_16(5)"
   ]
  },
  {
   "cell_type": "code",
   "execution_count": null,
   "metadata": {},
   "outputs": [],
   "source": []
  },
  {
   "cell_type": "code",
   "execution_count": 368,
   "metadata": {},
   "outputs": [
    {
     "name": "stdout",
     "output_type": "stream",
     "text": [
      " * \n",
      " * * \n",
      " * * * \n",
      " * * * * \n",
      " * * * * * \n",
      " * * * * \n",
      " * * * \n",
      " * * \n",
      " * \n"
     ]
    }
   ],
   "source": [
    "import math\n",
    "def pattern_17(n): # note : n should be odd number\n",
    "    s = \" \"\n",
    "    n1 = math.ceil(n/2) # if n : 9, then n1 = 5, n2 = 4\n",
    "    \n",
    "    for i in range(n):\n",
    "        if i < n1:\n",
    "            s = s + \"* \" # note : \"* \" after * space should be there\n",
    "            print(s)\n",
    "        else:\n",
    "            s = s[:-2]\n",
    "            print(s)\n",
    "        \n",
    "pattern_17(9)  "
   ]
  },
  {
   "cell_type": "code",
   "execution_count": 361,
   "metadata": {},
   "outputs": [
    {
     "data": {
      "text/plain": [
       "5"
      ]
     },
     "execution_count": 361,
     "metadata": {},
     "output_type": "execute_result"
    }
   ],
   "source": [
    "\n",
    "import math\n",
    "math.ceil(4.1)"
   ]
  },
  {
   "cell_type": "markdown",
   "metadata": {},
   "source": [
    "# <font color ='blue' > Dictionary\n"
   ]
  },
  {
   "cell_type": "code",
   "execution_count": 19,
   "metadata": {},
   "outputs": [
    {
     "name": "stdout",
     "output_type": "stream",
     "text": [
      "{'Trishala': 92, 'Richard': 87, 'Rakesh': 97, 'Raka': 99, 'John': 85, 'Ananya': 90, 'Alex': 80}\n"
     ]
    }
   ],
   "source": [
    "#Key = 0 (sort the keys) , key = 1 (sort the value), flag = Flase(Accending order), True(decending order)\n",
    "def sort_dic_key_value_order(dict_val, key_value = 0, ascending_descending = False):\n",
    "    \n",
    "    val = sorted(dict_val.items(),  key = lambda x : x[key_value], reverse = ascending_descending)\n",
    "    return dict(val)\n",
    "         \n",
    "marks = {\"Raka\" : 99, \"Ananya\" : 90 ,'John':85, 'Alex':80, 'Richard': 87, \"Rakesh\" : 97 , \"Trishala\" : 92}\n",
    "\n",
    "print(sort_dic_key_value_order(marks, 0, True))"
   ]
  },
  {
   "cell_type": "code",
   "execution_count": null,
   "metadata": {},
   "outputs": [],
   "source": []
  },
  {
   "cell_type": "code",
   "execution_count": null,
   "metadata": {},
   "outputs": [],
   "source": []
  },
  {
   "cell_type": "code",
   "execution_count": 29,
   "metadata": {},
   "outputs": [
    {
     "name": "stdout",
     "output_type": "stream",
     "text": [
      "get extra duplicate value :  [1, 1, 2, 2, 5, 5, 5]\n",
      "all unique value         :  [1, 2, 3, 4, 5]\n",
      "get only duplicate value :  [1, 2, 5]\n"
     ]
    }
   ],
   "source": [
    "l1 = [1,1,2,1,2,3,4,2,5,5,5,5]\n",
    "def get_extra_duplicate_list_value(l):\n",
    "    return list(duplicates(l)) \n",
    "\n",
    "def get_only_unique_list_value(l):\n",
    "    return list(np.unique(l)) #or set(l1)  or list(pd.unique(l))\n",
    "\n",
    "def get_only_duplicate_list_value(l):\n",
    "    return [item for item, count in Counter(l).items() if count > 1]\n",
    "\n",
    "\n",
    "print(\"get extra duplicate value : \", get_extra_duplicate_list_value(l1))\n",
    "\n",
    "\n",
    "print(\"all unique value         : \", get_only_unique_list_value(l1))\n",
    "\n",
    "print(\"get only duplicate value : \", get_only_duplicate_list_value(l1))"
   ]
  },
  {
   "cell_type": "code",
   "execution_count": 31,
   "metadata": {},
   "outputs": [
    {
     "name": "stdout",
     "output_type": "stream",
     "text": [
      "90\n",
      "100\n"
     ]
    }
   ],
   "source": [
    "n = 4\n",
    "B = 10000\n",
    "P = [2000, 3000, 5000, 7000]\n",
    "I = [10,50, 20, 40]\n",
    "\n",
    "#*********************************************\n",
    "n1 = 3\n",
    "B1 = 10000\n",
    "P1 = [2000, 3000, 8000]\n",
    "I1 = [20, 50, 80]\n",
    "\n",
    "\n",
    "\n",
    "def saleforces(Input, Product, Budget, Hour):\n",
    "    count = 0\n",
    "    for j in range(Input):\n",
    "        for k in range(Input - 1 - j):\n",
    "            if(Product[j] + Product[k+1+count] == Budget):\n",
    "                return Hour[j] + Hour[k+1+count]\n",
    "   \n",
    "        count = count + 1  \n",
    "print(saleforces(n, P, B, I))\n",
    "print(saleforces(n1, P1, B1, I1))"
   ]
  },
  {
   "cell_type": "code",
   "execution_count": null,
   "metadata": {},
   "outputs": [],
   "source": [
    "files = [f for f in os.listdir('.') if os.path.isfile(f)]\n",
    "files"
   ]
  },
  {
   "cell_type": "code",
   "execution_count": 142,
   "metadata": {},
   "outputs": [
    {
     "name": "stdout",
     "output_type": "stream",
     "text": [
      "Prime\n"
     ]
    }
   ],
   "source": [
    "def prime(num):\n",
    "    if num > 1:\n",
    "        for i in range(2, num//2):\n",
    "            if(num % i == 0):\n",
    "                print(\"Not Prime\")\n",
    "            else:\n",
    "                print(\"Prime\")\n",
    "            \n",
    "    else:\n",
    "        print(\"Not Prime\")\n",
    "    \n",
    "prime(7)"
   ]
  },
  {
   "cell_type": "code",
   "execution_count": 143,
   "metadata": {},
   "outputs": [
    {
     "name": "stdout",
     "output_type": "stream",
     "text": [
      "0\n",
      "\n",
      "\n",
      "1\n",
      "1 \n",
      "\n",
      "2\n",
      "2 2 \n",
      "\n",
      "3\n",
      "3 3 3 \n",
      "\n",
      "4\n",
      "4 4 4 4 \n",
      "\n",
      "5\n",
      "5 5 5 5 5 \n",
      "\n",
      "\n",
      "*\n",
      "**\n",
      "***\n",
      "****\n",
      "*****\n",
      "******\n",
      "\n",
      "\n",
      "\n",
      "\n",
      "1 \n",
      "\n",
      "1 2 \n",
      "\n",
      "1 2 3 \n",
      "\n",
      "1 2 3 4 \n",
      "\n"
     ]
    }
   ],
   "source": [
    "def fibbo(n):\n",
    "    a = 0 \n",
    "    b = 1\n",
    "    for i in range(n):\n",
    "        "
   ]
  },
  {
   "cell_type": "code",
   "execution_count": null,
   "metadata": {},
   "outputs": [],
   "source": []
  },
  {
   "cell_type": "code",
   "execution_count": null,
   "metadata": {},
   "outputs": [],
   "source": []
  },
  {
   "cell_type": "code",
   "execution_count": null,
   "metadata": {},
   "outputs": [],
   "source": []
  },
  {
   "cell_type": "code",
   "execution_count": null,
   "metadata": {},
   "outputs": [],
   "source": []
  },
  {
   "cell_type": "code",
   "execution_count": null,
   "metadata": {},
   "outputs": [],
   "source": []
  },
  {
   "cell_type": "markdown",
   "metadata": {},
   "source": [
    "# Class : OOPS"
   ]
  },
  {
   "cell_type": "code",
   "execution_count": 37,
   "metadata": {},
   "outputs": [
    {
     "name": "stdout",
     "output_type": "stream",
     "text": [
      "Please enter the number : 2\n",
      "1 11 \n",
      "\n",
      "1 11 101 1001 \n",
      "\n",
      "Please enter the number : 4\n",
      "1 11 101 1001 \n",
      "\n"
     ]
    }
   ],
   "source": [
    "#1\n",
    "class Test:\n",
    "    def __init__(self,n):\n",
    "        self.n = n\n",
    "            \n",
    "    def test1(self):\n",
    "        for i in range(self.n):\n",
    "            if(i == 0):\n",
    "                res = 1\n",
    "                print(res, end = \" \")\n",
    "            else:\n",
    "                res = 10**i + 1\n",
    "                print(res, end = \" \")\n",
    "        print(\"\\n\")\n",
    "        \n",
    "            \n",
    "    def test2(self,n2):       \n",
    "        for i in range(n2):\n",
    "            if(i == 0):\n",
    "                res = 1\n",
    "                print(res, end = \" \")\n",
    "            else:\n",
    "                res = 10**i + 1\n",
    "                print(res, end = \" \")\n",
    "        print(\"\\n\")\n",
    "                \n",
    "    def test3(self):\n",
    "        n1 = int(input(\"Please enter the number : \"))\n",
    "        for i in range(n1):\n",
    "            if(i == 0):\n",
    "                res = 1\n",
    "                print(res, end = \" \")\n",
    "            else:\n",
    "                res = 10**i + 1\n",
    "                print(res, end = \" \")\n",
    "        print(\"\\n\")\n",
    "\n",
    "\n",
    "if __name__ == '__main__':\n",
    "    number = int(input(\"Please enter the number : \"))\n",
    "\n",
    "    t = Test(number)\n",
    "    \n",
    "    t.test1()\n",
    "    \n",
    "    t.test2(4)\n",
    "    \n",
    "    t.test3()\n",
    "    "
   ]
  },
  {
   "cell_type": "code",
   "execution_count": 101,
   "metadata": {},
   "outputs": [
    {
     "name": "stdout",
     "output_type": "stream",
     "text": [
      "10\n",
      "20\n"
     ]
    }
   ],
   "source": [
    "class A:\n",
    "    def __init__(self, i):\n",
    "        self.var = i;\n",
    "        \n",
    "    def printVar(self):\n",
    "        print(self.var)\n",
    "    \n",
    "    \n",
    "a = A(10);\n",
    "a.printVar()\n",
    "\n",
    "a = A(20);\n",
    "a.printVar()\n"
   ]
  },
  {
   "cell_type": "code",
   "execution_count": 102,
   "metadata": {},
   "outputs": [
    {
     "name": "stdout",
     "output_type": "stream",
     "text": [
      "I am parent class function\n",
      "I am child class function\n"
     ]
    }
   ],
   "source": [
    "# Parent class\n",
    "class ParentClass:\n",
    "    def par_func(self):\n",
    "         print(\"I am parent class function\")\n",
    "\n",
    "# Child class\n",
    "class ChildClass(ParentClass):\n",
    "    def child_func(self):\n",
    "         print(\"I am child class function\")\n",
    "\n",
    "# Driver code\n",
    "obj1 = ChildClass()\n",
    "obj1.par_func()\n",
    "obj1.child_func()"
   ]
  },
  {
   "cell_type": "markdown",
   "metadata": {},
   "source": [
    "# <font color ='blue' > Simple Class \n"
   ]
  },
  {
   "cell_type": "code",
   "execution_count": 104,
   "metadata": {
    "ExecuteTime": {
     "end_time": "2020-02-26T05:01:01.913183Z",
     "start_time": "2020-02-26T05:01:01.907201Z"
    }
   },
   "outputs": [
    {
     "name": "stdout",
     "output_type": "stream",
     "text": [
      "First name is Rakesh, Last name is Kumar and Salary is 2000000.000000\n",
      "This is object for:Rakesh\n"
     ]
    }
   ],
   "source": [
    "class A:\n",
    "    def __init__(self,Fname,Lname,Salary):\n",
    "        self.Fname = Fname\n",
    "        self.__Lname = Lname\n",
    "        self.Salary = Salary\n",
    "    def __str__(self):\n",
    "        return('This is object for:%s'%self.Fname)\n",
    "    def print_data(self):\n",
    "        print('First name is %s, Last name is %s and Salary is %f'%(self.Fname,self.__Lname,self.Salary))\n",
    "        \n",
    "p1 = A('Rakesh','Kumar',2000000)\n",
    "p1.print_data()\n",
    "print(p1)"
   ]
  },
  {
   "cell_type": "markdown",
   "metadata": {},
   "source": [
    "# <font color ='blue' >Inheritance\n"
   ]
  },
  {
   "cell_type": "code",
   "execution_count": 105,
   "metadata": {},
   "outputs": [
    {
     "name": "stdout",
     "output_type": "stream",
     "text": [
      "First name is Rakesh, Last name is Kumar and Salary is 2000000.000000\n",
      "Location is: Bangalore\n",
      "First name is Rakesh, Last name is Kumar, Salary is 2000000.000000 and Location is Bangalore\n",
      "This is object for:Rakesh Bangalore\n"
     ]
    }
   ],
   "source": [
    "#Inheritance\n",
    "# **kwargs is used when we have dictionart\\ry type variable or like __varname type\n",
    "class B(A):\n",
    "    def __init__(self,Location,*args,**kwargs):\n",
    "        super(B,self).__init__(*args,**kwargs)\n",
    "        self.Location = Location\n",
    "    def print_loc(self):\n",
    "        print(\"Location is:\",self.Location)\n",
    "    def print_all(self):\n",
    "        print('First name is %s, Last name is %s, Salary is %f and Location is %s'%(self.Fname,self._A__Lname,self.Salary,self.Location))\n",
    "    def __str__(self):\n",
    "        return super(B,self).__str__()+' '+self.Location #Overriding\n",
    "    \n",
    "\n",
    "pr2 = B('Bangalore','Rakesh','Kumar',2000000)\n",
    "pr2.print_data()\n",
    "pr2.print_loc()\n",
    "pr2.print_all()\n",
    "print(pr2)"
   ]
  },
  {
   "cell_type": "code",
   "execution_count": null,
   "metadata": {},
   "outputs": [],
   "source": []
  },
  {
   "cell_type": "markdown",
   "metadata": {},
   "source": [
    "# <font color ='blue' >Abstraction\n"
   ]
  },
  {
   "cell_type": "code",
   "execution_count": 100,
   "metadata": {},
   "outputs": [
    {
     "name": "stdout",
     "output_type": "stream",
     "text": [
      "Raka\n"
     ]
    }
   ],
   "source": [
    "# Abstraction\n",
    "# Double underscore before variable (__)  prepends _ClassName before that variable\n",
    "class Person:\n",
    "    def __init__(self, name, surname, year_of_birth):\n",
    "        self.__name = name\n",
    "        self.__surname = surname\n",
    "        self.__year_of_birth = year_of_birth\n",
    "    \n",
    "    def age(self, current_year):\n",
    "        return current_year - self.__year_of_birth\n",
    "    \n",
    "    def __str__(self):\n",
    "        return \"%s %s and was born %d.\" \\\n",
    "                % (self.__name, self.__surname, self.__year_of_birth)\n",
    "    \n",
    "alec = Person(\"Raka\", \"Gupta\", 1992)\n",
    "print(alec._Person__name)"
   ]
  },
  {
   "cell_type": "markdown",
   "metadata": {},
   "source": [
    "### <font color ='blue' > Encapsulation and Multilevel\n"
   ]
  },
  {
   "cell_type": "code",
   "execution_count": 36,
   "metadata": {},
   "outputs": [
    {
     "name": "stdout",
     "output_type": "stream",
     "text": [
      "Area of rectangle r1: 26.25\n",
      "Perimeter of rectangle r1: 26.0\n",
      "Color of rectangle r1: black\n",
      "Is rectangle r1 filled ?  False\n",
      "Is rectangle r1 filled ?  True\n",
      "Color of rectangle r1: orange\n",
      "\n",
      "Area of circle c1: 452.39\n",
      "Perimeter of circle c1: 75.40\n",
      "Color of circle c1: black\n",
      "Is circle c1 filled ?  False\n",
      "Is circle c1 filled ?  True\n",
      "Color of circle c1: blue\n"
     ]
    }
   ],
   "source": [
    "# example from geometry: [Source: https://overiq.com/python-101/inheritance-and-polymorphism-in-python/]\n",
    "import math\n",
    " \n",
    "class Shape:\n",
    " \n",
    "    def __init__(self, color='black', filled=False):\n",
    "        self.__color = color\n",
    "        self.__filled = filled\n",
    " \n",
    "    def get_color(self):\n",
    "        return self.__color\n",
    " \n",
    "    def set_color(self, color):\n",
    "        self.__color = color\n",
    " \n",
    "    def get_filled(self):\n",
    "        return self.__filled\n",
    " \n",
    "    def set_filled(self, filled):\n",
    "        self.__filled = filled\n",
    " \n",
    " \n",
    "class Rectangle(Shape):\n",
    " \n",
    "    def __init__(self, length, breadth):\n",
    "        super().__init__()\n",
    "        self.__length = length\n",
    "        self.__breadth = breadth\n",
    " \n",
    "    def get_length(self):\n",
    "        return self.__length\n",
    " \n",
    "    def set_length(self, length):\n",
    "        self.__length = length\n",
    " \n",
    "    def get_breadth(self):\n",
    "        return self.__breadth\n",
    " \n",
    "    def set_breadth(self, breadth):\n",
    "        self.__breadth = breadth\n",
    " \n",
    "    def get_area(self):\n",
    "        return self.__length * self.__breadth\n",
    " \n",
    "    def get_perimeter(self):\n",
    "        return 2 * (self.__length + self.__breadth)\n",
    " \n",
    " \n",
    "class Circle(Shape):\n",
    "    def __init__(self, radius):\n",
    "        super().__init__()\n",
    "        self.__radius = radius\n",
    " \n",
    "    def get_radius(self):\n",
    "        return self.__radius\n",
    " \n",
    "    def set_radius(self, radius):\n",
    "        self.__radius = radius\n",
    " \n",
    "    def get_area(self):\n",
    "        return math.pi * self.__radius ** 2\n",
    " \n",
    "    def get_perimeter(self):\n",
    "        return 2 * math.pi * self.__radius\n",
    " \n",
    " \n",
    "r1 = Rectangle(10.5, 2.5)\n",
    " \n",
    "print(\"Area of rectangle r1:\", r1.get_area())\n",
    "print(\"Perimeter of rectangle r1:\", r1.get_perimeter())\n",
    "print(\"Color of rectangle r1:\", r1.get_color())\n",
    "print(\"Is rectangle r1 filled ? \", r1.get_filled())\n",
    "r1.set_filled(True)\n",
    "print(\"Is rectangle r1 filled ? \", r1.get_filled())\n",
    "r1.set_color(\"orange\")\n",
    "print(\"Color of rectangle r1:\", r1.get_color())\n",
    " \n",
    "c1 = Circle(12)\n",
    " \n",
    "print(\"\\nArea of circle c1:\", format(c1.get_area(), \"0.2f\"))\n",
    "print(\"Perimeter of circle c1:\", format(c1.get_perimeter(), \"0.2f\"))\n",
    "print(\"Color of circle c1:\", c1.get_color())\n",
    "print(\"Is circle c1 filled ? \", c1.get_filled())\n",
    "c1.set_filled(True)\n",
    "print(\"Is circle c1 filled ? \", c1.get_filled())\n",
    "c1.set_color(\"blue\")\n",
    "print(\"Color of circle c1:\", c1.get_color())"
   ]
  },
  {
   "cell_type": "code",
   "execution_count": null,
   "metadata": {},
   "outputs": [],
   "source": []
  },
  {
   "cell_type": "code",
   "execution_count": null,
   "metadata": {},
   "outputs": [],
   "source": []
  },
  {
   "cell_type": "markdown",
   "metadata": {},
   "source": [
    "# <font color ='blue' > Binary Search\n"
   ]
  },
  {
   "cell_type": "code",
   "execution_count": 130,
   "metadata": {},
   "outputs": [
    {
     "name": "stdout",
     "output_type": "stream",
     "text": [
      "Element is present at index :  3\n"
     ]
    }
   ],
   "source": [
    "def binary_search(arr, key, low, high):\n",
    "    \n",
    "    if high >= low:\n",
    "       \n",
    "        mid = (low + high) // 2\n",
    "        \n",
    "        if (arr[mid] == key):\n",
    "            return mid\n",
    "        \n",
    "        elif (arr[mid] < key):\n",
    "            low = mid + 1\n",
    "            return binary_search(arr, key, low, high)\n",
    "            \n",
    "        elif (arr[mid] > key):\n",
    "            high = mid - 1\n",
    "            return binary_search(arr, key, low, high)\n",
    "       \n",
    "        else:\n",
    "            return -1\n",
    "            \n",
    "    else:\n",
    "        return -1\n",
    "    \n",
    "input_list = [2, 3, 4, 10, 40]\n",
    "key_val = 3\n",
    "\n",
    "l = 0\n",
    "h = len(input_list) - 1\n",
    "\n",
    "binary_search(input_list, key_val, l, h)\n",
    "    \n",
    "res = binary_search(input_list, key_val, l, h)\n",
    "\n",
    "\n",
    "if res != -1:\n",
    "    print(\"Element is present at index : \", input_list[res])\n",
    "else:\n",
    "    print(\"Element is not present in array\")"
   ]
  },
  {
   "cell_type": "code",
   "execution_count": 488,
   "metadata": {},
   "outputs": [
    {
     "data": {
      "text/plain": [
       "(65, 'B')"
      ]
     },
     "execution_count": 488,
     "metadata": {},
     "output_type": "execute_result"
    }
   ],
   "source": [
    "ord(\"A\"), chr(66)"
   ]
  },
  {
   "cell_type": "code",
   "execution_count": 481,
   "metadata": {},
   "outputs": [],
   "source": []
  },
  {
   "cell_type": "code",
   "execution_count": null,
   "metadata": {},
   "outputs": [],
   "source": []
  },
  {
   "cell_type": "markdown",
   "metadata": {},
   "source": [
    "\"\"\"\n",
    "A truck fleet dispatcher is trying to determine which routes are still accessible after heavy rains flood certain highways. During their trips, trucks must follow linear, ordered paths between 26 waypoints labeled A through Z; in other words, they must traverse waypoints in either standard or reverse alphabetical order.\n",
    "\n",
    "The only data the dispatcher can use is the trip logbook, which contains a record of the recent successful trips. The logbook is represented as a list of strings, where each string (corresponding to one entry) has two characters corresponding to the trip origin and destination waypoints respectively. If the logbook contains a record of a successful trip between two points, it can be assumed that all of the waypoints between those points are also accessible. Note that logbook entries imply that both directions of the traversal are valid. For example, an entry of RP means that trucks can move along both R --> Q --> P and P --> Q --> R.\n",
    "\n",
    "Given an array of logbook entries, your task is to write a function to return the length of the longest consecutive traversal possible; in other words, compute the maximum number of consecutive edges known to be safe.\n",
    "\n",
    "\n",
    "\n",
    "Example\n",
    "\n",
    "For logbook = [\"BG\", \"CA\", \"FI\", \"OK\"], the output should be solution(logbook) = 8.\n",
    "\n",
    "Because we can get both from A to C and from B to G, we can thus get from A to G. Because we can get from F to I and access I from G, we can therefore traverse A --> I. This corresponds to a traversal length of 8, since 8 edges connect these 9 waypoints. O through K is a length 4 traversal. These two paths are disjoint, so no longer consecutive paths can be found and the answer is 8.\n",
    "\n",
    "Input/Output\n",
    "\n",
    "[execution time limit] 4 seconds (py3)\n",
    "\n",
    "[input] array.string logbook\n",
    "\n",
    "Array of strings, each of which has two characters corresponding to the trip origin and destination waypoints respectively.\n",
    "\n",
    "Guaranteed constraints:\n",
    "1 ≤ logbook.length ≤ 100,\n",
    "logbook[i].length = 2,\n",
    "logbook[i][j] ∈ ['A'..'Z'].\n",
    "\n",
    "[output] integer\n",
    "\n",
    "The longest consecutive traversal possible (number of edges).\n",
    "\n",
    "\n",
    "Example\n",
    "\n",
    "For logbook = [\"BG\", \"CA\", \"FI\", \"OK\"], the output should be solution(logbook) = 8.\n",
    "\n",
    "Because we can get both from A to C and from B to G, we can thus get from A to G. Because we can get from F to I and access I from G, we can therefore traverse A --> I. This corresponds to a traversal length of 8, since 8 edges connect these 9 waypoints. O through K is a length 4 traversal. These two paths are disjoint, so no longer consecutive paths can be found and the answer is 8.\n",
    "\n",
    "Input/Output\n",
    "\n",
    "[execution time limit] 4 seconds (py3)\n",
    "\n",
    "[input] array.string logbook\n",
    "\n",
    "Array of strings, each of which has two characters corresponding to the trip origin and destination waypoints respectively.\n",
    "\n",
    "Guaranteed constraints:\n",
    "1 ≤ logbook.length ≤ 100,\n",
    "logbook[i].length = 2,\n",
    "logbook[i][j] ∈ ['A'..'Z'].\n",
    "\n",
    "[output] integer\n",
    "\n",
    "The longest consecutive traversal possible (number of edges).\n",
    "\n",
    "\n",
    "\n",
    "logbook_test_1 = [\"BG\", \"CA\", \"FI\", \"OK\"] # output : 8\n",
    "\n",
    "logbook_test_2 = [\"CA\"] # output : 2\n",
    "\n",
    "logbook_test_3 = [\"BG\", \"CA\"] # output : 6\n",
    "\n",
    "\n",
    "\"\"\""
   ]
  },
  {
   "cell_type": "code",
   "execution_count": null,
   "metadata": {},
   "outputs": [],
   "source": []
  },
  {
   "cell_type": "code",
   "execution_count": null,
   "metadata": {},
   "outputs": [],
   "source": [
    "Click the \"Run Tests\" button to see output, console logs, and detailed error messages for sample or custom test cases. This information is hidden when clicking the \"Submit\" button in order to prevent hard-coding solutions to the hidden test cases.\n",
    "Sample tests:\n",
    "7/8\n",
    "Hidden tests:\n",
    "4/8\n",
    "Score:\n",
    "188/300"
   ]
  },
  {
   "cell_type": "code",
   "execution_count": null,
   "metadata": {},
   "outputs": [],
   "source": []
  },
  {
   "cell_type": "code",
   "execution_count": null,
   "metadata": {},
   "outputs": [],
   "source": []
  },
  {
   "cell_type": "code",
   "execution_count": null,
   "metadata": {},
   "outputs": [],
   "source": []
  },
  {
   "cell_type": "code",
   "execution_count": 602,
   "metadata": {},
   "outputs": [
    {
     "name": "stdout",
     "output_type": "stream",
     "text": [
      "8\n",
      "2\n",
      "6\n",
      "23\n",
      "0\n",
      "20\n"
     ]
    }
   ],
   "source": [
    "logbook_test_1 = [\"BG\", \"CA\", \"FI\", \"OK\"]  # output : 8\n",
    "\n",
    "logbook_test_2 = [\"CA\"]  # output : 2\n",
    "\n",
    "logbook_test_3 = [\"BG\", \"CA\"]  # output : 6\n",
    "\n",
    "logbook_test_4 = [\"II\", \"ZW\", \"CI\", \"DT\", \"IM\", \"II\", \"TR\", \"XO\", \"AL\"]  # output : 25\n",
    "\n",
    "logbook_test_5 = [\"CC\"]  # output : 0\n",
    "\n",
    "logbook_test_6 = [\"ML\", \"UI\", \"RQ\", \"DQ\", \"KA\", \"SO\", \"SF\", \"DL\", \"YV\", \"KL\"]  # expected o/p : 20, \n",
    "\n",
    "\n",
    "def solution(logbook):\n",
    "    l = []\n",
    "    min_value = 1\n",
    "    max_value = 1\n",
    "    expand_list = []\n",
    "\n",
    "    for i in logbook:\n",
    "        l1 = []\n",
    "        if ord(i[0]) != ord(i[1]):\n",
    "            l1.append(ord(i[0]))\n",
    "            l1.append(ord(i[1]))\n",
    "\n",
    "        if len(l1) == 0:\n",
    "            l.append([1, 1])\n",
    "        else:\n",
    "            l.append([min(l1), max(l1)])\n",
    "\n",
    "    for i in logbook:\n",
    "        if ord(i[0]) != ord(i[1]):\n",
    "            expand_list.append(ord(i[0]))\n",
    "            expand_list.append(ord(i[1]))\n",
    "\n",
    "    if len(expand_list) == 0:\n",
    "        expand_list.append(1)\n",
    "        expand_list.append(1)\n",
    "\n",
    "    else:\n",
    "        min_value = min(expand_list)\n",
    "        max_value = max(expand_list)\n",
    "\n",
    "    for k in l:\n",
    "        if min_value in k:\n",
    "            max_value = k[1]\n",
    "\n",
    "    res = min_distance(l, min_value, max_value)\n",
    "\n",
    "    return res\n",
    "\n",
    "\n",
    "def min_distance(l, min_v, max_v):\n",
    "    for i in l:\n",
    "        if min_v < i[0] and max_v < i[1] and i[0] < max_v:\n",
    "            max_v = i[1]\n",
    "            min_distance(l, min_v, max_v)\n",
    "\n",
    "    return abs(min_v - max_v)\n",
    "\n",
    "\n",
    "print(solution(logbook_test_1))\n",
    "\n",
    "print(solution(logbook_test_2))\n",
    "\n",
    "print(solution(logbook_test_3))\n",
    "\n",
    "print(solution(logbook_test_4))\n",
    "\n",
    "print(solution(logbook_test_5))\n",
    "\n",
    "print(solution(logbook_test_6))\n"
   ]
  },
  {
   "cell_type": "code",
   "execution_count": null,
   "metadata": {},
   "outputs": [],
   "source": []
  }
 ],
 "metadata": {
  "kernelspec": {
   "display_name": "Python 3",
   "language": "python",
   "name": "python3"
  },
  "language_info": {
   "codemirror_mode": {
    "name": "ipython",
    "version": 3
   },
   "file_extension": ".py",
   "mimetype": "text/x-python",
   "name": "python",
   "nbconvert_exporter": "python",
   "pygments_lexer": "ipython3",
   "version": "3.8.5"
  },
  "toc": {
   "base_numbering": 1,
   "nav_menu": {},
   "number_sections": true,
   "sideBar": true,
   "skip_h1_title": false,
   "title_cell": "Table of Contents",
   "title_sidebar": "Contents",
   "toc_cell": false,
   "toc_position": {},
   "toc_section_display": true,
   "toc_window_display": false
  },
  "varInspector": {
   "cols": {
    "lenName": 16,
    "lenType": 16,
    "lenVar": 40
   },
   "kernels_config": {
    "python": {
     "delete_cmd_postfix": "",
     "delete_cmd_prefix": "del ",
     "library": "var_list.py",
     "varRefreshCmd": "print(var_dic_list())"
    },
    "r": {
     "delete_cmd_postfix": ") ",
     "delete_cmd_prefix": "rm(",
     "library": "var_list.r",
     "varRefreshCmd": "cat(var_dic_list()) "
    }
   },
   "types_to_exclude": [
    "module",
    "function",
    "builtin_function_or_method",
    "instance",
    "_Feature"
   ],
   "window_display": false
  }
 },
 "nbformat": 4,
 "nbformat_minor": 2
}
