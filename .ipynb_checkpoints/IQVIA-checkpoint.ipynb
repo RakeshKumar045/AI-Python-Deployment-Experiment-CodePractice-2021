{
 "cells": [
  {
   "cell_type": "code",
   "execution_count": null,
   "metadata": {},
   "outputs": [],
   "source": []
  },
  {
   "cell_type": "code",
   "execution_count": 47,
   "metadata": {},
   "outputs": [],
   "source": [
    "import random\n",
    "import numpy as np\n",
    "\n",
    "class Dice():\n",
    "    def __init__(self,  number, sides):\n",
    "        self.sides = sides\n",
    "        self.number = number\n",
    "        self.types_of_shape = [4,6,8,10,12,20]\n",
    "\n",
    "    def roll(self):\n",
    "        \n",
    "        if self.number == 0:\n",
    "            return \"Please enter valid number and zero is invalid number\"\n",
    "        \n",
    "        if self.sides in self.types_of_shape:\n",
    "            for ind in range(self.number):\n",
    "                print( ind+1 ,\" times rolled: \",random.randint(1, self.sides))\n",
    "        else:\n",
    "            print(\"please enter valid shape example : \", self.types_of_shape)\n"
   ]
  },
  {
   "cell_type": "code",
   "execution_count": 50,
   "metadata": {},
   "outputs": [
    {
     "name": "stdout",
     "output_type": "stream",
     "text": [
      "please enter number4\n",
      "please enter no of sides6\n",
      "\n",
      "\n",
      "\n",
      "1  times rolled:  4\n",
      "2  times rolled:  5\n",
      "3  times rolled:  3\n",
      "4  times rolled:  5\n"
     ]
    }
   ],
   "source": [
    "num = int(input(\"please enter number\"))\n",
    "numer_of_sides = int(input(\"please enter no of sides\"))\n",
    "\n",
    "print(\"\\n\\n\")\n",
    "\n",
    "d = Dice(num, numer_of_sides)\n",
    "\n",
    "d.roll()"
   ]
  },
  {
   "cell_type": "code",
   "execution_count": null,
   "metadata": {},
   "outputs": [],
   "source": []
  }
 ],
 "metadata": {
  "kernelspec": {
   "display_name": "Python 3",
   "language": "python",
   "name": "python3"
  },
  "language_info": {
   "codemirror_mode": {
    "name": "ipython",
    "version": 3
   },
   "file_extension": ".py",
   "mimetype": "text/x-python",
   "name": "python",
   "nbconvert_exporter": "python",
   "pygments_lexer": "ipython3",
   "version": "3.7.9"
  }
 },
 "nbformat": 4,
 "nbformat_minor": 4
}
