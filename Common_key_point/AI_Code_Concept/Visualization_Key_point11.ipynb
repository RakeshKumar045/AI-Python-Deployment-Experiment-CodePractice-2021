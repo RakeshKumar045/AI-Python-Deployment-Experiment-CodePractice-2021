{
 "cells": [
  {
   "cell_type": "markdown",
   "metadata": {},
   "source": [
    "## <font color ='red' > 1) plot classification target col(binary value) with 2 integer (col1, col2)"
   ]
  },
  {
   "cell_type": "code",
   "execution_count": null,
   "metadata": {},
   "outputs": [],
   "source": [
    "plt.style.use(\"seaborn-whitegrid\")\n",
    "def plot_scatter(df,col1,col2,target,cmap=\"viridis\"):\n",
    "    fig, ax = plt.subplots(figsize=(10,8))\n",
    "    scatter = ax.scatter(df[col1],df[col2],c=df[target],cmap=cmap)\n",
    "    ax.legend(*scatter.legend_elements(),title=target)\n",
    "    ax.set(title=col1+\" vs \"+col2,\n",
    "          xlabel=col1,\n",
    "          ylabel=col2);\n",
    "    \n",
    "plot_scatter(data,\"int_col_1\",\"int_col_2\",\"classification_target_col_int_value\") #o/p :convert categorial to binary"
   ]
  },
  {
   "cell_type": "code",
   "execution_count": null,
   "metadata": {},
   "outputs": [],
   "source": [
    "#Male vs Female performance\n",
    "data.groupby([\"class\",\"gender\"]).size().unstack(level=1).plot(kind=\"bar\",figsize=(8,8),ylabel=\"gender\",color=[\"red\",\"indigo\"],title=\"Male vs Female Performance\");"
   ]
  },
  {
   "cell_type": "code",
   "execution_count": null,
   "metadata": {},
   "outputs": [],
   "source": [
    "def plot_bar(data, categorial_binary_col, categorial_binary_target_col):\n",
    "    \n",
    "    color = [\"red\",\"indigo\"]\n",
    "    title = \"Male vs Female Performance\"\n",
    "    \n",
    "    data = data.groupby([categorial_binary_target_col,categorial_binary_col]).size().unstack(level=1)\n",
    "    \n",
    "    data.plot(kind=\"bar\",figsize=(8,8),ylabel=\"gender\",color=color,title=title);\n",
    "\n",
    "    \n",
    "plot_bar(df, categorial_binary_col, categorial_binary_target_col):\n",
    "    \n",
    "#or below working code\n",
    "#data.groupby([\"class\",\"gender\"]).size().unstack(level=1).plot(kind=\"bar\",figsize=(8,8),ylabel=\"gender\",color=[\"red\",\"indigo\"],title=\"Male vs Female Performance\");"
   ]
  }
 ],
 "metadata": {
  "kernelspec": {
   "display_name": "Python 3",
   "language": "python",
   "name": "python3"
  },
  "language_info": {
   "codemirror_mode": {
    "name": "ipython",
    "version": 3
   },
   "file_extension": ".py",
   "mimetype": "text/x-python",
   "name": "python",
   "nbconvert_exporter": "python",
   "pygments_lexer": "ipython3",
   "version": "3.8.5"
  }
 },
 "nbformat": 4,
 "nbformat_minor": 4
}
