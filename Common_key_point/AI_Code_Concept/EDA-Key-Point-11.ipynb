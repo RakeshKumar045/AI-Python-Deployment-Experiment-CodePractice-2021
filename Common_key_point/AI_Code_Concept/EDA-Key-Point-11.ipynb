{
 "cells": [
  {
   "cell_type": "markdown",
   "metadata": {},
   "source": [
    "## <font color ='red' > 1) Standard Scaler for Both C&R, but use only 1 or more or list integer cols only"
   ]
  },
  {
   "cell_type": "code",
   "execution_count": null,
   "metadata": {},
   "outputs": [],
   "source": [
    "from sklearn.preprocessing import StandardScaler\n",
    "from sklearn.compose import ColumnTransformer\n",
    "\n",
    "scale_columns_int_list = [\"int_col_1\",\"int_col_2\", \"int_col_3\",\"int_col_4\"]\n",
    "\n",
    "scaler = StandardScaler()\n",
    "transformer = ColumnTransformer([ (\"scaler\", scaler, scale_columns_int_list)])\n",
    "\n",
    "transform_X = transformer.fit_transform(X)\n",
    "\n",
    "X_train,X_test,y_train,y_test = train_test_split(transform_X,y,test_size=0.2)"
   ]
  },
  {
   "cell_type": "code",
   "execution_count": null,
   "metadata": {},
   "outputs": [],
   "source": []
  }
 ],
 "metadata": {
  "kernelspec": {
   "display_name": "Python 3",
   "language": "python",
   "name": "python3"
  },
  "language_info": {
   "codemirror_mode": {
    "name": "ipython",
    "version": 3
   },
   "file_extension": ".py",
   "mimetype": "text/x-python",
   "name": "python",
   "nbconvert_exporter": "python",
   "pygments_lexer": "ipython3",
   "version": "3.8.5"
  }
 },
 "nbformat": 4,
 "nbformat_minor": 4
}
