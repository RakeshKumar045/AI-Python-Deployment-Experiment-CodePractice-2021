{
 "cells": [
  {
   "cell_type": "code",
   "execution_count": 70,
   "metadata": {},
   "outputs": [
    {
     "name": "stdout",
     "output_type": "stream",
     "text": [
      "Please enter the number : 8\n",
      "1 11 101 1001 10001 100001 1000001 10000001 \n",
      "\n",
      "1 11 101 1001 \n",
      "\n",
      "Please enter the number : 3\n",
      "1 11 101 \n",
      "\n"
     ]
    }
   ],
   "source": [
    "#1\n",
    "class Test:\n",
    "    def __init__(self,n):\n",
    "        self.n = n\n",
    "            \n",
    "    def test1(self):\n",
    "        for i in range(self.n):\n",
    "            if(i == 0):\n",
    "                res = 1\n",
    "                print(res, end = \" \")\n",
    "            else:\n",
    "                res = 10**i + 1\n",
    "                print(res, end = \" \")\n",
    "        print(\"\\n\")\n",
    "        \n",
    "            \n",
    "    def test2(self,n2):       \n",
    "        for i in range(n2):\n",
    "            if(i == 0):\n",
    "                res = 1\n",
    "                print(res, end = \" \")\n",
    "            else:\n",
    "                res = 10**i + 1\n",
    "                print(res, end = \" \")\n",
    "        print(\"\\n\")\n",
    "                \n",
    "    def test3(self):\n",
    "        n1 = int(input(\"Please enter the number : \"))\n",
    "        for i in range(n1):\n",
    "            if(i == 0):\n",
    "                res = 1\n",
    "                print(res, end = \" \")\n",
    "            else:\n",
    "                res = 10**i + 1\n",
    "                print(res, end = \" \")\n",
    "        print(\"\\n\")\n",
    "\n",
    "\n",
    "if __name__ == '__main__':\n",
    "    number = int(input(\"Please enter the number : \"))\n",
    "\n",
    "    t = Test(number)\n",
    "    \n",
    "    t.test1()\n",
    "    \n",
    "    t.test2(4)\n",
    "    \n",
    "    t.test3()\n",
    "    \n",
    "    \n"
   ]
  },
  {
   "cell_type": "code",
   "execution_count": 13,
   "metadata": {},
   "outputs": [
    {
     "name": "stdout",
     "output_type": "stream",
     "text": [
      "Hello World!\n"
     ]
    }
   ],
   "source": [
    "def test():\n",
    "    print(\"Hello World!\")\n",
    "\n",
    "if __name__ == '__main__':\n",
    "    test()\n"
   ]
  },
  {
   "cell_type": "code",
   "execution_count": 71,
   "metadata": {},
   "outputs": [
    {
     "data": {
      "text/plain": [
       "1"
      ]
     },
     "execution_count": 71,
     "metadata": {},
     "output_type": "execute_result"
    }
   ],
   "source": [
    "10 ** 0"
   ]
  },
  {
   "cell_type": "code",
   "execution_count": 74,
   "metadata": {},
   "outputs": [
    {
     "name": "stdout",
     "output_type": "stream",
     "text": [
      "1 11 101 1001 "
     ]
    }
   ],
   "source": [
    "for i in range(4):\n",
    "    if(i == 0):\n",
    "                res = 1\n",
    "                print(res, end = \" \")\n",
    "    else:\n",
    "                res = 10**i + 1\n",
    "                print(res, end = \" \")\n",
    "    "
   ]
  },
  {
   "cell_type": "code",
   "execution_count": null,
   "metadata": {},
   "outputs": [],
   "source": []
  }
 ],
 "metadata": {
  "kernelspec": {
   "display_name": "Python 3",
   "language": "python",
   "name": "python3"
  },
  "language_info": {
   "codemirror_mode": {
    "name": "ipython",
    "version": 3
   },
   "file_extension": ".py",
   "mimetype": "text/x-python",
   "name": "python",
   "nbconvert_exporter": "python",
   "pygments_lexer": "ipython3",
   "version": "3.8.5"
  }
 },
 "nbformat": 4,
 "nbformat_minor": 4
}
