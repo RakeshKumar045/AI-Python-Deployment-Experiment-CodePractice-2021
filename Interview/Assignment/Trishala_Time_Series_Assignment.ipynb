{
 "cells": [
  {
   "cell_type": "markdown",
   "metadata": {},
   "source": [
    "\n",
    "### <font color='blue'> PROBLEM STATEMENT : </font>\n",
    "\n",
    "* To predict the generation of power of the given plan in this duration: October 1st, 2019 to October 27th, 2019. \n"
   ]
  },
  {
   "cell_type": "markdown",
   "metadata": {},
   "source": [
    "### <font color='green'>File1:  power_actual</font>\n",
    "\n",
    "1. This file contains the solar generation of a certain plant from October 1st, 2017 to September 30th, 2019.\n",
    "2. You'll find the following columns: 'power', 'gti' and 'ghi'. Power is the actual power generated while GHI (Global Horizontal Irradiance) and GTI (Global Tilt Irradiance) are the parameters relevant to the that define the radiation received from the sun."
   ]
  },
  {
   "cell_type": "markdown",
   "metadata": {},
   "source": [
    "### <font color='green'>File2: weather_actuals</font>\n",
    "1. This file contains the weather data of the same plant from October 1st, 2017 to September 30th, 2019.\n",
    "2. The columns' names are self-explanatory.\n"
   ]
  },
  {
   "cell_type": "markdown",
   "metadata": {},
   "source": [
    "### <font color='green'>File3: weather_forecast</font>\n",
    "1. This file contains the weather data from October 1st, 2019 to October 27th, 2019. \n",
    "\n",
    "\n"
   ]
  },
  {
   "cell_type": "code",
   "execution_count": null,
   "metadata": {},
   "outputs": [],
   "source": []
  },
  {
   "cell_type": "code",
   "execution_count": 2,
   "metadata": {},
   "outputs": [
    {
     "name": "stderr",
     "output_type": "stream",
     "text": [
      "Matplotlib is building the font cache; this may take a moment.\n"
     ]
    }
   ],
   "source": [
    "import pandas as pd\n",
    "import glob\n",
    "\n",
    "\n",
    "\n",
    "pd.options.display.max_columns = 250\n",
    "pd.options.display.max_rows = 2000\n",
    "pd.options.display.float_format = '{:.2f}'.format\n",
    "\n",
    "\n",
    "\n",
    "\n",
    "\n",
    "import seaborn as sns\n",
    "\n",
    "# To ignore warnings\n",
    "import warnings\n",
    "warnings.filterwarnings(\"ignore\")\n",
    "\n",
    "from matplotlib import pyplot as plt, rcParams as rc\n",
    "\n",
    "\n",
    "%matplotlib inline\n",
    "rc[\"figure.figsize\"] = 10,6\n",
    "\n"
   ]
  },
  {
   "cell_type": "code",
   "execution_count": 4,
   "metadata": {},
   "outputs": [],
   "source": [
    "# glob.glob(\"*.csv\")"
   ]
  },
  {
   "cell_type": "code",
   "execution_count": null,
   "metadata": {},
   "outputs": [],
   "source": []
  },
  {
   "cell_type": "code",
   "execution_count": 74,
   "metadata": {},
   "outputs": [],
   "source": [
    "power_actual = pd.read_csv(\"power_actual.csv\",parse_dates= True, index_col=0)\n",
    "\n",
    "weather_actuals = pd.read_csv(\"weather_actuals.csv\",parse_dates=[0], index_col=0)\n",
    "\n",
    "weather_forecast = pd.read_csv(\"weather_forecast.csv\",parse_dates=[0], index_col=0)"
   ]
  },
  {
   "cell_type": "code",
   "execution_count": 27,
   "metadata": {},
   "outputs": [
    {
     "data": {
      "text/plain": [
       "((70080, 4), (13619, 30), (648, 30))"
      ]
     },
     "execution_count": 27,
     "metadata": {},
     "output_type": "execute_result"
    }
   ],
   "source": [
    "power_actual.shape, weather_actuals.shape, weather_forecast.shape"
   ]
  },
  {
   "cell_type": "code",
   "execution_count": 28,
   "metadata": {},
   "outputs": [
    {
     "data": {
      "text/plain": [
       "['datetime', 'ghi', 'gti', 'power']"
      ]
     },
     "execution_count": 28,
     "metadata": {},
     "output_type": "execute_result"
    }
   ],
   "source": [
    "power_actual.columns.to_list()"
   ]
  },
  {
   "cell_type": "code",
   "execution_count": 29,
   "metadata": {},
   "outputs": [
    {
     "data": {
      "text/plain": [
       "Index(['plant_id', 'datetime_utc', 'datetime_local', 'cloud_cover',\n",
       "       'apparent_temperature', 'temperature', 'humidity', 'dew_point',\n",
       "       'wind_bearing', 'wind_speed', 'wind_chill', 'wind_gust', 'heat_index',\n",
       "       'pressure', 'qpf', 'uv_index', 'snow', 'pop', 'fctcode', 'ozone',\n",
       "       'precip_accumulation', 'precip_intensity', 'precip_probability',\n",
       "       'precip_type', 'visibility', 'sunrise', 'sunset', 'icon', 'summary',\n",
       "       'updated_at'],\n",
       "      dtype='object')"
      ]
     },
     "execution_count": 29,
     "metadata": {},
     "output_type": "execute_result"
    }
   ],
   "source": [
    "weather_actuals.columns"
   ]
  },
  {
   "cell_type": "code",
   "execution_count": 30,
   "metadata": {},
   "outputs": [
    {
     "data": {
      "text/plain": [
       "Index(['plant_id', 'datetime_utc', 'datetime_local', 'cloud_cover',\n",
       "       'apparent_temperature', 'temperature', 'humidity', 'dew_point',\n",
       "       'wind_bearing', 'wind_speed', 'wind_chill', 'wind_gust', 'heat_index',\n",
       "       'pressure', 'qpf', 'uv_index', 'snow', 'pop', 'fctcode', 'ozone',\n",
       "       'precip_accumulation', 'precip_intensity', 'precip_probability',\n",
       "       'precip_type', 'visibility', 'sunrise', 'sunset', 'icon', 'summary',\n",
       "       'updated_at'],\n",
       "      dtype='object')"
      ]
     },
     "execution_count": 30,
     "metadata": {},
     "output_type": "execute_result"
    }
   ],
   "source": [
    "weather_forecast.columns"
   ]
  },
  {
   "cell_type": "code",
   "execution_count": 31,
   "metadata": {},
   "outputs": [
    {
     "name": "stdout",
     "output_type": "stream",
     "text": [
      "<class 'pandas.core.frame.DataFrame'>\n",
      "Int64Index: 70080 entries, 0 to 70079\n",
      "Data columns (total 4 columns):\n",
      " #   Column    Non-Null Count  Dtype  \n",
      "---  ------    --------------  -----  \n",
      " 0   datetime  70080 non-null  object \n",
      " 1   ghi       35040 non-null  float64\n",
      " 2   gti       35040 non-null  float64\n",
      " 3   power     70080 non-null  float64\n",
      "dtypes: float64(3), object(1)\n",
      "memory usage: 2.7+ MB\n"
     ]
    }
   ],
   "source": [
    "power_actual.info()"
   ]
  },
  {
   "cell_type": "code",
   "execution_count": 32,
   "metadata": {},
   "outputs": [
    {
     "data": {
      "text/html": [
       "<div>\n",
       "<style scoped>\n",
       "    .dataframe tbody tr th:only-of-type {\n",
       "        vertical-align: middle;\n",
       "    }\n",
       "\n",
       "    .dataframe tbody tr th {\n",
       "        vertical-align: top;\n",
       "    }\n",
       "\n",
       "    .dataframe thead th {\n",
       "        text-align: right;\n",
       "    }\n",
       "</style>\n",
       "<table border=\"1\" class=\"dataframe\">\n",
       "  <thead>\n",
       "    <tr style=\"text-align: right;\">\n",
       "      <th></th>\n",
       "      <th>datetime</th>\n",
       "      <th>ghi</th>\n",
       "      <th>gti</th>\n",
       "      <th>power</th>\n",
       "    </tr>\n",
       "  </thead>\n",
       "  <tbody>\n",
       "    <tr>\n",
       "      <th>0</th>\n",
       "      <td>2017-10-01 00:00:00</td>\n",
       "      <td>0.00</td>\n",
       "      <td>0.00</td>\n",
       "      <td>0.00</td>\n",
       "    </tr>\n",
       "    <tr>\n",
       "      <th>1</th>\n",
       "      <td>2017-10-01 00:15:00</td>\n",
       "      <td>0.00</td>\n",
       "      <td>0.00</td>\n",
       "      <td>0.00</td>\n",
       "    </tr>\n",
       "    <tr>\n",
       "      <th>2</th>\n",
       "      <td>2017-10-01 00:30:00</td>\n",
       "      <td>0.00</td>\n",
       "      <td>0.00</td>\n",
       "      <td>0.00</td>\n",
       "    </tr>\n",
       "    <tr>\n",
       "      <th>3</th>\n",
       "      <td>2017-10-01 00:45:00</td>\n",
       "      <td>0.00</td>\n",
       "      <td>0.00</td>\n",
       "      <td>0.00</td>\n",
       "    </tr>\n",
       "    <tr>\n",
       "      <th>4</th>\n",
       "      <td>2017-10-01 01:00:00</td>\n",
       "      <td>0.00</td>\n",
       "      <td>0.00</td>\n",
       "      <td>0.00</td>\n",
       "    </tr>\n",
       "  </tbody>\n",
       "</table>\n",
       "</div>"
      ],
      "text/plain": [
       "              datetime  ghi  gti  power\n",
       "0  2017-10-01 00:00:00 0.00 0.00   0.00\n",
       "1  2017-10-01 00:15:00 0.00 0.00   0.00\n",
       "2  2017-10-01 00:30:00 0.00 0.00   0.00\n",
       "3  2017-10-01 00:45:00 0.00 0.00   0.00\n",
       "4  2017-10-01 01:00:00 0.00 0.00   0.00"
      ]
     },
     "execution_count": 32,
     "metadata": {},
     "output_type": "execute_result"
    }
   ],
   "source": [
    "power_actual.head()"
   ]
  },
  {
   "cell_type": "code",
   "execution_count": 33,
   "metadata": {},
   "outputs": [
    {
     "data": {
      "text/plain": [
       "(35040, 4)"
      ]
     },
     "execution_count": 33,
     "metadata": {},
     "output_type": "execute_result"
    }
   ],
   "source": [
    "power_actual[power_actual.gti == 0.00].shape"
   ]
  },
  {
   "cell_type": "code",
   "execution_count": 34,
   "metadata": {},
   "outputs": [],
   "source": [
    "# weather_actuals.head()"
   ]
  },
  {
   "cell_type": "code",
   "execution_count": 35,
   "metadata": {},
   "outputs": [],
   "source": [
    "# weather_forecast.head()"
   ]
  },
  {
   "cell_type": "code",
   "execution_count": 36,
   "metadata": {},
   "outputs": [
    {
     "data": {
      "text/plain": [
       "datetime        0\n",
       "ghi         35040\n",
       "gti         35040\n",
       "power           0\n",
       "dtype: int64"
      ]
     },
     "execution_count": 36,
     "metadata": {},
     "output_type": "execute_result"
    }
   ],
   "source": [
    "power_actual.isnull().sum()"
   ]
  },
  {
   "cell_type": "code",
   "execution_count": 37,
   "metadata": {},
   "outputs": [
    {
     "name": "stdout",
     "output_type": "stream",
     "text": [
      "gti        50.00\n",
      "ghi        50.00\n",
      "power       0.00\n",
      "datetime    0.00\n",
      "dtype: float64\n"
     ]
    }
   ],
   "source": [
    "\n",
    "print(round(100*(power_actual.isnull().sum()/len(power_actual.index)), 2).sort_values(ascending=False))"
   ]
  },
  {
   "cell_type": "code",
   "execution_count": 38,
   "metadata": {},
   "outputs": [
    {
     "name": "stdout",
     "output_type": "stream",
     "text": [
      "qpf                    72.51\n",
      "fctcode                72.51\n",
      "wind_chill             72.51\n",
      "snow                   72.51\n",
      "pop                    72.51\n",
      "precip_accumulation    72.51\n",
      "heat_index             72.51\n",
      "precip_type            52.35\n",
      "temperature             0.00\n",
      "humidity                0.00\n",
      "wind_gust               0.00\n",
      "dew_point               0.00\n",
      "apparent_temperature    0.00\n",
      "cloud_cover             0.00\n",
      "datetime_local          0.00\n",
      "wind_bearing            0.00\n",
      "wind_speed              0.00\n",
      "datetime_utc            0.00\n",
      "updated_at              0.00\n",
      "pressure                0.00\n",
      "summary                 0.00\n",
      "uv_index                0.00\n",
      "ozone                   0.00\n",
      "precip_intensity        0.00\n",
      "precip_probability      0.00\n",
      "visibility              0.00\n",
      "sunrise                 0.00\n",
      "sunset                  0.00\n",
      "icon                    0.00\n",
      "plant_id                0.00\n",
      "dtype: float64\n"
     ]
    }
   ],
   "source": [
    "\n",
    "print(round(100*(weather_actuals.isnull().sum()/len(weather_actuals.index)), 2).sort_values(ascending=False))"
   ]
  },
  {
   "cell_type": "code",
   "execution_count": 39,
   "metadata": {},
   "outputs": [
    {
     "name": "stdout",
     "output_type": "stream",
     "text": [
      "qpf                    100.00\n",
      "fctcode                100.00\n",
      "wind_chill             100.00\n",
      "snow                   100.00\n",
      "pop                    100.00\n",
      "precip_accumulation    100.00\n",
      "heat_index             100.00\n",
      "precip_type             82.41\n",
      "temperature              0.00\n",
      "humidity                 0.00\n",
      "wind_gust                0.00\n",
      "dew_point                0.00\n",
      "apparent_temperature     0.00\n",
      "cloud_cover              0.00\n",
      "datetime_local           0.00\n",
      "wind_bearing             0.00\n",
      "wind_speed               0.00\n",
      "datetime_utc             0.00\n",
      "updated_at               0.00\n",
      "pressure                 0.00\n",
      "summary                  0.00\n",
      "uv_index                 0.00\n",
      "ozone                    0.00\n",
      "precip_intensity         0.00\n",
      "precip_probability       0.00\n",
      "visibility               0.00\n",
      "sunrise                  0.00\n",
      "sunset                   0.00\n",
      "icon                     0.00\n",
      "plant_id                 0.00\n",
      "dtype: float64\n"
     ]
    }
   ],
   "source": [
    "\n",
    "print(round(100*(weather_forecast.isnull().sum()/len(weather_forecast.index)), 2).sort_values(ascending=False))"
   ]
  },
  {
   "cell_type": "code",
   "execution_count": null,
   "metadata": {},
   "outputs": [],
   "source": []
  },
  {
   "cell_type": "markdown",
   "metadata": {},
   "source": [
    "### <font color='blue'>Data Preprocessing : Power Actual</font>\n",
    "\n"
   ]
  },
  {
   "cell_type": "code",
   "execution_count": 89,
   "metadata": {},
   "outputs": [
    {
     "data": {
      "text/html": [
       "<div>\n",
       "<style scoped>\n",
       "    .dataframe tbody tr th:only-of-type {\n",
       "        vertical-align: middle;\n",
       "    }\n",
       "\n",
       "    .dataframe tbody tr th {\n",
       "        vertical-align: top;\n",
       "    }\n",
       "\n",
       "    .dataframe thead th {\n",
       "        text-align: right;\n",
       "    }\n",
       "</style>\n",
       "<table border=\"1\" class=\"dataframe\">\n",
       "  <thead>\n",
       "    <tr style=\"text-align: right;\">\n",
       "      <th></th>\n",
       "      <th>datetime</th>\n",
       "      <th>ghi</th>\n",
       "      <th>gti</th>\n",
       "      <th>power</th>\n",
       "    </tr>\n",
       "  </thead>\n",
       "  <tbody>\n",
       "    <tr>\n",
       "      <th>0</th>\n",
       "      <td>2017-10-01 00:00:00</td>\n",
       "      <td>0.00</td>\n",
       "      <td>0.00</td>\n",
       "      <td>0.00</td>\n",
       "    </tr>\n",
       "    <tr>\n",
       "      <th>1</th>\n",
       "      <td>2017-10-01 00:15:00</td>\n",
       "      <td>0.00</td>\n",
       "      <td>0.00</td>\n",
       "      <td>0.00</td>\n",
       "    </tr>\n",
       "    <tr>\n",
       "      <th>2</th>\n",
       "      <td>2017-10-01 00:30:00</td>\n",
       "      <td>0.00</td>\n",
       "      <td>0.00</td>\n",
       "      <td>0.00</td>\n",
       "    </tr>\n",
       "    <tr>\n",
       "      <th>3</th>\n",
       "      <td>2017-10-01 00:45:00</td>\n",
       "      <td>0.00</td>\n",
       "      <td>0.00</td>\n",
       "      <td>0.00</td>\n",
       "    </tr>\n",
       "    <tr>\n",
       "      <th>4</th>\n",
       "      <td>2017-10-01 01:00:00</td>\n",
       "      <td>0.00</td>\n",
       "      <td>0.00</td>\n",
       "      <td>0.00</td>\n",
       "    </tr>\n",
       "  </tbody>\n",
       "</table>\n",
       "</div>"
      ],
      "text/plain": [
       "              datetime  ghi  gti  power\n",
       "0  2017-10-01 00:00:00 0.00 0.00   0.00\n",
       "1  2017-10-01 00:15:00 0.00 0.00   0.00\n",
       "2  2017-10-01 00:30:00 0.00 0.00   0.00\n",
       "3  2017-10-01 00:45:00 0.00 0.00   0.00\n",
       "4  2017-10-01 01:00:00 0.00 0.00   0.00"
      ]
     },
     "execution_count": 89,
     "metadata": {},
     "output_type": "execute_result"
    }
   ],
   "source": [
    "df = power_actual.copy()\n",
    "df1 = weather_actuals.copy()\n",
    "df2 = weather_forecast.copy()\n",
    "\n",
    "\n",
    "df.head()"
   ]
  },
  {
   "cell_type": "code",
   "execution_count": 90,
   "metadata": {},
   "outputs": [
    {
     "data": {
      "text/html": [
       "<div>\n",
       "<style scoped>\n",
       "    .dataframe tbody tr th:only-of-type {\n",
       "        vertical-align: middle;\n",
       "    }\n",
       "\n",
       "    .dataframe tbody tr th {\n",
       "        vertical-align: top;\n",
       "    }\n",
       "\n",
       "    .dataframe thead th {\n",
       "        text-align: right;\n",
       "    }\n",
       "</style>\n",
       "<table border=\"1\" class=\"dataframe\">\n",
       "  <thead>\n",
       "    <tr style=\"text-align: right;\">\n",
       "      <th></th>\n",
       "      <th>ghi</th>\n",
       "      <th>gti</th>\n",
       "      <th>power</th>\n",
       "    </tr>\n",
       "  </thead>\n",
       "  <tbody>\n",
       "    <tr>\n",
       "      <th>count</th>\n",
       "      <td>35040.00</td>\n",
       "      <td>35040.00</td>\n",
       "      <td>70080.00</td>\n",
       "    </tr>\n",
       "    <tr>\n",
       "      <th>mean</th>\n",
       "      <td>0.00</td>\n",
       "      <td>0.00</td>\n",
       "      <td>28.61</td>\n",
       "    </tr>\n",
       "    <tr>\n",
       "      <th>std</th>\n",
       "      <td>0.00</td>\n",
       "      <td>0.00</td>\n",
       "      <td>498.80</td>\n",
       "    </tr>\n",
       "    <tr>\n",
       "      <th>min</th>\n",
       "      <td>0.00</td>\n",
       "      <td>0.00</td>\n",
       "      <td>0.00</td>\n",
       "    </tr>\n",
       "    <tr>\n",
       "      <th>25%</th>\n",
       "      <td>0.00</td>\n",
       "      <td>0.00</td>\n",
       "      <td>0.00</td>\n",
       "    </tr>\n",
       "    <tr>\n",
       "      <th>50%</th>\n",
       "      <td>0.00</td>\n",
       "      <td>0.00</td>\n",
       "      <td>0.00</td>\n",
       "    </tr>\n",
       "    <tr>\n",
       "      <th>75%</th>\n",
       "      <td>0.00</td>\n",
       "      <td>0.00</td>\n",
       "      <td>5.54</td>\n",
       "    </tr>\n",
       "    <tr>\n",
       "      <th>max</th>\n",
       "      <td>0.00</td>\n",
       "      <td>0.00</td>\n",
       "      <td>16172.04</td>\n",
       "    </tr>\n",
       "  </tbody>\n",
       "</table>\n",
       "</div>"
      ],
      "text/plain": [
       "           ghi      gti    power\n",
       "count 35040.00 35040.00 70080.00\n",
       "mean      0.00     0.00    28.61\n",
       "std       0.00     0.00   498.80\n",
       "min       0.00     0.00     0.00\n",
       "25%       0.00     0.00     0.00\n",
       "50%       0.00     0.00     0.00\n",
       "75%       0.00     0.00     5.54\n",
       "max       0.00     0.00 16172.04"
      ]
     },
     "execution_count": 90,
     "metadata": {},
     "output_type": "execute_result"
    }
   ],
   "source": [
    "df.describe()"
   ]
  },
  {
   "cell_type": "markdown",
   "metadata": {},
   "source": [
    "ghi and gti : no giving more info, we shall drop it."
   ]
  },
  {
   "cell_type": "code",
   "execution_count": 91,
   "metadata": {},
   "outputs": [],
   "source": [
    "df[\"ghi\"] = df[\"ghi\"].fillna(0.00)\n",
    "df[\"gti\"] = df[\"gti\"].fillna(0.00)"
   ]
  },
  {
   "cell_type": "code",
   "execution_count": 92,
   "metadata": {},
   "outputs": [
    {
     "data": {
      "text/html": [
       "<div>\n",
       "<style scoped>\n",
       "    .dataframe tbody tr th:only-of-type {\n",
       "        vertical-align: middle;\n",
       "    }\n",
       "\n",
       "    .dataframe tbody tr th {\n",
       "        vertical-align: top;\n",
       "    }\n",
       "\n",
       "    .dataframe thead th {\n",
       "        text-align: right;\n",
       "    }\n",
       "</style>\n",
       "<table border=\"1\" class=\"dataframe\">\n",
       "  <thead>\n",
       "    <tr style=\"text-align: right;\">\n",
       "      <th></th>\n",
       "      <th>datetime</th>\n",
       "      <th>ghi</th>\n",
       "      <th>gti</th>\n",
       "      <th>power</th>\n",
       "    </tr>\n",
       "  </thead>\n",
       "  <tbody>\n",
       "    <tr>\n",
       "      <th>0</th>\n",
       "      <td>2017-10-01 00:00:00</td>\n",
       "      <td>0.00</td>\n",
       "      <td>0.00</td>\n",
       "      <td>0.00</td>\n",
       "    </tr>\n",
       "    <tr>\n",
       "      <th>1</th>\n",
       "      <td>2017-10-01 00:15:00</td>\n",
       "      <td>0.00</td>\n",
       "      <td>0.00</td>\n",
       "      <td>0.00</td>\n",
       "    </tr>\n",
       "  </tbody>\n",
       "</table>\n",
       "</div>"
      ],
      "text/plain": [
       "              datetime  ghi  gti  power\n",
       "0  2017-10-01 00:00:00 0.00 0.00   0.00\n",
       "1  2017-10-01 00:15:00 0.00 0.00   0.00"
      ]
     },
     "execution_count": 92,
     "metadata": {},
     "output_type": "execute_result"
    }
   ],
   "source": [
    "df.head(2)"
   ]
  },
  {
   "cell_type": "code",
   "execution_count": 93,
   "metadata": {},
   "outputs": [
    {
     "data": {
      "text/plain": [
       "((70080, 4), (13619, 30), (648, 30))"
      ]
     },
     "execution_count": 93,
     "metadata": {},
     "output_type": "execute_result"
    }
   ],
   "source": [
    "df.shape, df1.shape, df2.shape"
   ]
  },
  {
   "cell_type": "code",
   "execution_count": 94,
   "metadata": {},
   "outputs": [],
   "source": [
    "# df1.head()"
   ]
  },
  {
   "cell_type": "code",
   "execution_count": 95,
   "metadata": {},
   "outputs": [],
   "source": [
    "# df1.info()"
   ]
  },
  {
   "cell_type": "code",
   "execution_count": 96,
   "metadata": {},
   "outputs": [],
   "source": [
    "# df1.describe()"
   ]
  },
  {
   "cell_type": "code",
   "execution_count": 97,
   "metadata": {},
   "outputs": [
    {
     "data": {
      "text/html": [
       "<div>\n",
       "<style scoped>\n",
       "    .dataframe tbody tr th:only-of-type {\n",
       "        vertical-align: middle;\n",
       "    }\n",
       "\n",
       "    .dataframe tbody tr th {\n",
       "        vertical-align: top;\n",
       "    }\n",
       "\n",
       "    .dataframe thead th {\n",
       "        text-align: right;\n",
       "    }\n",
       "</style>\n",
       "<table border=\"1\" class=\"dataframe\">\n",
       "  <thead>\n",
       "    <tr style=\"text-align: right;\">\n",
       "      <th></th>\n",
       "      <th>datetime</th>\n",
       "      <th>ghi</th>\n",
       "      <th>gti</th>\n",
       "      <th>power</th>\n",
       "    </tr>\n",
       "  </thead>\n",
       "  <tbody>\n",
       "    <tr>\n",
       "      <th>0</th>\n",
       "      <td>2017-10-01 00:00:00</td>\n",
       "      <td>0.00</td>\n",
       "      <td>0.00</td>\n",
       "      <td>0.00</td>\n",
       "    </tr>\n",
       "    <tr>\n",
       "      <th>1</th>\n",
       "      <td>2017-10-01 00:15:00</td>\n",
       "      <td>0.00</td>\n",
       "      <td>0.00</td>\n",
       "      <td>0.00</td>\n",
       "    </tr>\n",
       "  </tbody>\n",
       "</table>\n",
       "</div>"
      ],
      "text/plain": [
       "              datetime  ghi  gti  power\n",
       "0  2017-10-01 00:00:00 0.00 0.00   0.00\n",
       "1  2017-10-01 00:15:00 0.00 0.00   0.00"
      ]
     },
     "execution_count": 97,
     "metadata": {},
     "output_type": "execute_result"
    }
   ],
   "source": [
    "df.head(2)"
   ]
  },
  {
   "cell_type": "code",
   "execution_count": null,
   "metadata": {},
   "outputs": [],
   "source": []
  },
  {
   "cell_type": "code",
   "execution_count": 98,
   "metadata": {},
   "outputs": [],
   "source": [
    "df[\"datetime\"] = pd.to_datetime(df[\"datetime\"])"
   ]
  },
  {
   "cell_type": "code",
   "execution_count": 99,
   "metadata": {},
   "outputs": [
    {
     "data": {
      "text/html": [
       "<div>\n",
       "<style scoped>\n",
       "    .dataframe tbody tr th:only-of-type {\n",
       "        vertical-align: middle;\n",
       "    }\n",
       "\n",
       "    .dataframe tbody tr th {\n",
       "        vertical-align: top;\n",
       "    }\n",
       "\n",
       "    .dataframe thead th {\n",
       "        text-align: right;\n",
       "    }\n",
       "</style>\n",
       "<table border=\"1\" class=\"dataframe\">\n",
       "  <thead>\n",
       "    <tr style=\"text-align: right;\">\n",
       "      <th></th>\n",
       "      <th>datetime</th>\n",
       "      <th>ghi</th>\n",
       "      <th>gti</th>\n",
       "      <th>power</th>\n",
       "    </tr>\n",
       "  </thead>\n",
       "  <tbody>\n",
       "    <tr>\n",
       "      <th>0</th>\n",
       "      <td>2017-10-01 00:00:00</td>\n",
       "      <td>0.00</td>\n",
       "      <td>0.00</td>\n",
       "      <td>0.00</td>\n",
       "    </tr>\n",
       "    <tr>\n",
       "      <th>1</th>\n",
       "      <td>2017-10-01 00:15:00</td>\n",
       "      <td>0.00</td>\n",
       "      <td>0.00</td>\n",
       "      <td>0.00</td>\n",
       "    </tr>\n",
       "  </tbody>\n",
       "</table>\n",
       "</div>"
      ],
      "text/plain": [
       "             datetime  ghi  gti  power\n",
       "0 2017-10-01 00:00:00 0.00 0.00   0.00\n",
       "1 2017-10-01 00:15:00 0.00 0.00   0.00"
      ]
     },
     "execution_count": 99,
     "metadata": {},
     "output_type": "execute_result"
    }
   ],
   "source": [
    "df.head(2)"
   ]
  },
  {
   "cell_type": "code",
   "execution_count": 100,
   "metadata": {},
   "outputs": [],
   "source": [
    "df[\"Day\"] = df[\"datetime\"].dt.day\n",
    "df[\"Week\"] = df[\"datetime\"].dt.week\n",
    "df[\"Month\"] = df[\"datetime\"].dt.month\n",
    "df[\"Year\"] = df[\"datetime\"].dt.year"
   ]
  },
  {
   "cell_type": "code",
   "execution_count": 101,
   "metadata": {},
   "outputs": [
    {
     "data": {
      "text/html": [
       "<div>\n",
       "<style scoped>\n",
       "    .dataframe tbody tr th:only-of-type {\n",
       "        vertical-align: middle;\n",
       "    }\n",
       "\n",
       "    .dataframe tbody tr th {\n",
       "        vertical-align: top;\n",
       "    }\n",
       "\n",
       "    .dataframe thead th {\n",
       "        text-align: right;\n",
       "    }\n",
       "</style>\n",
       "<table border=\"1\" class=\"dataframe\">\n",
       "  <thead>\n",
       "    <tr style=\"text-align: right;\">\n",
       "      <th></th>\n",
       "      <th>datetime</th>\n",
       "      <th>ghi</th>\n",
       "      <th>gti</th>\n",
       "      <th>power</th>\n",
       "      <th>Day</th>\n",
       "      <th>Week</th>\n",
       "      <th>Month</th>\n",
       "      <th>Year</th>\n",
       "    </tr>\n",
       "  </thead>\n",
       "  <tbody>\n",
       "    <tr>\n",
       "      <th>70075</th>\n",
       "      <td>2019-09-30 22:45:00</td>\n",
       "      <td>0.00</td>\n",
       "      <td>0.00</td>\n",
       "      <td>0.00</td>\n",
       "      <td>30</td>\n",
       "      <td>40</td>\n",
       "      <td>9</td>\n",
       "      <td>2019</td>\n",
       "    </tr>\n",
       "    <tr>\n",
       "      <th>70076</th>\n",
       "      <td>2019-09-30 23:00:00</td>\n",
       "      <td>0.00</td>\n",
       "      <td>0.00</td>\n",
       "      <td>0.00</td>\n",
       "      <td>30</td>\n",
       "      <td>40</td>\n",
       "      <td>9</td>\n",
       "      <td>2019</td>\n",
       "    </tr>\n",
       "    <tr>\n",
       "      <th>70077</th>\n",
       "      <td>2019-09-30 23:15:00</td>\n",
       "      <td>0.00</td>\n",
       "      <td>0.00</td>\n",
       "      <td>0.00</td>\n",
       "      <td>30</td>\n",
       "      <td>40</td>\n",
       "      <td>9</td>\n",
       "      <td>2019</td>\n",
       "    </tr>\n",
       "    <tr>\n",
       "      <th>70078</th>\n",
       "      <td>2019-09-30 23:30:00</td>\n",
       "      <td>0.00</td>\n",
       "      <td>0.00</td>\n",
       "      <td>0.00</td>\n",
       "      <td>30</td>\n",
       "      <td>40</td>\n",
       "      <td>9</td>\n",
       "      <td>2019</td>\n",
       "    </tr>\n",
       "    <tr>\n",
       "      <th>70079</th>\n",
       "      <td>2019-09-30 23:45:00</td>\n",
       "      <td>0.00</td>\n",
       "      <td>0.00</td>\n",
       "      <td>0.00</td>\n",
       "      <td>30</td>\n",
       "      <td>40</td>\n",
       "      <td>9</td>\n",
       "      <td>2019</td>\n",
       "    </tr>\n",
       "  </tbody>\n",
       "</table>\n",
       "</div>"
      ],
      "text/plain": [
       "                 datetime  ghi  gti  power  Day  Week  Month  Year\n",
       "70075 2019-09-30 22:45:00 0.00 0.00   0.00   30    40      9  2019\n",
       "70076 2019-09-30 23:00:00 0.00 0.00   0.00   30    40      9  2019\n",
       "70077 2019-09-30 23:15:00 0.00 0.00   0.00   30    40      9  2019\n",
       "70078 2019-09-30 23:30:00 0.00 0.00   0.00   30    40      9  2019\n",
       "70079 2019-09-30 23:45:00 0.00 0.00   0.00   30    40      9  2019"
      ]
     },
     "execution_count": 101,
     "metadata": {},
     "output_type": "execute_result"
    }
   ],
   "source": [
    "df.tail()"
   ]
  },
  {
   "cell_type": "code",
   "execution_count": 109,
   "metadata": {},
   "outputs": [
    {
     "data": {
      "text/html": [
       "<div>\n",
       "<style scoped>\n",
       "    .dataframe tbody tr th:only-of-type {\n",
       "        vertical-align: middle;\n",
       "    }\n",
       "\n",
       "    .dataframe tbody tr th {\n",
       "        vertical-align: top;\n",
       "    }\n",
       "\n",
       "    .dataframe thead th {\n",
       "        text-align: right;\n",
       "    }\n",
       "</style>\n",
       "<table border=\"1\" class=\"dataframe\">\n",
       "  <thead>\n",
       "    <tr style=\"text-align: right;\">\n",
       "      <th></th>\n",
       "      <th>plant_id</th>\n",
       "      <th>datetime_utc</th>\n",
       "      <th>datetime_local</th>\n",
       "      <th>cloud_cover</th>\n",
       "      <th>apparent_temperature</th>\n",
       "      <th>temperature</th>\n",
       "      <th>humidity</th>\n",
       "      <th>dew_point</th>\n",
       "      <th>wind_bearing</th>\n",
       "      <th>wind_speed</th>\n",
       "      <th>wind_chill</th>\n",
       "      <th>wind_gust</th>\n",
       "      <th>heat_index</th>\n",
       "      <th>pressure</th>\n",
       "      <th>qpf</th>\n",
       "      <th>uv_index</th>\n",
       "      <th>snow</th>\n",
       "      <th>pop</th>\n",
       "      <th>fctcode</th>\n",
       "      <th>ozone</th>\n",
       "      <th>precip_accumulation</th>\n",
       "      <th>precip_intensity</th>\n",
       "      <th>precip_probability</th>\n",
       "      <th>precip_type</th>\n",
       "      <th>visibility</th>\n",
       "      <th>sunrise</th>\n",
       "      <th>sunset</th>\n",
       "      <th>icon</th>\n",
       "      <th>summary</th>\n",
       "      <th>updated_at</th>\n",
       "    </tr>\n",
       "  </thead>\n",
       "  <tbody>\n",
       "    <tr>\n",
       "      <th>0</th>\n",
       "      <td>1</td>\n",
       "      <td>2017-09-30 18:30:00</td>\n",
       "      <td>2017-10-01 00:00:00</td>\n",
       "      <td>0.00</td>\n",
       "      <td>26.52</td>\n",
       "      <td>26</td>\n",
       "      <td>1</td>\n",
       "      <td>19.46</td>\n",
       "      <td>308</td>\n",
       "      <td>0.83</td>\n",
       "      <td>-9999.00</td>\n",
       "      <td>-9999.00</td>\n",
       "      <td>-9999.00</td>\n",
       "      <td>1007.90</td>\n",
       "      <td>-9999.00</td>\n",
       "      <td>-9999</td>\n",
       "      <td>-9999.00</td>\n",
       "      <td>-9999.00</td>\n",
       "      <td>-9999.00</td>\n",
       "      <td>-9999.00</td>\n",
       "      <td>-9999.00</td>\n",
       "      <td>-9999.00</td>\n",
       "      <td>-9999.00</td>\n",
       "      <td>rain</td>\n",
       "      <td>3.57</td>\n",
       "      <td>2017-10-01 00:52:02</td>\n",
       "      <td>2017-10-01 12:45:07</td>\n",
       "      <td>clear-night</td>\n",
       "      <td>Clear</td>\n",
       "      <td>2019-07-16 16:37:16</td>\n",
       "    </tr>\n",
       "    <tr>\n",
       "      <th>1</th>\n",
       "      <td>1</td>\n",
       "      <td>2017-09-30 19:30:00</td>\n",
       "      <td>2017-10-01 01:00:00</td>\n",
       "      <td>0.00</td>\n",
       "      <td>28.78</td>\n",
       "      <td>27</td>\n",
       "      <td>1</td>\n",
       "      <td>20.06</td>\n",
       "      <td>-9999</td>\n",
       "      <td>-9999.00</td>\n",
       "      <td>-9999.00</td>\n",
       "      <td>-9999.00</td>\n",
       "      <td>-9999.00</td>\n",
       "      <td>-9999.00</td>\n",
       "      <td>-9999.00</td>\n",
       "      <td>-9999</td>\n",
       "      <td>-9999.00</td>\n",
       "      <td>-9999.00</td>\n",
       "      <td>-9999.00</td>\n",
       "      <td>-9999.00</td>\n",
       "      <td>-9999.00</td>\n",
       "      <td>-9999.00</td>\n",
       "      <td>-9999.00</td>\n",
       "      <td>rain</td>\n",
       "      <td>3.06</td>\n",
       "      <td>2017-10-01 00:52:02</td>\n",
       "      <td>2017-10-01 12:45:07</td>\n",
       "      <td>fog</td>\n",
       "      <td>Foggy</td>\n",
       "      <td>2019-07-16 16:37:16</td>\n",
       "    </tr>\n",
       "    <tr>\n",
       "      <th>2</th>\n",
       "      <td>1</td>\n",
       "      <td>2017-09-30 20:30:00</td>\n",
       "      <td>2017-10-01 02:00:00</td>\n",
       "      <td>0.00</td>\n",
       "      <td>26.58</td>\n",
       "      <td>26</td>\n",
       "      <td>1</td>\n",
       "      <td>19.97</td>\n",
       "      <td>-9999</td>\n",
       "      <td>-9999.00</td>\n",
       "      <td>-9999.00</td>\n",
       "      <td>-9999.00</td>\n",
       "      <td>-9999.00</td>\n",
       "      <td>-9999.00</td>\n",
       "      <td>-9999.00</td>\n",
       "      <td>-9999</td>\n",
       "      <td>-9999.00</td>\n",
       "      <td>-9999.00</td>\n",
       "      <td>-9999.00</td>\n",
       "      <td>-9999.00</td>\n",
       "      <td>-9999.00</td>\n",
       "      <td>-9999.00</td>\n",
       "      <td>-9999.00</td>\n",
       "      <td>rain</td>\n",
       "      <td>3.06</td>\n",
       "      <td>2017-10-01 00:52:02</td>\n",
       "      <td>2017-10-01 12:45:07</td>\n",
       "      <td>fog</td>\n",
       "      <td>Foggy</td>\n",
       "      <td>2019-07-16 16:37:16</td>\n",
       "    </tr>\n",
       "    <tr>\n",
       "      <th>3</th>\n",
       "      <td>1</td>\n",
       "      <td>2017-09-30 21:30:00</td>\n",
       "      <td>2017-10-01 03:00:00</td>\n",
       "      <td>0.00</td>\n",
       "      <td>23.84</td>\n",
       "      <td>23</td>\n",
       "      <td>1</td>\n",
       "      <td>18.66</td>\n",
       "      <td>270</td>\n",
       "      <td>0.45</td>\n",
       "      <td>-9999.00</td>\n",
       "      <td>-9999.00</td>\n",
       "      <td>-9999.00</td>\n",
       "      <td>1008.12</td>\n",
       "      <td>-9999.00</td>\n",
       "      <td>-9999</td>\n",
       "      <td>-9999.00</td>\n",
       "      <td>-9999.00</td>\n",
       "      <td>-9999.00</td>\n",
       "      <td>-9999.00</td>\n",
       "      <td>-9999.00</td>\n",
       "      <td>-9999.00</td>\n",
       "      <td>-9999.00</td>\n",
       "      <td>rain</td>\n",
       "      <td>3.56</td>\n",
       "      <td>2017-10-01 00:52:02</td>\n",
       "      <td>2017-10-01 12:45:07</td>\n",
       "      <td>clear-night</td>\n",
       "      <td>Clear</td>\n",
       "      <td>2019-07-16 16:37:16</td>\n",
       "    </tr>\n",
       "    <tr>\n",
       "      <th>4</th>\n",
       "      <td>1</td>\n",
       "      <td>2017-09-30 22:30:00</td>\n",
       "      <td>2017-10-01 04:00:00</td>\n",
       "      <td>0.00</td>\n",
       "      <td>24.13</td>\n",
       "      <td>24</td>\n",
       "      <td>1</td>\n",
       "      <td>17.84</td>\n",
       "      <td>-9999</td>\n",
       "      <td>-9999.00</td>\n",
       "      <td>-9999.00</td>\n",
       "      <td>-9999.00</td>\n",
       "      <td>-9999.00</td>\n",
       "      <td>-9999.00</td>\n",
       "      <td>-9999.00</td>\n",
       "      <td>-9999</td>\n",
       "      <td>-9999.00</td>\n",
       "      <td>-9999.00</td>\n",
       "      <td>-9999.00</td>\n",
       "      <td>-9999.00</td>\n",
       "      <td>-9999.00</td>\n",
       "      <td>-9999.00</td>\n",
       "      <td>-9999.00</td>\n",
       "      <td>rain</td>\n",
       "      <td>3.06</td>\n",
       "      <td>2017-10-01 00:52:02</td>\n",
       "      <td>2017-10-01 12:45:07</td>\n",
       "      <td>fog</td>\n",
       "      <td>Foggy</td>\n",
       "      <td>2019-07-16 16:37:16</td>\n",
       "    </tr>\n",
       "  </tbody>\n",
       "</table>\n",
       "</div>"
      ],
      "text/plain": [
       "   plant_id         datetime_utc       datetime_local  cloud_cover  \\\n",
       "0         1  2017-09-30 18:30:00  2017-10-01 00:00:00         0.00   \n",
       "1         1  2017-09-30 19:30:00  2017-10-01 01:00:00         0.00   \n",
       "2         1  2017-09-30 20:30:00  2017-10-01 02:00:00         0.00   \n",
       "3         1  2017-09-30 21:30:00  2017-10-01 03:00:00         0.00   \n",
       "4         1  2017-09-30 22:30:00  2017-10-01 04:00:00         0.00   \n",
       "\n",
       "   apparent_temperature  temperature  humidity  dew_point  wind_bearing  \\\n",
       "0                 26.52           26         1      19.46           308   \n",
       "1                 28.78           27         1      20.06         -9999   \n",
       "2                 26.58           26         1      19.97         -9999   \n",
       "3                 23.84           23         1      18.66           270   \n",
       "4                 24.13           24         1      17.84         -9999   \n",
       "\n",
       "   wind_speed  wind_chill  wind_gust  heat_index  pressure      qpf  uv_index  \\\n",
       "0        0.83    -9999.00   -9999.00    -9999.00   1007.90 -9999.00     -9999   \n",
       "1    -9999.00    -9999.00   -9999.00    -9999.00  -9999.00 -9999.00     -9999   \n",
       "2    -9999.00    -9999.00   -9999.00    -9999.00  -9999.00 -9999.00     -9999   \n",
       "3        0.45    -9999.00   -9999.00    -9999.00   1008.12 -9999.00     -9999   \n",
       "4    -9999.00    -9999.00   -9999.00    -9999.00  -9999.00 -9999.00     -9999   \n",
       "\n",
       "      snow      pop  fctcode    ozone  precip_accumulation  precip_intensity  \\\n",
       "0 -9999.00 -9999.00 -9999.00 -9999.00             -9999.00          -9999.00   \n",
       "1 -9999.00 -9999.00 -9999.00 -9999.00             -9999.00          -9999.00   \n",
       "2 -9999.00 -9999.00 -9999.00 -9999.00             -9999.00          -9999.00   \n",
       "3 -9999.00 -9999.00 -9999.00 -9999.00             -9999.00          -9999.00   \n",
       "4 -9999.00 -9999.00 -9999.00 -9999.00             -9999.00          -9999.00   \n",
       "\n",
       "   precip_probability precip_type  visibility              sunrise  \\\n",
       "0            -9999.00        rain        3.57  2017-10-01 00:52:02   \n",
       "1            -9999.00        rain        3.06  2017-10-01 00:52:02   \n",
       "2            -9999.00        rain        3.06  2017-10-01 00:52:02   \n",
       "3            -9999.00        rain        3.56  2017-10-01 00:52:02   \n",
       "4            -9999.00        rain        3.06  2017-10-01 00:52:02   \n",
       "\n",
       "                sunset         icon summary           updated_at  \n",
       "0  2017-10-01 12:45:07  clear-night   Clear  2019-07-16 16:37:16  \n",
       "1  2017-10-01 12:45:07          fog   Foggy  2019-07-16 16:37:16  \n",
       "2  2017-10-01 12:45:07          fog   Foggy  2019-07-16 16:37:16  \n",
       "3  2017-10-01 12:45:07  clear-night   Clear  2019-07-16 16:37:16  \n",
       "4  2017-10-01 12:45:07          fog   Foggy  2019-07-16 16:37:16  "
      ]
     },
     "execution_count": 109,
     "metadata": {},
     "output_type": "execute_result"
    }
   ],
   "source": [
    "df1.head()"
   ]
  },
  {
   "cell_type": "code",
   "execution_count": 111,
   "metadata": {},
   "outputs": [
    {
     "data": {
      "image/png": "[encoded data removed]",
      "text/plain": [
       "<Figure size 1440x360 with 2 Axes>"
      ]
     },
     "metadata": {
      "needs_background": "light"
     },
     "output_type": "display_data"
    }
   ],
   "source": [
    "fig, axes = plt.subplots(nrows = 2, sharex=False, figsize=(20, 5))\n",
    "fig.subplots_adjust(top = 2.5)\n",
    "ax = df.plot(x = 'datetime', logy = True, title = 'Plant 1', rot = 20, ax = axes[0]); \n"
   ]
  },
  {
   "cell_type": "code",
   "execution_count": null,
   "metadata": {},
   "outputs": [],
   "source": []
  }
 ],
 "metadata": {
  "kernelspec": {
   "display_name": "Python 3",
   "language": "python",
   "name": "python3"
  },
  "language_info": {
   "codemirror_mode": {
    "name": "ipython",
    "version": 3
   },
   "file_extension": ".py",
   "mimetype": "text/x-python",
   "name": "python",
   "nbconvert_exporter": "python",
   "pygments_lexer": "ipython3",
   "version": "3.8.5"
  }
 },
 "nbformat": 4,
 "nbformat_minor": 4
}
