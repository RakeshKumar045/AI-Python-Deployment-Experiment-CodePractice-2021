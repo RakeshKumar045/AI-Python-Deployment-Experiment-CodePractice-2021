{
 "cells": [
  {
   "cell_type": "code",
   "execution_count": 2,
   "metadata": {},
   "outputs": [],
   "source": [
    "import collections\n",
    "\n",
    "from collections import Counter\n",
    "import random\n",
    "import numpy as np\n"
   ]
  },
  {
   "cell_type": "code",
   "execution_count": 3,
   "metadata": {},
   "outputs": [],
   "source": [
    "\n",
    "class Dice():\n",
    "    def __init__(self,  number, sides):\n",
    "        self.sides = sides\n",
    "        self.number = number\n",
    "        self.types_of_shape = [4,6,8,10,12,20]\n",
    "\n",
    "    def roll(self):\n",
    "        \n",
    "        if self.number == 0:\n",
    "            return \"Please enter valid number and zero is invalid number\"\n",
    "        \n",
    "        if self.sides in self.types_of_shape:\n",
    "            for ind in range(self.number):\n",
    "                print( ind+1 ,\" times rolled: \",random.randint(1, self.sides))\n",
    "        else:\n",
    "            print(\"please enter valid shape example : \", self.types_of_shape)\n"
   ]
  },
  {
   "cell_type": "code",
   "execution_count": 4,
   "metadata": {},
   "outputs": [
    {
     "name": "stdout",
     "output_type": "stream",
     "text": [
      "please enter number4\n",
      "please enter no of sides3\n",
      "\n",
      "\n",
      "\n",
      "please enter valid shape example :  [4, 6, 8, 10, 12, 20]\n"
     ]
    }
   ],
   "source": [
    "num = int(input(\"please enter number\"))\n",
    "numer_of_sides = int(input(\"please enter no of sides\"))\n",
    "\n",
    "print(\"\\n\\n\")\n",
    "\n",
    "d = Dice(num, numer_of_sides)\n",
    "\n",
    "d.roll()"
   ]
  },
  {
   "cell_type": "code",
   "execution_count": null,
   "metadata": {},
   "outputs": [],
   "source": []
  }
 ],
 "metadata": {
  "kernelspec": {
   "display_name": "Python 3",
   "language": "python",
   "name": "python3"
  },
  "language_info": {
   "codemirror_mode": {
    "name": "ipython",
    "version": 3
   },
   "file_extension": ".py",
   "mimetype": "text/x-python",
   "name": "python",
   "nbconvert_exporter": "python",
   "pygments_lexer": "ipython3",
   "version": "3.7.9"
  }
 },
 "nbformat": 4,
 "nbformat_minor": 4
}
