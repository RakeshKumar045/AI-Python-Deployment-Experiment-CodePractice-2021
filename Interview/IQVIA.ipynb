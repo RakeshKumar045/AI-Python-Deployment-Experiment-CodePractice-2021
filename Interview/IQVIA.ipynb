{
 "cells": [
  {
   "cell_type": "code",
   "execution_count": null,
   "metadata": {},
   "outputs": [],
   "source": [
    "s = \"trishala raka trishala ananya rakesh ananya trishala\"\n",
    "output : \"anaya trishala\""
   ]
  },
  {
   "cell_type": "code",
   "execution_count": null,
   "metadata": {},
   "outputs": [],
   "source": []
  },
  {
   "cell_type": "code",
   "execution_count": 4,
   "metadata": {},
   "outputs": [
    {
     "name": "stdout",
     "output_type": "stream",
     "text": [
      "4\n",
      "6\n"
     ]
    }
   ],
   "source": [
    "for i in range(4, 8, 2):\n",
    "    print(i)"
   ]
  },
  {
   "cell_type": "code",
   "execution_count": 5,
   "metadata": {},
   "outputs": [
    {
     "data": {
      "text/plain": [
       "[4, 6]"
      ]
     },
     "execution_count": 5,
     "metadata": {},
     "output_type": "execute_result"
    }
   ],
   "source": [
    "l = [i for i in range(4, 8, 2)]\n",
    "l"
   ]
  },
  {
   "cell_type": "code",
   "execution_count": null,
   "metadata": {},
   "outputs": [],
   "source": []
  },
  {
   "cell_type": "code",
   "execution_count": 10,
   "metadata": {},
   "outputs": [
    {
     "data": {
      "text/plain": [
       "['blabk', 'brick', 'black', 'blue', 'blah', 'black']"
      ]
     },
     "execution_count": 10,
     "metadata": {},
     "output_type": "execute_result"
    }
   ],
   "source": [
    "input_val = \"cat batman latt matter cat matter cat\"\n",
    "\n",
    "s = \"trishala raka trishala ananya rakesh ananya trishala\"\n",
    "\n",
    "\n",
    "input_val1 = \"blabk brick black blue blah black\"\n",
    "l = input_val1.split()\n",
    "l"
   ]
  },
  {
   "cell_type": "code",
   "execution_count": 11,
   "metadata": {},
   "outputs": [
    {
     "name": "stdout",
     "output_type": "stream",
     "text": [
      "['cat', 'matter']\n",
      "cat matter\n"
     ]
    }
   ],
   "source": [
    "import collections\n",
    "\n",
    "l = input_val.split(\" \")\n",
    "\n",
    "\n",
    "\n",
    "# res=[item for item, count in collections.Counter(l).items() if count > 1]\n",
    "res=[item for item, count in collections.Counter(l).items() if count > 1]\n",
    "\n",
    "\n",
    "res = sorted(res)\n",
    "\n",
    "\n",
    "\n",
    "\n",
    "str1 = ' '.join(res)\n",
    "\n",
    "\n",
    "print(res)\n",
    "print(str1)"
   ]
  },
  {
   "cell_type": "code",
   "execution_count": 12,
   "metadata": {},
   "outputs": [
    {
     "data": {
      "text/plain": [
       "['cool', 'like', 'love', 'my', 'play']"
      ]
     },
     "execution_count": 12,
     "metadata": {},
     "output_type": "execute_result"
    }
   ],
   "source": [
    "items2 = [\"love\", \"like\", \"play\", \"cool\", \"my\"]\n",
    "sorted(items2)"
   ]
  },
  {
   "cell_type": "code",
   "execution_count": null,
   "metadata": {},
   "outputs": [],
   "source": []
  }
 ],
 "metadata": {
  "kernelspec": {
   "display_name": "Python 3",
   "language": "python",
   "name": "python3"
  },
  "language_info": {
   "codemirror_mode": {
    "name": "ipython",
    "version": 3
   },
   "file_extension": ".py",
   "mimetype": "text/x-python",
   "name": "python",
   "nbconvert_exporter": "python",
   "pygments_lexer": "ipython3",
   "version": "3.7.9"
  }
 },
 "nbformat": 4,
 "nbformat_minor": 4
}
