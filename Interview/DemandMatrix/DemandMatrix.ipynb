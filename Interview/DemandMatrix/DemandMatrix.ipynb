{
 "cells": [
  {
   "cell_type": "code",
   "execution_count": 1,
   "metadata": {
    "scrolled": true
   },
   "outputs": [
    {
     "name": "stdout",
     "output_type": "stream",
     "text": [
      "[0, 1]\n",
      "[3, 2, 1, 0, 1, 4]\n",
      "[0, 1, 0, 1, 4]\n"
     ]
    }
   ],
   "source": [
    "def func(x,l=[]):\n",
    "    for i in range(x):\n",
    "        l.append(i*i)\n",
    "    print(l) \n",
    "\n",
    "func(2)\n",
    "func(3,[3,2,1])\n",
    "func(3)"
   ]
  },
  {
   "cell_type": "code",
   "execution_count": 20,
   "metadata": {},
   "outputs": [
    {
     "data": {
      "text/plain": [
       "'Write a class implementation in Python to represent an Employee with \\nfollowing fields: Name as String, Age as int, Gender as String, Salary as float,\\n\\n'"
      ]
     },
     "execution_count": 20,
     "metadata": {},
     "output_type": "execute_result"
    }
   ],
   "source": [
    "\"\"\"Write a class implementation in Python to represent an Employee with \n",
    "following fields: Name as String, Age as int, Gender as String, Salary as float,\n",
    "\n",
    "\"\"\""
   ]
  },
  {
   "cell_type": "code",
   "execution_count": 3,
   "metadata": {},
   "outputs": [],
   "source": [
    "class Employee:\n",
    "    def __init__(self, name, age, gender, salary):\n",
    "        self.__name = name\n",
    "        self.age = age\n",
    "        self.__gender = gender\n",
    "        self.__salary = salary\n",
    "\n",
    "    def detail(self):\n",
    "        print(\"Name :\", self.name)\n",
    "        print(\"Age :\", self.age)\n",
    "        print(\"Gender :\", self.gender)\n",
    "        print(\"Salary :\", self.__salary)\n"
   ]
  },
  {
   "cell_type": "code",
   "execution_count": 8,
   "metadata": {},
   "outputs": [
    {
     "name": "stdout",
     "output_type": "stream",
     "text": [
      "Name : Rakesh\n",
      "Age : 29\n",
      "Gender : male\n",
      "Salary : 55000\n"
     ]
    }
   ],
   "source": [
    "class Employee:\n",
    "    def __init__(self, name, age, gender, salary):\n",
    "        self.name = name\n",
    "        self.age = age\n",
    "        self.gender = gender\n",
    "        self.salary = salary\n",
    "\n",
    "    def detail(self):\n",
    "        print(\"Name :\", self.name)\n",
    "        print(\"Age :\", self.age)\n",
    "        print(\"Gender :\", self.gender)\n",
    "        print(\"Salary :\", self.salary)\n",
    "\n",
    "\n",
    "def main():\n",
    "    emp = Employee('Rakesh',29,'male',55000)\n",
    "    emp.detail()\n",
    "\n",
    "if __name__==\"__main__\":\n",
    "    main()"
   ]
  },
  {
   "cell_type": "code",
   "execution_count": null,
   "metadata": {},
   "outputs": [],
   "source": [
    "Given a directory path containing text files, write Python code to iterate through all files and group data contained in the files under common keys adding their reference counts.\n",
    "\n",
    "The text files would have rows of data containing:\n",
    "Name,Website,Email\n"
   ]
  },
  {
   "cell_type": "code",
   "execution_count": 19,
   "metadata": {},
   "outputs": [
    {
     "name": "stdout",
     "output_type": "stream",
     "text": [
      "untitled1.txt\n",
      "untitled.txt\n",
      "Diabetes_Predictor/requirements.txt\n",
      "['untitled1.txt', 'untitled.txt', 'Diabetes_Predictor/requirements.txt']\n",
      "Name,Website,Email\n",
      "Name,Website,Email\n",
      "Flask==1.1.1\n",
      "\n"
     ]
    }
   ],
   "source": [
    "\n",
    "import glob\n",
    "\n",
    "l =[]\n",
    "\n",
    "for filename in glob.glob('**/*.txt', recursive=True):\n",
    "    print(filename)\n",
    "    l.append(filename)\n",
    "print(l)\n",
    "\n",
    "for i in l: \n",
    "    f = open(str(i), 'r')\n",
    "    print(f.readline())"
   ]
  },
  {
   "cell_type": "code",
   "execution_count": null,
   "metadata": {},
   "outputs": [],
   "source": [
    "Most of the resumes have similar sections detailing skills, technologies and experiences and projects. Now can you suggest an approach for discovering organizations using open source technologies like Linux, Hadoop if you are give a set of around 10K resumes? \n",
    "\n",
    "Do not write any code. \n",
    "\n",
    "We are looking for a creative and out-of-box thinking approach."
   ]
  },
  {
   "cell_type": "code",
   "execution_count": null,
   "metadata": {},
   "outputs": [],
   "source": []
  }
 ],
 "metadata": {
  "kernelspec": {
   "display_name": "Python 3",
   "language": "python",
   "name": "python3"
  },
  "language_info": {
   "codemirror_mode": {
    "name": "ipython",
    "version": 3
   },
   "file_extension": ".py",
   "mimetype": "text/x-python",
   "name": "python",
   "nbconvert_exporter": "python",
   "pygments_lexer": "ipython3",
   "version": "3.8.5"
  }
 },
 "nbformat": 4,
 "nbformat_minor": 4
}
