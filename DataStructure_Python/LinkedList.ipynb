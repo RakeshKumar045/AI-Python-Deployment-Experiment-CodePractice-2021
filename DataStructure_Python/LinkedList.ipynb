{
 "cells": [
  {
   "cell_type": "code",
   "execution_count": 43,
   "metadata": {},
   "outputs": [],
   "source": [
    "class Node:\n",
    "    def __init__(self, data):\n",
    "        self.data = data\n",
    "        self.next = None\n",
    "        \n"
   ]
  },
  {
   "cell_type": "code",
   "execution_count": 91,
   "metadata": {},
   "outputs": [],
   "source": [
    "class LinkedList:\n",
    "    def __init__(self):\n",
    "        self.head = None\n",
    "    \n",
    "    def display(self):\n",
    "        temp = self.head\n",
    "        while(temp):\n",
    "            print(temp.data)\n",
    "            temp = temp.next\n",
    "        \n",
    "    def get_length(self):\n",
    "        temp = self.head\n",
    "        count = 0\n",
    "        while(temp):\n",
    "            temp = temp.next\n",
    "            count += 1 \n",
    "        return count\n",
    "    \n",
    "    def get_list_value(self):\n",
    "        temp = self.head\n",
    "        arr = []\n",
    "        while(temp):\n",
    "            arr.append(temp.data)\n",
    "            temp = temp.next\n",
    "        return arr\n",
    "    \n",
    "    # Function to insert a new node at the beginning\n",
    "        \n",
    "    def insert(self, new_data):\n",
    "        new_node = Node(new_data)\n",
    "        new_node.next = self.head\n",
    "        self.head = new_node\n",
    "    \n",
    "    def add(self, data ) :\n",
    "        node = Node( data )\n",
    "        if self.head == None :\n",
    "            self.head = node\n",
    "        else :\n",
    "            node.next = self.head\n",
    "            node.next.prev = node\n",
    "            self.head = node\n",
    "        \n",
    "        \n",
    "#     def insert(self, new_data):\n",
    "#         new_node = Node(new_data)\n",
    "        \n",
    "#         if(self.head):\n",
    "#             temp = self.head\n",
    "#             while(temp.next):\n",
    "#                 temp = temp.next\n",
    "#                 temp.next = new_node\n",
    "#         else:\n",
    "#             self.head = new_node\n",
    "            \n",
    "            \n",
    "#     def insert(self, data):\n",
    "#         newNode = Node(data)\n",
    "#         if(self.head):\n",
    "#             current = self.head\n",
    "#             while(current.next):\n",
    "#                 current = current.next\n",
    "#                 current.next = newNode\n",
    "#         else:\n",
    "#             self.head = newNode"
   ]
  },
  {
   "cell_type": "code",
   "execution_count": null,
   "metadata": {},
   "outputs": [],
   "source": []
  },
  {
   "cell_type": "code",
   "execution_count": null,
   "metadata": {},
   "outputs": [],
   "source": []
  },
  {
   "cell_type": "code",
   "execution_count": null,
   "metadata": {},
   "outputs": [],
   "source": []
  },
  {
   "cell_type": "code",
   "execution_count": null,
   "metadata": {},
   "outputs": [],
   "source": []
  },
  {
   "cell_type": "code",
   "execution_count": 95,
   "metadata": {},
   "outputs": [
    {
     "name": "stdout",
     "output_type": "stream",
     "text": [
      "10\n",
      "12\n",
      "16\n",
      "[10, 12, 16]\n"
     ]
    }
   ],
   "source": [
    "if __name__ == \"__main__\":\n",
    "    llist = LinkedList()\n",
    "    first = Node(10)\n",
    "    second = Node(12)\n",
    "    third = Node(16)\n",
    "    forth = Node(18)\n",
    "    \n",
    "    \n",
    "    \n",
    "    \n",
    "    \n",
    "    \n",
    "    llist.head = first\n",
    "\n",
    "    \n",
    "\n",
    "#     llist.head.next = second # or first.next = second\n",
    "    #or\n",
    "    first.next = second\n",
    "    \n",
    "#     print(first)\n",
    "#     print(first.data)\n",
    "#     print(first.next)\n",
    "    \n",
    "    \n",
    "    second.next = third\n",
    "    \n",
    "    llist.display()\n",
    "    ll.insert(99)\n",
    "#     print(llist.get_length())\n",
    "    print(llist.get_list_value())\n",
    "#     print(llist.display())"
   ]
  },
  {
   "cell_type": "code",
   "execution_count": null,
   "metadata": {},
   "outputs": [],
   "source": []
  },
  {
   "cell_type": "code",
   "execution_count": 90,
   "metadata": {
    "scrolled": true
   },
   "outputs": [
    {
     "name": "stdout",
     "output_type": "stream",
     "text": [
      "22\n",
      "11\n",
      "9\n",
      "99\n",
      "8\n",
      "7\n",
      "3\n",
      "2\n",
      "8\n",
      "[22, 11, 9, 99, 8, 7, 3, 2]\n"
     ]
    }
   ],
   "source": [
    "if __name__ == \"__main__\":\n",
    "    ll = LinkedList()\n",
    "    \n",
    "    val_list = [2,3,7,8,99]\n",
    "    \n",
    "    for i in val_list:\n",
    "        ll.insert(i)\n",
    "        \n",
    "  \n",
    "    ll.add(9)\n",
    "    ll.add(11)\n",
    "    ll.add(22)\n",
    "    ll.display()\n",
    "    print(ll.get_length())\n",
    "    print(ll.get_list_value())\n",
    "    "
   ]
  },
  {
   "cell_type": "code",
   "execution_count": null,
   "metadata": {},
   "outputs": [],
   "source": []
  },
  {
   "cell_type": "code",
   "execution_count": null,
   "metadata": {},
   "outputs": [],
   "source": []
  },
  {
   "cell_type": "code",
   "execution_count": null,
   "metadata": {},
   "outputs": [],
   "source": []
  },
  {
   "cell_type": "code",
   "execution_count": null,
   "metadata": {},
   "outputs": [],
   "source": []
  },
  {
   "cell_type": "code",
   "execution_count": null,
   "metadata": {},
   "outputs": [],
   "source": []
  },
  {
   "cell_type": "code",
   "execution_count": null,
   "metadata": {},
   "outputs": [],
   "source": []
  }
 ],
 "metadata": {
  "kernelspec": {
   "display_name": "Python 3",
   "language": "python",
   "name": "python3"
  },
  "language_info": {
   "codemirror_mode": {
    "name": "ipython",
    "version": 3
   },
   "file_extension": ".py",
   "mimetype": "text/x-python",
   "name": "python",
   "nbconvert_exporter": "python",
   "pygments_lexer": "ipython3",
   "version": "3.8.5"
  }
 },
 "nbformat": 4,
 "nbformat_minor": 4
}
