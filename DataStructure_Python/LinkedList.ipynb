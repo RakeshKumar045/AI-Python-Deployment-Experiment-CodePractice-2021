{
 "cells": [
  {
   "cell_type": "code",
   "execution_count": 1,
   "metadata": {},
   "outputs": [],
   "source": [
    "class Node:\n",
    "    def __init__(self, data):\n",
    "        self.data = data\n",
    "        self.next = None\n",
    "        \n",
    "class LinkedList:\n",
    "    def __init__(self):\n",
    "        self.head = None\n",
    "    \n",
    "    def display(self):\n",
    "        temp = self.head\n",
    "        while(temp):\n",
    "            print(temp.data)\n",
    "            temp = temp.next\n",
    "        \n",
    "    def get_length(self):\n",
    "        temp = self.head\n",
    "        count = 0\n",
    "        while(temp):\n",
    "            temp = temp.next\n",
    "            count += 1 \n",
    "        return count\n",
    "    \n",
    "    def get_list_value(self):\n",
    "        temp = self.head\n",
    "        arr = []\n",
    "        while(temp):\n",
    "            arr.append(temp.data)\n",
    "            temp = temp.next\n",
    "        return arr\n",
    "    \n",
    "    # Function to insert a new node at the beginning\n",
    "    def push(self, new_data):\n",
    "        new_node = Node(new_data)\n",
    "        new_node.next = self.head\n",
    "        self.head = new_node\n",
    "        "
   ]
  },
  {
   "cell_type": "code",
   "execution_count": 2,
   "metadata": {},
   "outputs": [
    {
     "name": "stdout",
     "output_type": "stream",
     "text": [
      "10\n",
      "12\n",
      "16\n",
      "3\n",
      "[10, 12, 16]\n"
     ]
    }
   ],
   "source": [
    "if __name__ == \"__main__\":\n",
    "    llist = LinkedList()\n",
    "    n = Node(10)\n",
    "    llist.head = n\n",
    "\n",
    "    second = Node(12)\n",
    "    third = Node(16)\n",
    "\n",
    "    llist.head.next = second\n",
    "    second.next = third\n",
    "    \n",
    "    llist.display()\n",
    "    print(llist.get_length())\n",
    "    print(llist.get_list_value())"
   ]
  },
  {
   "cell_type": "code",
   "execution_count": 3,
   "metadata": {},
   "outputs": [
    {
     "name": "stdout",
     "output_type": "stream",
     "text": [
      "9\n",
      "8\n",
      "7\n",
      "3\n",
      "2\n",
      "5\n",
      "[9, 8, 7, 3, 2]\n"
     ]
    }
   ],
   "source": [
    "if __name__ == \"__main__\":\n",
    "    ll = LinkedList()\n",
    "    \n",
    "    val_list = [2,3,7,8,9]\n",
    "    \n",
    "    for i in val_list:\n",
    "        ll.push(i)\n",
    "        \n",
    "  \n",
    "    \n",
    "    ll.display()\n",
    "    print(ll.get_length())\n",
    "    print(ll.get_list_value())"
   ]
  },
  {
   "cell_type": "code",
   "execution_count": 4,
   "metadata": {},
   "outputs": [
    {
     "ename": "SyntaxError",
     "evalue": "invalid syntax (<ipython-input-4-28309d09d2de>, line 1)",
     "output_type": "error",
     "traceback": [
      "\u001b[0;36m  File \u001b[0;32m\"<ipython-input-4-28309d09d2de>\"\u001b[0;36m, line \u001b[0;32m1\u001b[0m\n\u001b[0;31m    Input:\u001b[0m\n\u001b[0m           ^\u001b[0m\n\u001b[0;31mSyntaxError\u001b[0m\u001b[0;31m:\u001b[0m invalid syntax\n"
     ]
    }
   ],
   "source": [
    "Input: \n",
    "List1: 5->6->3 // represents number 563 \n",
    "List2: 8->4->2 // represents number 842 \n",
    "\n",
    "Output: \n",
    "Resultant list: 1->4->0->5 // represents number 1405 \n",
    "Explanation: 563 + 842 = 1405\n",
    "\n",
    "    \n",
    "Input: \n",
    "List1: 7->5->9->4->6 // represents number 75946\n",
    "List2: 8->4 // represents number 84\n",
    "\n",
    "    \n",
    "Output: \n",
    "Resultant list: 7->6->0->3->0// represents number 76030\n",
    "Explanation: 75946+84=76030"
   ]
  },
  {
   "cell_type": "code",
   "execution_count": null,
   "metadata": {},
   "outputs": [],
   "source": []
  }
 ],
 "metadata": {
  "kernelspec": {
   "display_name": "Python 3",
   "language": "python",
   "name": "python3"
  },
  "language_info": {
   "codemirror_mode": {
    "name": "ipython",
    "version": 3
   },
   "file_extension": ".py",
   "mimetype": "text/x-python",
   "name": "python",
   "nbconvert_exporter": "python",
   "pygments_lexer": "ipython3",
   "version": "3.8.5"
  }
 },
 "nbformat": 4,
 "nbformat_minor": 4
}
